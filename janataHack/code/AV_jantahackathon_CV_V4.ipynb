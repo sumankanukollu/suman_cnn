{
  "nbformat": 4,
  "nbformat_minor": 0,
  "metadata": {
    "colab": {
      "name": "AV-jantahackathon-CV_V4.ipynb",
      "provenance": [],
      "collapsed_sections": [],
      "toc_visible": true
    },
    "kernelspec": {
      "name": "python3",
      "display_name": "Python 3"
    },
    "accelerator": "GPU",
    "widgets": {
      "application/vnd.jupyter.widget-state+json": {
        "dd4cc69728e94a3abd1a7909685e96db": {
          "model_module": "@jupyter-widgets/controls",
          "model_name": "HBoxModel",
          "state": {
            "_view_name": "HBoxView",
            "_dom_classes": [],
            "_model_name": "HBoxModel",
            "_view_module": "@jupyter-widgets/controls",
            "_model_module_version": "1.5.0",
            "_view_count": null,
            "_view_module_version": "1.5.0",
            "box_style": "",
            "layout": "IPY_MODEL_27b3e2d0c6f04262884eb0c95ae5f770",
            "_model_module": "@jupyter-widgets/controls",
            "children": [
              "IPY_MODEL_9cea61fe5ead404e83fd65853fe4b2dc",
              "IPY_MODEL_905e24dc85704de382ae228f0ad430de"
            ]
          }
        },
        "27b3e2d0c6f04262884eb0c95ae5f770": {
          "model_module": "@jupyter-widgets/base",
          "model_name": "LayoutModel",
          "state": {
            "_view_name": "LayoutView",
            "grid_template_rows": null,
            "right": null,
            "justify_content": null,
            "_view_module": "@jupyter-widgets/base",
            "overflow": null,
            "_model_module_version": "1.2.0",
            "_view_count": null,
            "flex_flow": null,
            "width": null,
            "min_width": null,
            "border": null,
            "align_items": null,
            "bottom": null,
            "_model_module": "@jupyter-widgets/base",
            "top": null,
            "grid_column": null,
            "overflow_y": null,
            "overflow_x": null,
            "grid_auto_flow": null,
            "grid_area": null,
            "grid_template_columns": null,
            "flex": null,
            "_model_name": "LayoutModel",
            "justify_items": null,
            "grid_row": null,
            "max_height": null,
            "align_content": null,
            "visibility": null,
            "align_self": null,
            "height": null,
            "min_height": null,
            "padding": null,
            "grid_auto_rows": null,
            "grid_gap": null,
            "max_width": null,
            "order": null,
            "_view_module_version": "1.2.0",
            "grid_template_areas": null,
            "object_position": null,
            "object_fit": null,
            "grid_auto_columns": null,
            "margin": null,
            "display": null,
            "left": null
          }
        },
        "9cea61fe5ead404e83fd65853fe4b2dc": {
          "model_module": "@jupyter-widgets/controls",
          "model_name": "FloatProgressModel",
          "state": {
            "_view_name": "ProgressView",
            "style": "IPY_MODEL_35425202d09e42fcb72316a652910ebf",
            "_dom_classes": [],
            "description": "100%",
            "_model_name": "FloatProgressModel",
            "bar_style": "success",
            "max": 102502400,
            "_view_module": "@jupyter-widgets/controls",
            "_model_module_version": "1.5.0",
            "value": 102502400,
            "_view_count": null,
            "_view_module_version": "1.5.0",
            "orientation": "horizontal",
            "min": 0,
            "description_tooltip": null,
            "_model_module": "@jupyter-widgets/controls",
            "layout": "IPY_MODEL_6528a062ca874399a6b5885ef7ef48cf"
          }
        },
        "905e24dc85704de382ae228f0ad430de": {
          "model_module": "@jupyter-widgets/controls",
          "model_name": "HTMLModel",
          "state": {
            "_view_name": "HTMLView",
            "style": "IPY_MODEL_9877fb96a198449ebbad5de73836046e",
            "_dom_classes": [],
            "description": "",
            "_model_name": "HTMLModel",
            "placeholder": "​",
            "_view_module": "@jupyter-widgets/controls",
            "_model_module_version": "1.5.0",
            "value": " 97.8M/97.8M [37:35&lt;00:00, 45.4kB/s]",
            "_view_count": null,
            "_view_module_version": "1.5.0",
            "description_tooltip": null,
            "_model_module": "@jupyter-widgets/controls",
            "layout": "IPY_MODEL_02b93e9f56dc43969dbfbac7b8a228d2"
          }
        },
        "35425202d09e42fcb72316a652910ebf": {
          "model_module": "@jupyter-widgets/controls",
          "model_name": "ProgressStyleModel",
          "state": {
            "_view_name": "StyleView",
            "_model_name": "ProgressStyleModel",
            "description_width": "initial",
            "_view_module": "@jupyter-widgets/base",
            "_model_module_version": "1.5.0",
            "_view_count": null,
            "_view_module_version": "1.2.0",
            "bar_color": null,
            "_model_module": "@jupyter-widgets/controls"
          }
        },
        "6528a062ca874399a6b5885ef7ef48cf": {
          "model_module": "@jupyter-widgets/base",
          "model_name": "LayoutModel",
          "state": {
            "_view_name": "LayoutView",
            "grid_template_rows": null,
            "right": null,
            "justify_content": null,
            "_view_module": "@jupyter-widgets/base",
            "overflow": null,
            "_model_module_version": "1.2.0",
            "_view_count": null,
            "flex_flow": null,
            "width": null,
            "min_width": null,
            "border": null,
            "align_items": null,
            "bottom": null,
            "_model_module": "@jupyter-widgets/base",
            "top": null,
            "grid_column": null,
            "overflow_y": null,
            "overflow_x": null,
            "grid_auto_flow": null,
            "grid_area": null,
            "grid_template_columns": null,
            "flex": null,
            "_model_name": "LayoutModel",
            "justify_items": null,
            "grid_row": null,
            "max_height": null,
            "align_content": null,
            "visibility": null,
            "align_self": null,
            "height": null,
            "min_height": null,
            "padding": null,
            "grid_auto_rows": null,
            "grid_gap": null,
            "max_width": null,
            "order": null,
            "_view_module_version": "1.2.0",
            "grid_template_areas": null,
            "object_position": null,
            "object_fit": null,
            "grid_auto_columns": null,
            "margin": null,
            "display": null,
            "left": null
          }
        },
        "9877fb96a198449ebbad5de73836046e": {
          "model_module": "@jupyter-widgets/controls",
          "model_name": "DescriptionStyleModel",
          "state": {
            "_view_name": "StyleView",
            "_model_name": "DescriptionStyleModel",
            "description_width": "",
            "_view_module": "@jupyter-widgets/base",
            "_model_module_version": "1.5.0",
            "_view_count": null,
            "_view_module_version": "1.2.0",
            "_model_module": "@jupyter-widgets/controls"
          }
        },
        "02b93e9f56dc43969dbfbac7b8a228d2": {
          "model_module": "@jupyter-widgets/base",
          "model_name": "LayoutModel",
          "state": {
            "_view_name": "LayoutView",
            "grid_template_rows": null,
            "right": null,
            "justify_content": null,
            "_view_module": "@jupyter-widgets/base",
            "overflow": null,
            "_model_module_version": "1.2.0",
            "_view_count": null,
            "flex_flow": null,
            "width": null,
            "min_width": null,
            "border": null,
            "align_items": null,
            "bottom": null,
            "_model_module": "@jupyter-widgets/base",
            "top": null,
            "grid_column": null,
            "overflow_y": null,
            "overflow_x": null,
            "grid_auto_flow": null,
            "grid_area": null,
            "grid_template_columns": null,
            "flex": null,
            "_model_name": "LayoutModel",
            "justify_items": null,
            "grid_row": null,
            "max_height": null,
            "align_content": null,
            "visibility": null,
            "align_self": null,
            "height": null,
            "min_height": null,
            "padding": null,
            "grid_auto_rows": null,
            "grid_gap": null,
            "max_width": null,
            "order": null,
            "_view_module_version": "1.2.0",
            "grid_template_areas": null,
            "object_position": null,
            "object_fit": null,
            "grid_auto_columns": null,
            "margin": null,
            "display": null,
            "left": null
          }
        }
      }
    }
  },
  "cells": [
    {
      "cell_type": "markdown",
      "metadata": {
        "id": "RqCaIOT23Ocb",
        "colab_type": "text"
      },
      "source": [
        "# Analytics Vidya Hackathon Computer Vision June-2020\n",
        "\n",
        "Link: https://datahack.analyticsvidhya.com/contest/janatahack-computer-vision-hackathon/\n",
        "\n",
        "Team:\n",
        "- Praveen Raghuvanshi\n",
        "- Suman Kanukollu\n",
        "\n",
        "### References\n",
        "- [How to Train an Image Classifier in PyTorch and use it to Perform Basic Inference on Single Images](\n",
        "https://towardsdatascience.com/how-to-train-an-image-classifier-in-pytorch-and-use-it-to-perform-basic-inference-on-single-images-99465a1e9bf5)\n",
        "\n"
      ]
    },
    {
      "cell_type": "markdown",
      "metadata": {
        "id": "_zefzrtBz5hY",
        "colab_type": "text"
      },
      "source": [
        "# Setup"
      ]
    },
    {
      "cell_type": "code",
      "metadata": {
        "id": "-n72-aBZpx_U",
        "colab_type": "code",
        "colab": {
          "base_uri": "https://localhost:8080/",
          "height": 34
        },
        "outputId": "62f1a424-78f6-496e-d907-2e412cb066f8"
      },
      "source": [
        "import torch\n",
        "from IPython.display import Image, clear_output \n",
        "\n",
        "print('PyTorch %s %s' % (torch.__version__, torch.cuda.get_device_properties(0) if torch.cuda.is_available() else 'CPU'))"
      ],
      "execution_count": null,
      "outputs": [
        {
          "output_type": "stream",
          "text": [
            "PyTorch 1.5.0+cu101 _CudaDeviceProperties(name='Tesla P100-PCIE-16GB', major=6, minor=0, total_memory=16280MB, multi_processor_count=56)\n"
          ],
          "name": "stdout"
        }
      ]
    },
    {
      "cell_type": "code",
      "metadata": {
        "id": "luaMSt7IuAdo",
        "colab_type": "code",
        "colab": {
          "base_uri": "https://localhost:8080/",
          "height": 34
        },
        "outputId": "b3598374-8918-4c1c-d5e3-6b1281bf8f37"
      },
      "source": [
        "# Load data from Google drive\n",
        "from google.colab import drive\n",
        "drive.mount('/content/drive')"
      ],
      "execution_count": null,
      "outputs": [
        {
          "output_type": "stream",
          "text": [
            "Drive already mounted at /content/drive; to attempt to forcibly remount, call drive.mount(\"/content/drive\", force_remount=True).\n"
          ],
          "name": "stdout"
        }
      ]
    },
    {
      "cell_type": "code",
      "metadata": {
        "id": "t4tcG4hxuBSa",
        "colab_type": "code",
        "colab": {
          "base_uri": "https://localhost:8080/",
          "height": 34
        },
        "outputId": "b2a8621e-7cc4-44e2-fbe4-93d4a5383d04"
      },
      "source": [
        "cd '/content/drive/My Drive/jantahackathon/data'"
      ],
      "execution_count": null,
      "outputs": [
        {
          "output_type": "stream",
          "text": [
            "/content/drive/My Drive/jantahackathon/data\n"
          ],
          "name": "stdout"
        }
      ]
    },
    {
      "cell_type": "code",
      "metadata": {
        "id": "BLUXdo9IubD3",
        "colab_type": "code",
        "colab": {
          "base_uri": "https://localhost:8080/",
          "height": 50
        },
        "outputId": "1658ec51-36f0-422e-b6fb-3793ca6c2099"
      },
      "source": [
        "!ls"
      ],
      "execution_count": null,
      "outputs": [
        {
          "output_type": "stream",
          "text": [
            "full\tjantahackathon.pth  train.csv\n",
            "images\ttest_vc2kHdQ.csv    train_SOaYf6m.zip\n"
          ],
          "name": "stdout"
        }
      ]
    },
    {
      "cell_type": "markdown",
      "metadata": {
        "id": "N6x9cbrG0J3A",
        "colab_type": "text"
      },
      "source": [
        "# Install Extensions"
      ]
    },
    {
      "cell_type": "code",
      "metadata": {
        "id": "15I6pEYI-sND",
        "colab_type": "code",
        "colab": {
          "base_uri": "https://localhost:8080/",
          "height": 34
        },
        "outputId": "42aefe86-4ce0-4ea0-d1d4-67c68bfd0d01"
      },
      "source": [
        "!pip install ipython-autotime\n",
        "%load_ext autotime"
      ],
      "execution_count": null,
      "outputs": [
        {
          "output_type": "stream",
          "text": [
            "Requirement already satisfied: ipython-autotime in /usr/local/lib/python3.6/dist-packages (0.1)\n"
          ],
          "name": "stdout"
        }
      ]
    },
    {
      "cell_type": "markdown",
      "metadata": {
        "id": "Y5ckFUQE0Od5",
        "colab_type": "text"
      },
      "source": [
        "# Constants, import libraries"
      ]
    },
    {
      "cell_type": "code",
      "metadata": {
        "id": "5g22hzn6vxXa",
        "colab_type": "code",
        "colab": {
          "base_uri": "https://localhost:8080/",
          "height": 34
        },
        "outputId": "834036de-78ea-47b8-ff7b-ee1ff30e227f"
      },
      "source": [
        "# Constants\n",
        "TEST_CSV = '/content/drive/My Drive/jantahackathon/data/test_vc2kHdQ.csv'\n",
        "\n",
        "TRAIN_CSV = '/content/drive/My Drive/jantahackathon/data/train.csv'\n",
        "TOTAL_IMAGES_PATH = '/content/drive/My Drive/jantahackathon/data/full'\n",
        "TOTAL_IMAGES_EMERGENCY_PATH = '/content/drive/My Drive/jantahackathon/data/full/emergency'\n",
        "TOTAL_IMAGES_NOT_EMERGENCY_PATH = '/content/drive/My Drive/jantahackathon/data/full/notemergency'\n",
        "TRAIN_ZIP = '/content/drive/My Drive/jantahackathon/data/train_SOaYf6m.zip'\n",
        "ALL_IMAGES_PATH = '/content/drive/My Drive/jantahackathon/data/images'"
      ],
      "execution_count": null,
      "outputs": [
        {
          "output_type": "stream",
          "text": [
            "time: 4.34 ms\n"
          ],
          "name": "stdout"
        }
      ]
    },
    {
      "cell_type": "code",
      "metadata": {
        "id": "h5gW4d1MxYPS",
        "colab_type": "code",
        "colab": {
          "base_uri": "https://localhost:8080/",
          "height": 34
        },
        "outputId": "a232db3b-5bee-49dc-e916-7d2a3c3e0c4d"
      },
      "source": [
        "import os\n",
        "import pandas as pd\n",
        "import numpy as np\n",
        "import matplotlib.pyplot as plt\n",
        "import torch\n",
        "\n",
        "from skimage.io import imread\n",
        "from tqdm import tqdm\n",
        "\n",
        "%matplotlib inline\n",
        "\n",
        "# for creating validation set\n",
        "from sklearn.model_selection import train_test_split\n",
        "\n",
        "# PyTorch libraries and modules\n",
        "import torch\n",
        "from torch.autograd import Variable\n",
        "from torch.nn import Linear, ReLU, CrossEntropyLoss, Sequential, Conv2d, MaxPool2d, Module, Softmax, BatchNorm2d, Dropout\n",
        "from torch.optim import Adam, SGD\n",
        "from torch import nn\n",
        "from torch import optim\n",
        "import torch.nn.functional as F\n",
        "import torchvision\n",
        "from torchvision import datasets, transforms, models\n",
        "from torch.utils.data.sampler import SubsetRandomSampler"
      ],
      "execution_count": null,
      "outputs": [
        {
          "output_type": "stream",
          "text": [
            "time: 517 ms\n"
          ],
          "name": "stdout"
        }
      ]
    },
    {
      "cell_type": "markdown",
      "metadata": {
        "id": "580E2o_80XyZ",
        "colab_type": "text"
      },
      "source": [
        "# Preview Test CSV"
      ]
    },
    {
      "cell_type": "code",
      "metadata": {
        "id": "sRy7D5-4usZz",
        "colab_type": "code",
        "colab": {
          "base_uri": "https://localhost:8080/",
          "height": 34
        },
        "outputId": "5a8d8120-bad5-47c3-e5b7-be3a2b76ba73"
      },
      "source": [
        "test_dataframe = pd.read_csv(TEST_CSV)"
      ],
      "execution_count": null,
      "outputs": [
        {
          "output_type": "stream",
          "text": [
            "time: 9.41 ms\n"
          ],
          "name": "stdout"
        }
      ]
    },
    {
      "cell_type": "code",
      "metadata": {
        "id": "yW3cpqcRvYB0",
        "colab_type": "code",
        "colab": {
          "base_uri": "https://localhost:8080/",
          "height": 212
        },
        "outputId": "a26c1fad-d289-4feb-f479-9751f4a44cda"
      },
      "source": [
        "test_dataframe.head()"
      ],
      "execution_count": null,
      "outputs": [
        {
          "output_type": "execute_result",
          "data": {
            "text/html": [
              "<div>\n",
              "<style scoped>\n",
              "    .dataframe tbody tr th:only-of-type {\n",
              "        vertical-align: middle;\n",
              "    }\n",
              "\n",
              "    .dataframe tbody tr th {\n",
              "        vertical-align: top;\n",
              "    }\n",
              "\n",
              "    .dataframe thead th {\n",
              "        text-align: right;\n",
              "    }\n",
              "</style>\n",
              "<table border=\"1\" class=\"dataframe\">\n",
              "  <thead>\n",
              "    <tr style=\"text-align: right;\">\n",
              "      <th></th>\n",
              "      <th>image_names</th>\n",
              "    </tr>\n",
              "  </thead>\n",
              "  <tbody>\n",
              "    <tr>\n",
              "      <th>0</th>\n",
              "      <td>1960.jpg</td>\n",
              "    </tr>\n",
              "    <tr>\n",
              "      <th>1</th>\n",
              "      <td>668.jpg</td>\n",
              "    </tr>\n",
              "    <tr>\n",
              "      <th>2</th>\n",
              "      <td>2082.jpg</td>\n",
              "    </tr>\n",
              "    <tr>\n",
              "      <th>3</th>\n",
              "      <td>808.jpg</td>\n",
              "    </tr>\n",
              "    <tr>\n",
              "      <th>4</th>\n",
              "      <td>1907.jpg</td>\n",
              "    </tr>\n",
              "  </tbody>\n",
              "</table>\n",
              "</div>"
            ],
            "text/plain": [
              "  image_names\n",
              "0    1960.jpg\n",
              "1     668.jpg\n",
              "2    2082.jpg\n",
              "3     808.jpg\n",
              "4    1907.jpg"
            ]
          },
          "metadata": {
            "tags": []
          },
          "execution_count": 9
        },
        {
          "output_type": "stream",
          "text": [
            "time: 15 ms\n"
          ],
          "name": "stdout"
        }
      ]
    },
    {
      "cell_type": "code",
      "metadata": {
        "id": "zxtZW331vhdz",
        "colab_type": "code",
        "colab": {
          "base_uri": "https://localhost:8080/",
          "height": 168
        },
        "outputId": "bdd7195f-139b-46ab-9be4-291d5aaa56bc"
      },
      "source": [
        "test_dataframe.info()"
      ],
      "execution_count": null,
      "outputs": [
        {
          "output_type": "stream",
          "text": [
            "<class 'pandas.core.frame.DataFrame'>\n",
            "RangeIndex: 706 entries, 0 to 705\n",
            "Data columns (total 1 columns):\n",
            " #   Column       Non-Null Count  Dtype \n",
            "---  ------       --------------  ----- \n",
            " 0   image_names  706 non-null    object\n",
            "dtypes: object(1)\n",
            "memory usage: 5.6+ KB\n",
            "time: 5.96 ms\n"
          ],
          "name": "stdout"
        }
      ]
    },
    {
      "cell_type": "markdown",
      "metadata": {
        "id": "EqqzN7A_0je5",
        "colab_type": "text"
      },
      "source": [
        "# Preview Train CSV"
      ]
    },
    {
      "cell_type": "code",
      "metadata": {
        "id": "Z08KOd7syC8y",
        "colab_type": "code",
        "colab": {
          "base_uri": "https://localhost:8080/",
          "height": 34
        },
        "outputId": "64226725-f1f2-498a-f78e-0b43bb3a6d39"
      },
      "source": [
        "train_dataframe = pd.read_csv(TRAIN_CSV)"
      ],
      "execution_count": null,
      "outputs": [
        {
          "output_type": "stream",
          "text": [
            "time: 6.73 ms\n"
          ],
          "name": "stdout"
        }
      ]
    },
    {
      "cell_type": "code",
      "metadata": {
        "id": "GrlTkB9LzUC7",
        "colab_type": "code",
        "colab": {
          "base_uri": "https://localhost:8080/",
          "height": 212
        },
        "outputId": "c291daed-64a4-4f91-ba2f-3eac3e839ac2"
      },
      "source": [
        "train_dataframe.head()"
      ],
      "execution_count": null,
      "outputs": [
        {
          "output_type": "execute_result",
          "data": {
            "text/html": [
              "<div>\n",
              "<style scoped>\n",
              "    .dataframe tbody tr th:only-of-type {\n",
              "        vertical-align: middle;\n",
              "    }\n",
              "\n",
              "    .dataframe tbody tr th {\n",
              "        vertical-align: top;\n",
              "    }\n",
              "\n",
              "    .dataframe thead th {\n",
              "        text-align: right;\n",
              "    }\n",
              "</style>\n",
              "<table border=\"1\" class=\"dataframe\">\n",
              "  <thead>\n",
              "    <tr style=\"text-align: right;\">\n",
              "      <th></th>\n",
              "      <th>image_names</th>\n",
              "      <th>emergency_or_not</th>\n",
              "    </tr>\n",
              "  </thead>\n",
              "  <tbody>\n",
              "    <tr>\n",
              "      <th>0</th>\n",
              "      <td>1503.jpg</td>\n",
              "      <td>0</td>\n",
              "    </tr>\n",
              "    <tr>\n",
              "      <th>1</th>\n",
              "      <td>1420.jpg</td>\n",
              "      <td>0</td>\n",
              "    </tr>\n",
              "    <tr>\n",
              "      <th>2</th>\n",
              "      <td>1764.jpg</td>\n",
              "      <td>0</td>\n",
              "    </tr>\n",
              "    <tr>\n",
              "      <th>3</th>\n",
              "      <td>1356.jpg</td>\n",
              "      <td>0</td>\n",
              "    </tr>\n",
              "    <tr>\n",
              "      <th>4</th>\n",
              "      <td>1117.jpg</td>\n",
              "      <td>0</td>\n",
              "    </tr>\n",
              "  </tbody>\n",
              "</table>\n",
              "</div>"
            ],
            "text/plain": [
              "  image_names  emergency_or_not\n",
              "0    1503.jpg                 0\n",
              "1    1420.jpg                 0\n",
              "2    1764.jpg                 0\n",
              "3    1356.jpg                 0\n",
              "4    1117.jpg                 0"
            ]
          },
          "metadata": {
            "tags": []
          },
          "execution_count": 12
        },
        {
          "output_type": "stream",
          "text": [
            "time: 12.5 ms\n"
          ],
          "name": "stdout"
        }
      ]
    },
    {
      "cell_type": "code",
      "metadata": {
        "id": "z3hYlZq3zeGL",
        "colab_type": "code",
        "colab": {
          "base_uri": "https://localhost:8080/",
          "height": 185
        },
        "outputId": "046bb81b-acca-4e34-f0ce-a7d806471e1f"
      },
      "source": [
        "train_dataframe.info()"
      ],
      "execution_count": null,
      "outputs": [
        {
          "output_type": "stream",
          "text": [
            "<class 'pandas.core.frame.DataFrame'>\n",
            "RangeIndex: 1646 entries, 0 to 1645\n",
            "Data columns (total 2 columns):\n",
            " #   Column            Non-Null Count  Dtype \n",
            "---  ------            --------------  ----- \n",
            " 0   image_names       1646 non-null   object\n",
            " 1   emergency_or_not  1646 non-null   int64 \n",
            "dtypes: int64(1), object(1)\n",
            "memory usage: 25.8+ KB\n",
            "time: 7.69 ms\n"
          ],
          "name": "stdout"
        }
      ]
    },
    {
      "cell_type": "markdown",
      "metadata": {
        "id": "4BSZNGSH0oK5",
        "colab_type": "text"
      },
      "source": [
        "# Images"
      ]
    },
    {
      "cell_type": "code",
      "metadata": {
        "id": "WDq4fM7H0wC6",
        "colab_type": "code",
        "colab": {
          "base_uri": "https://localhost:8080/",
          "height": 34
        },
        "outputId": "f7643d6b-319d-4c69-c909-0a673947b76e"
      },
      "source": [
        "# all_images = os.listdir(ALL_IMAGES_PATH)\n",
        "# print('Total images: ', len(all_images))"
      ],
      "execution_count": null,
      "outputs": [
        {
          "output_type": "stream",
          "text": [
            "time: 668 µs\n"
          ],
          "name": "stdout"
        }
      ]
    },
    {
      "cell_type": "code",
      "metadata": {
        "id": "ziBYT2QVnlmD",
        "colab_type": "code",
        "colab": {
          "base_uri": "https://localhost:8080/",
          "height": 54
        },
        "outputId": "5b4958f7-0e81-4337-a2c3-d41baeb75fef"
      },
      "source": [
        "'''import shutil \n",
        "\n",
        "for row in train_dataframe.itertuples():\n",
        "  img_name = row.image_names\n",
        "  emergency_or_not = row.emergency_or_not\n",
        "  source = ALL_IMAGES_PATH + '/' + str(img_name)\n",
        "  if emergency_or_not == 1:   \n",
        "    destination = TRAIN_IMAGES_EMERGENCY_PATH + '/' + str(img_name)\n",
        "  if emergency_or_not == 0:   \n",
        "    destination = TRAIN_IMAGES_NOT_EMERGENCY_PATH + '/' + str(img_name)\n",
        "  \n",
        "  dest = shutil.copyfile(source, destination)\n",
        "  print(dest) '''\n"
      ],
      "execution_count": null,
      "outputs": [
        {
          "output_type": "execute_result",
          "data": {
            "text/plain": [
              "\"import shutil \\n\\nfor row in train_dataframe.itertuples():\\n  img_name = row.image_names\\n  emergency_or_not = row.emergency_or_not\\n  source = ALL_IMAGES_PATH + '/' + str(img_name)\\n  if emergency_or_not == 1:   \\n    destination = TRAIN_IMAGES_EMERGENCY_PATH + '/' + str(img_name)\\n  if emergency_or_not == 0:   \\n    destination = TRAIN_IMAGES_NOT_EMERGENCY_PATH + '/' + str(img_name)\\n  \\n  dest = shutil.copyfile(source, destination)\\n  print(dest) \""
            ]
          },
          "metadata": {
            "tags": []
          },
          "execution_count": 15
        },
        {
          "output_type": "stream",
          "text": [
            "time: 2.85 ms\n"
          ],
          "name": "stdout"
        }
      ]
    },
    {
      "cell_type": "code",
      "metadata": {
        "id": "uNK4jifjyPTX",
        "colab_type": "code",
        "colab": {
          "base_uri": "https://localhost:8080/",
          "height": 67
        },
        "outputId": "f8a7eddf-9e9b-4244-eb5c-287f9b926df9"
      },
      "source": [
        "print(len(os.listdir(TOTAL_IMAGES_EMERGENCY_PATH)))\n",
        "print(len(os.listdir(TOTAL_IMAGES_NOT_EMERGENCY_PATH)))"
      ],
      "execution_count": null,
      "outputs": [
        {
          "output_type": "stream",
          "text": [
            "681\n",
            "965\n",
            "time: 43.8 s\n"
          ],
          "name": "stdout"
        }
      ]
    },
    {
      "cell_type": "markdown",
      "metadata": {
        "id": "0e9j2YZm0y2w",
        "colab_type": "text"
      },
      "source": [
        "# Load Dataset"
      ]
    },
    {
      "cell_type": "code",
      "metadata": {
        "id": "SqVgTQa53m3l",
        "colab_type": "code",
        "colab": {
          "base_uri": "https://localhost:8080/",
          "height": 34
        },
        "outputId": "0131d18e-ed86-4d08-b00d-76cd46932456"
      },
      "source": [
        "data_dir = TOTAL_IMAGES_PATH\n",
        "def load_split_train_test(datadir, valid_size = .2):\n",
        "    \n",
        "    train_transforms = transforms.Compose([transforms.ToTensor(),])\n",
        "    test_transforms = transforms.Compose([transforms.ToTensor(),])\n",
        "\n",
        "    train_data = datasets.ImageFolder(datadir,       \n",
        "                    transform=train_transforms)\n",
        "    \n",
        "    test_data = datasets.ImageFolder(datadir,\n",
        "                    transform=test_transforms)\n",
        "    \n",
        "    num_train = len(train_data)\n",
        "    indices = list(range(num_train))\n",
        "    split = int(np.floor(valid_size * num_train))\n",
        "    np.random.shuffle(indices)\n",
        "    \n",
        "    train_idx, test_idx = indices[split:], indices[:split]\n",
        "    train_sampler = SubsetRandomSampler(train_idx)\n",
        "    test_sampler = SubsetRandomSampler(test_idx)\n",
        "    trainloader = torch.utils.data.DataLoader(train_data,\n",
        "                   sampler=train_sampler, batch_size=16)\n",
        "    testloader = torch.utils.data.DataLoader(test_data,\n",
        "                   sampler=test_sampler, batch_size=16)\n",
        "    return trainloader, testloader"
      ],
      "execution_count": null,
      "outputs": [
        {
          "output_type": "stream",
          "text": [
            "time: 11.8 ms\n"
          ],
          "name": "stdout"
        }
      ]
    },
    {
      "cell_type": "code",
      "metadata": {
        "id": "gevMRyhk8_O9",
        "colab_type": "code",
        "colab": {
          "base_uri": "https://localhost:8080/",
          "height": 50
        },
        "outputId": "13f6fec4-b801-42d1-904b-42f00a139744"
      },
      "source": [
        "trainloader, testloader = load_split_train_test(data_dir, .2)\n",
        "print(trainloader.dataset.classes)"
      ],
      "execution_count": null,
      "outputs": [
        {
          "output_type": "stream",
          "text": [
            "['emergency', 'notemergency']\n",
            "time: 41.2 ms\n"
          ],
          "name": "stdout"
        }
      ]
    },
    {
      "cell_type": "markdown",
      "metadata": {
        "id": "m5QDVeRP02zR",
        "colab_type": "text"
      },
      "source": [
        "# Display Images"
      ]
    },
    {
      "cell_type": "code",
      "metadata": {
        "id": "O_rr06Iq7bHI",
        "colab_type": "code",
        "colab": {
          "base_uri": "https://localhost:8080/",
          "height": 34
        },
        "outputId": "0f7cb1c5-5656-4886-e0d1-41ad55656d93"
      },
      "source": [
        "def imshow(img):\n",
        "    img = img / 2 + 0.5     # unnormalize\n",
        "    npimg = img.numpy()\n",
        "    plt.imshow(np.transpose(npimg, (1, 2, 0)))\n",
        "\n",
        "def display(noofimages, trainloader, classes):\n",
        "    # get some random training images\n",
        "    dataiter = iter(trainloader)\n",
        "    images, labels = dataiter.next()\n",
        "    maximagescount = labels.size()[0]\n",
        "    print(maximagescount)\n",
        "    print(len(images))\n",
        "    if noofimages > maximagescount:\n",
        "        raise ValueError('The no of images must be less than ' + maximagescount)\n",
        "\n",
        "    # show images\n",
        "    imshow(torchvision.utils.make_grid(images[:5]))\n",
        "\n",
        "    # display labels\n",
        "    print(' '.join('%5s' % classes[labels[j]] for j in range(noofimages)))"
      ],
      "execution_count": null,
      "outputs": [
        {
          "output_type": "stream",
          "text": [
            "time: 7.08 ms\n"
          ],
          "name": "stdout"
        }
      ]
    },
    {
      "cell_type": "markdown",
      "metadata": {
        "id": "yJXS2qzm06Ij",
        "colab_type": "text"
      },
      "source": [
        "## Train Samples"
      ]
    },
    {
      "cell_type": "code",
      "metadata": {
        "id": "WJGziy-77bDK",
        "colab_type": "code",
        "colab": {
          "base_uri": "https://localhost:8080/",
          "height": 186
        },
        "outputId": "fca43a6d-b86b-4817-b75a-7fd21d197158"
      },
      "source": [
        "# Display train samples\n",
        "display(5, trainloader, trainloader.dataset.classes)"
      ],
      "execution_count": null,
      "outputs": [
        {
          "output_type": "stream",
          "text": [
            "16\n",
            "16\n",
            "emergency emergency emergency notemergency notemergency\n"
          ],
          "name": "stdout"
        },
        {
          "output_type": "display_data",
          "data": {
            "image/png": "[encoded data removed]",
            "text/plain": [
              "<Figure size 432x288 with 1 Axes>"
            ]
          },
          "metadata": {
            "tags": [],
            "needs_background": "light"
          }
        },
        {
          "output_type": "stream",
          "text": [
            "time: 5.45 s\n"
          ],
          "name": "stdout"
        }
      ]
    },
    {
      "cell_type": "markdown",
      "metadata": {
        "id": "2w2oyrVy08uu",
        "colab_type": "text"
      },
      "source": [
        "# Test Samples"
      ]
    },
    {
      "cell_type": "code",
      "metadata": {
        "id": "T5UHBVcN7a9i",
        "colab_type": "code",
        "colab": {
          "base_uri": "https://localhost:8080/",
          "height": 186
        },
        "outputId": "cd579793-8cc9-47d8-ff64-737e4db9574f"
      },
      "source": [
        "# Display Test samples\n",
        "display(5, testloader, testloader.dataset.classes)"
      ],
      "execution_count": null,
      "outputs": [
        {
          "output_type": "stream",
          "text": [
            "16\n",
            "16\n",
            "notemergency notemergency notemergency notemergency emergency\n"
          ],
          "name": "stdout"
        },
        {
          "output_type": "display_data",
          "data": {
            "image/png": "[encoded data removed]",
            "text/plain": [
              "<Figure size 432x288 with 1 Axes>"
            ]
          },
          "metadata": {
            "tags": [],
            "needs_background": "light"
          }
        },
        {
          "output_type": "stream",
          "text": [
            "time: 5.26 s\n"
          ],
          "name": "stdout"
        }
      ]
    },
    {
      "cell_type": "markdown",
      "metadata": {
        "id": "o1mUzf_T1AEw",
        "colab_type": "text"
      },
      "source": [
        "# Model"
      ]
    },
    {
      "cell_type": "code",
      "metadata": {
        "id": "PAOaeWKW7a14",
        "colab_type": "code",
        "colab": {
          "base_uri": "https://localhost:8080/",
          "height": 1000,
          "referenced_widgets": [
            "dd4cc69728e94a3abd1a7909685e96db",
            "27b3e2d0c6f04262884eb0c95ae5f770",
            "9cea61fe5ead404e83fd65853fe4b2dc",
            "905e24dc85704de382ae228f0ad430de",
            "35425202d09e42fcb72316a652910ebf",
            "6528a062ca874399a6b5885ef7ef48cf",
            "9877fb96a198449ebbad5de73836046e",
            "02b93e9f56dc43969dbfbac7b8a228d2"
          ]
        },
        "outputId": "8e2e0c36-571c-47e7-aafe-b5e7bb2b826f"
      },
      "source": [
        "device = torch.device(\"cuda\" if torch.cuda.is_available() else \"cpu\")\n",
        "model = models.resnet50(pretrained=True)\n",
        "print(model)"
      ],
      "execution_count": null,
      "outputs": [
        {
          "output_type": "stream",
          "text": [
            "Downloading: \"https://download.pytorch.org/models/resnet50-19c8e357.pth\" to /root/.cache/torch/checkpoints/resnet50-19c8e357.pth\n"
          ],
          "name": "stderr"
        },
        {
          "output_type": "display_data",
          "data": {
            "application/vnd.jupyter.widget-view+json": {
              "model_id": "dd4cc69728e94a3abd1a7909685e96db",
              "version_minor": 0,
              "version_major": 2
            },
            "text/plain": [
              "HBox(children=(FloatProgress(value=0.0, max=102502400.0), HTML(value='')))"
            ]
          },
          "metadata": {
            "tags": []
          }
        },
        {
          "output_type": "stream",
          "text": [
            "\n",
            "ResNet(\n",
            "  (conv1): Conv2d(3, 64, kernel_size=(7, 7), stride=(2, 2), padding=(3, 3), bias=False)\n",
            "  (bn1): BatchNorm2d(64, eps=1e-05, momentum=0.1, affine=True, track_running_stats=True)\n",
            "  (relu): ReLU(inplace=True)\n",
            "  (maxpool): MaxPool2d(kernel_size=3, stride=2, padding=1, dilation=1, ceil_mode=False)\n",
            "  (layer1): Sequential(\n",
            "    (0): Bottleneck(\n",
            "      (conv1): Conv2d(64, 64, kernel_size=(1, 1), stride=(1, 1), bias=False)\n",
            "      (bn1): BatchNorm2d(64, eps=1e-05, momentum=0.1, affine=True, track_running_stats=True)\n",
            "      (conv2): Conv2d(64, 64, kernel_size=(3, 3), stride=(1, 1), padding=(1, 1), bias=False)\n",
            "      (bn2): BatchNorm2d(64, eps=1e-05, momentum=0.1, affine=True, track_running_stats=True)\n",
            "      (conv3): Conv2d(64, 256, kernel_size=(1, 1), stride=(1, 1), bias=False)\n",
            "      (bn3): BatchNorm2d(256, eps=1e-05, momentum=0.1, affine=True, track_running_stats=True)\n",
            "      (relu): ReLU(inplace=True)\n",
            "      (downsample): Sequential(\n",
            "        (0): Conv2d(64, 256, kernel_size=(1, 1), stride=(1, 1), bias=False)\n",
            "        (1): BatchNorm2d(256, eps=1e-05, momentum=0.1, affine=True, track_running_stats=True)\n",
            "      )\n",
            "    )\n",
            "    (1): Bottleneck(\n",
            "      (conv1): Conv2d(256, 64, kernel_size=(1, 1), stride=(1, 1), bias=False)\n",
            "      (bn1): BatchNorm2d(64, eps=1e-05, momentum=0.1, affine=True, track_running_stats=True)\n",
            "      (conv2): Conv2d(64, 64, kernel_size=(3, 3), stride=(1, 1), padding=(1, 1), bias=False)\n",
            "      (bn2): BatchNorm2d(64, eps=1e-05, momentum=0.1, affine=True, track_running_stats=True)\n",
            "      (conv3): Conv2d(64, 256, kernel_size=(1, 1), stride=(1, 1), bias=False)\n",
            "      (bn3): BatchNorm2d(256, eps=1e-05, momentum=0.1, affine=True, track_running_stats=True)\n",
            "      (relu): ReLU(inplace=True)\n",
            "    )\n",
            "    (2): Bottleneck(\n",
            "      (conv1): Conv2d(256, 64, kernel_size=(1, 1), stride=(1, 1), bias=False)\n",
            "      (bn1): BatchNorm2d(64, eps=1e-05, momentum=0.1, affine=True, track_running_stats=True)\n",
            "      (conv2): Conv2d(64, 64, kernel_size=(3, 3), stride=(1, 1), padding=(1, 1), bias=False)\n",
            "      (bn2): BatchNorm2d(64, eps=1e-05, momentum=0.1, affine=True, track_running_stats=True)\n",
            "      (conv3): Conv2d(64, 256, kernel_size=(1, 1), stride=(1, 1), bias=False)\n",
            "      (bn3): BatchNorm2d(256, eps=1e-05, momentum=0.1, affine=True, track_running_stats=True)\n",
            "      (relu): ReLU(inplace=True)\n",
            "    )\n",
            "  )\n",
            "  (layer2): Sequential(\n",
            "    (0): Bottleneck(\n",
            "      (conv1): Conv2d(256, 128, kernel_size=(1, 1), stride=(1, 1), bias=False)\n",
            "      (bn1): BatchNorm2d(128, eps=1e-05, momentum=0.1, affine=True, track_running_stats=True)\n",
            "      (conv2): Conv2d(128, 128, kernel_size=(3, 3), stride=(2, 2), padding=(1, 1), bias=False)\n",
            "      (bn2): BatchNorm2d(128, eps=1e-05, momentum=0.1, affine=True, track_running_stats=True)\n",
            "      (conv3): Conv2d(128, 512, kernel_size=(1, 1), stride=(1, 1), bias=False)\n",
            "      (bn3): BatchNorm2d(512, eps=1e-05, momentum=0.1, affine=True, track_running_stats=True)\n",
            "      (relu): ReLU(inplace=True)\n",
            "      (downsample): Sequential(\n",
            "        (0): Conv2d(256, 512, kernel_size=(1, 1), stride=(2, 2), bias=False)\n",
            "        (1): BatchNorm2d(512, eps=1e-05, momentum=0.1, affine=True, track_running_stats=True)\n",
            "      )\n",
            "    )\n",
            "    (1): Bottleneck(\n",
            "      (conv1): Conv2d(512, 128, kernel_size=(1, 1), stride=(1, 1), bias=False)\n",
            "      (bn1): BatchNorm2d(128, eps=1e-05, momentum=0.1, affine=True, track_running_stats=True)\n",
            "      (conv2): Conv2d(128, 128, kernel_size=(3, 3), stride=(1, 1), padding=(1, 1), bias=False)\n",
            "      (bn2): BatchNorm2d(128, eps=1e-05, momentum=0.1, affine=True, track_running_stats=True)\n",
            "      (conv3): Conv2d(128, 512, kernel_size=(1, 1), stride=(1, 1), bias=False)\n",
            "      (bn3): BatchNorm2d(512, eps=1e-05, momentum=0.1, affine=True, track_running_stats=True)\n",
            "      (relu): ReLU(inplace=True)\n",
            "    )\n",
            "    (2): Bottleneck(\n",
            "      (conv1): Conv2d(512, 128, kernel_size=(1, 1), stride=(1, 1), bias=False)\n",
            "      (bn1): BatchNorm2d(128, eps=1e-05, momentum=0.1, affine=True, track_running_stats=True)\n",
            "      (conv2): Conv2d(128, 128, kernel_size=(3, 3), stride=(1, 1), padding=(1, 1), bias=False)\n",
            "      (bn2): BatchNorm2d(128, eps=1e-05, momentum=0.1, affine=True, track_running_stats=True)\n",
            "      (conv3): Conv2d(128, 512, kernel_size=(1, 1), stride=(1, 1), bias=False)\n",
            "      (bn3): BatchNorm2d(512, eps=1e-05, momentum=0.1, affine=True, track_running_stats=True)\n",
            "      (relu): ReLU(inplace=True)\n",
            "    )\n",
            "    (3): Bottleneck(\n",
            "      (conv1): Conv2d(512, 128, kernel_size=(1, 1), stride=(1, 1), bias=False)\n",
            "      (bn1): BatchNorm2d(128, eps=1e-05, momentum=0.1, affine=True, track_running_stats=True)\n",
            "      (conv2): Conv2d(128, 128, kernel_size=(3, 3), stride=(1, 1), padding=(1, 1), bias=False)\n",
            "      (bn2): BatchNorm2d(128, eps=1e-05, momentum=0.1, affine=True, track_running_stats=True)\n",
            "      (conv3): Conv2d(128, 512, kernel_size=(1, 1), stride=(1, 1), bias=False)\n",
            "      (bn3): BatchNorm2d(512, eps=1e-05, momentum=0.1, affine=True, track_running_stats=True)\n",
            "      (relu): ReLU(inplace=True)\n",
            "    )\n",
            "  )\n",
            "  (layer3): Sequential(\n",
            "    (0): Bottleneck(\n",
            "      (conv1): Conv2d(512, 256, kernel_size=(1, 1), stride=(1, 1), bias=False)\n",
            "      (bn1): BatchNorm2d(256, eps=1e-05, momentum=0.1, affine=True, track_running_stats=True)\n",
            "      (conv2): Conv2d(256, 256, kernel_size=(3, 3), stride=(2, 2), padding=(1, 1), bias=False)\n",
            "      (bn2): BatchNorm2d(256, eps=1e-05, momentum=0.1, affine=True, track_running_stats=True)\n",
            "      (conv3): Conv2d(256, 1024, kernel_size=(1, 1), stride=(1, 1), bias=False)\n",
            "      (bn3): BatchNorm2d(1024, eps=1e-05, momentum=0.1, affine=True, track_running_stats=True)\n",
            "      (relu): ReLU(inplace=True)\n",
            "      (downsample): Sequential(\n",
            "        (0): Conv2d(512, 1024, kernel_size=(1, 1), stride=(2, 2), bias=False)\n",
            "        (1): BatchNorm2d(1024, eps=1e-05, momentum=0.1, affine=True, track_running_stats=True)\n",
            "      )\n",
            "    )\n",
            "    (1): Bottleneck(\n",
            "      (conv1): Conv2d(1024, 256, kernel_size=(1, 1), stride=(1, 1), bias=False)\n",
            "      (bn1): BatchNorm2d(256, eps=1e-05, momentum=0.1, affine=True, track_running_stats=True)\n",
            "      (conv2): Conv2d(256, 256, kernel_size=(3, 3), stride=(1, 1), padding=(1, 1), bias=False)\n",
            "      (bn2): BatchNorm2d(256, eps=1e-05, momentum=0.1, affine=True, track_running_stats=True)\n",
            "      (conv3): Conv2d(256, 1024, kernel_size=(1, 1), stride=(1, 1), bias=False)\n",
            "      (bn3): BatchNorm2d(1024, eps=1e-05, momentum=0.1, affine=True, track_running_stats=True)\n",
            "      (relu): ReLU(inplace=True)\n",
            "    )\n",
            "    (2): Bottleneck(\n",
            "      (conv1): Conv2d(1024, 256, kernel_size=(1, 1), stride=(1, 1), bias=False)\n",
            "      (bn1): BatchNorm2d(256, eps=1e-05, momentum=0.1, affine=True, track_running_stats=True)\n",
            "      (conv2): Conv2d(256, 256, kernel_size=(3, 3), stride=(1, 1), padding=(1, 1), bias=False)\n",
            "      (bn2): BatchNorm2d(256, eps=1e-05, momentum=0.1, affine=True, track_running_stats=True)\n",
            "      (conv3): Conv2d(256, 1024, kernel_size=(1, 1), stride=(1, 1), bias=False)\n",
            "      (bn3): BatchNorm2d(1024, eps=1e-05, momentum=0.1, affine=True, track_running_stats=True)\n",
            "      (relu): ReLU(inplace=True)\n",
            "    )\n",
            "    (3): Bottleneck(\n",
            "      (conv1): Conv2d(1024, 256, kernel_size=(1, 1), stride=(1, 1), bias=False)\n",
            "      (bn1): BatchNorm2d(256, eps=1e-05, momentum=0.1, affine=True, track_running_stats=True)\n",
            "      (conv2): Conv2d(256, 256, kernel_size=(3, 3), stride=(1, 1), padding=(1, 1), bias=False)\n",
            "      (bn2): BatchNorm2d(256, eps=1e-05, momentum=0.1, affine=True, track_running_stats=True)\n",
            "      (conv3): Conv2d(256, 1024, kernel_size=(1, 1), stride=(1, 1), bias=False)\n",
            "      (bn3): BatchNorm2d(1024, eps=1e-05, momentum=0.1, affine=True, track_running_stats=True)\n",
            "      (relu): ReLU(inplace=True)\n",
            "    )\n",
            "    (4): Bottleneck(\n",
            "      (conv1): Conv2d(1024, 256, kernel_size=(1, 1), stride=(1, 1), bias=False)\n",
            "      (bn1): BatchNorm2d(256, eps=1e-05, momentum=0.1, affine=True, track_running_stats=True)\n",
            "      (conv2): Conv2d(256, 256, kernel_size=(3, 3), stride=(1, 1), padding=(1, 1), bias=False)\n",
            "      (bn2): BatchNorm2d(256, eps=1e-05, momentum=0.1, affine=True, track_running_stats=True)\n",
            "      (conv3): Conv2d(256, 1024, kernel_size=(1, 1), stride=(1, 1), bias=False)\n",
            "      (bn3): BatchNorm2d(1024, eps=1e-05, momentum=0.1, affine=True, track_running_stats=True)\n",
            "      (relu): ReLU(inplace=True)\n",
            "    )\n",
            "    (5): Bottleneck(\n",
            "      (conv1): Conv2d(1024, 256, kernel_size=(1, 1), stride=(1, 1), bias=False)\n",
            "      (bn1): BatchNorm2d(256, eps=1e-05, momentum=0.1, affine=True, track_running_stats=True)\n",
            "      (conv2): Conv2d(256, 256, kernel_size=(3, 3), stride=(1, 1), padding=(1, 1), bias=False)\n",
            "      (bn2): BatchNorm2d(256, eps=1e-05, momentum=0.1, affine=True, track_running_stats=True)\n",
            "      (conv3): Conv2d(256, 1024, kernel_size=(1, 1), stride=(1, 1), bias=False)\n",
            "      (bn3): BatchNorm2d(1024, eps=1e-05, momentum=0.1, affine=True, track_running_stats=True)\n",
            "      (relu): ReLU(inplace=True)\n",
            "    )\n",
            "  )\n",
            "  (layer4): Sequential(\n",
            "    (0): Bottleneck(\n",
            "      (conv1): Conv2d(1024, 512, kernel_size=(1, 1), stride=(1, 1), bias=False)\n",
            "      (bn1): BatchNorm2d(512, eps=1e-05, momentum=0.1, affine=True, track_running_stats=True)\n",
            "      (conv2): Conv2d(512, 512, kernel_size=(3, 3), stride=(2, 2), padding=(1, 1), bias=False)\n",
            "      (bn2): BatchNorm2d(512, eps=1e-05, momentum=0.1, affine=True, track_running_stats=True)\n",
            "      (conv3): Conv2d(512, 2048, kernel_size=(1, 1), stride=(1, 1), bias=False)\n",
            "      (bn3): BatchNorm2d(2048, eps=1e-05, momentum=0.1, affine=True, track_running_stats=True)\n",
            "      (relu): ReLU(inplace=True)\n",
            "      (downsample): Sequential(\n",
            "        (0): Conv2d(1024, 2048, kernel_size=(1, 1), stride=(2, 2), bias=False)\n",
            "        (1): BatchNorm2d(2048, eps=1e-05, momentum=0.1, affine=True, track_running_stats=True)\n",
            "      )\n",
            "    )\n",
            "    (1): Bottleneck(\n",
            "      (conv1): Conv2d(2048, 512, kernel_size=(1, 1), stride=(1, 1), bias=False)\n",
            "      (bn1): BatchNorm2d(512, eps=1e-05, momentum=0.1, affine=True, track_running_stats=True)\n",
            "      (conv2): Conv2d(512, 512, kernel_size=(3, 3), stride=(1, 1), padding=(1, 1), bias=False)\n",
            "      (bn2): BatchNorm2d(512, eps=1e-05, momentum=0.1, affine=True, track_running_stats=True)\n",
            "      (conv3): Conv2d(512, 2048, kernel_size=(1, 1), stride=(1, 1), bias=False)\n",
            "      (bn3): BatchNorm2d(2048, eps=1e-05, momentum=0.1, affine=True, track_running_stats=True)\n",
            "      (relu): ReLU(inplace=True)\n",
            "    )\n",
            "    (2): Bottleneck(\n",
            "      (conv1): Conv2d(2048, 512, kernel_size=(1, 1), stride=(1, 1), bias=False)\n",
            "      (bn1): BatchNorm2d(512, eps=1e-05, momentum=0.1, affine=True, track_running_stats=True)\n",
            "      (conv2): Conv2d(512, 512, kernel_size=(3, 3), stride=(1, 1), padding=(1, 1), bias=False)\n",
            "      (bn2): BatchNorm2d(512, eps=1e-05, momentum=0.1, affine=True, track_running_stats=True)\n",
            "      (conv3): Conv2d(512, 2048, kernel_size=(1, 1), stride=(1, 1), bias=False)\n",
            "      (bn3): BatchNorm2d(2048, eps=1e-05, momentum=0.1, affine=True, track_running_stats=True)\n",
            "      (relu): ReLU(inplace=True)\n",
            "    )\n",
            "  )\n",
            "  (avgpool): AdaptiveAvgPool2d(output_size=(1, 1))\n",
            "  (fc): Linear(in_features=2048, out_features=1000, bias=True)\n",
            ")\n",
            "time: 1.29 s\n"
          ],
          "name": "stdout"
        }
      ]
    },
    {
      "cell_type": "markdown",
      "metadata": {
        "id": "fx4U4o8_1NAo",
        "colab_type": "text"
      },
      "source": [
        "### Freeze and modify final layer"
      ]
    },
    {
      "cell_type": "code",
      "metadata": {
        "id": "z-N437ijKbS6",
        "colab_type": "code",
        "colab": {
          "base_uri": "https://localhost:8080/",
          "height": 34
        },
        "outputId": "902831f1-d0ef-4e10-dcb8-01224c225a03"
      },
      "source": [
        "for param in model.parameters():\n",
        "    param.requires_grad = False\n",
        "    \n",
        "model.fc = nn.Sequential(nn.Linear(2048, 512),\n",
        "                                 nn.ReLU(),\n",
        "                                 nn.Dropout(0.2),\n",
        "                                 nn.Linear(512, 2),\n",
        "                                 nn.LogSoftmax(dim=1))"
      ],
      "execution_count": null,
      "outputs": [
        {
          "output_type": "stream",
          "text": [
            "time: 17.1 ms\n"
          ],
          "name": "stdout"
        }
      ]
    },
    {
      "cell_type": "markdown",
      "metadata": {
        "id": "UknXKevj1WZR",
        "colab_type": "text"
      },
      "source": [
        "## Loss and Optimizer"
      ]
    },
    {
      "cell_type": "code",
      "metadata": {
        "id": "eHuJkwN_1VaX",
        "colab_type": "code",
        "colab": {
          "base_uri": "https://localhost:8080/",
          "height": 1000
        },
        "outputId": "de1c0561-1500-4802-e43d-09d40bc68135"
      },
      "source": [
        "criterion = nn.NLLLoss()\n",
        "optimizer = optim.Adam(model.fc.parameters(), lr=0.003)\n",
        "model.to(device)"
      ],
      "execution_count": null,
      "outputs": [
        {
          "output_type": "execute_result",
          "data": {
            "text/plain": [
              "ResNet(\n",
              "  (conv1): Conv2d(3, 64, kernel_size=(7, 7), stride=(2, 2), padding=(3, 3), bias=False)\n",
              "  (bn1): BatchNorm2d(64, eps=1e-05, momentum=0.1, affine=True, track_running_stats=True)\n",
              "  (relu): ReLU(inplace=True)\n",
              "  (maxpool): MaxPool2d(kernel_size=3, stride=2, padding=1, dilation=1, ceil_mode=False)\n",
              "  (layer1): Sequential(\n",
              "    (0): Bottleneck(\n",
              "      (conv1): Conv2d(64, 64, kernel_size=(1, 1), stride=(1, 1), bias=False)\n",
              "      (bn1): BatchNorm2d(64, eps=1e-05, momentum=0.1, affine=True, track_running_stats=True)\n",
              "      (conv2): Conv2d(64, 64, kernel_size=(3, 3), stride=(1, 1), padding=(1, 1), bias=False)\n",
              "      (bn2): BatchNorm2d(64, eps=1e-05, momentum=0.1, affine=True, track_running_stats=True)\n",
              "      (conv3): Conv2d(64, 256, kernel_size=(1, 1), stride=(1, 1), bias=False)\n",
              "      (bn3): BatchNorm2d(256, eps=1e-05, momentum=0.1, affine=True, track_running_stats=True)\n",
              "      (relu): ReLU(inplace=True)\n",
              "      (downsample): Sequential(\n",
              "        (0): Conv2d(64, 256, kernel_size=(1, 1), stride=(1, 1), bias=False)\n",
              "        (1): BatchNorm2d(256, eps=1e-05, momentum=0.1, affine=True, track_running_stats=True)\n",
              "      )\n",
              "    )\n",
              "    (1): Bottleneck(\n",
              "      (conv1): Conv2d(256, 64, kernel_size=(1, 1), stride=(1, 1), bias=False)\n",
              "      (bn1): BatchNorm2d(64, eps=1e-05, momentum=0.1, affine=True, track_running_stats=True)\n",
              "      (conv2): Conv2d(64, 64, kernel_size=(3, 3), stride=(1, 1), padding=(1, 1), bias=False)\n",
              "      (bn2): BatchNorm2d(64, eps=1e-05, momentum=0.1, affine=True, track_running_stats=True)\n",
              "      (conv3): Conv2d(64, 256, kernel_size=(1, 1), stride=(1, 1), bias=False)\n",
              "      (bn3): BatchNorm2d(256, eps=1e-05, momentum=0.1, affine=True, track_running_stats=True)\n",
              "      (relu): ReLU(inplace=True)\n",
              "    )\n",
              "    (2): Bottleneck(\n",
              "      (conv1): Conv2d(256, 64, kernel_size=(1, 1), stride=(1, 1), bias=False)\n",
              "      (bn1): BatchNorm2d(64, eps=1e-05, momentum=0.1, affine=True, track_running_stats=True)\n",
              "      (conv2): Conv2d(64, 64, kernel_size=(3, 3), stride=(1, 1), padding=(1, 1), bias=False)\n",
              "      (bn2): BatchNorm2d(64, eps=1e-05, momentum=0.1, affine=True, track_running_stats=True)\n",
              "      (conv3): Conv2d(64, 256, kernel_size=(1, 1), stride=(1, 1), bias=False)\n",
              "      (bn3): BatchNorm2d(256, eps=1e-05, momentum=0.1, affine=True, track_running_stats=True)\n",
              "      (relu): ReLU(inplace=True)\n",
              "    )\n",
              "  )\n",
              "  (layer2): Sequential(\n",
              "    (0): Bottleneck(\n",
              "      (conv1): Conv2d(256, 128, kernel_size=(1, 1), stride=(1, 1), bias=False)\n",
              "      (bn1): BatchNorm2d(128, eps=1e-05, momentum=0.1, affine=True, track_running_stats=True)\n",
              "      (conv2): Conv2d(128, 128, kernel_size=(3, 3), stride=(2, 2), padding=(1, 1), bias=False)\n",
              "      (bn2): BatchNorm2d(128, eps=1e-05, momentum=0.1, affine=True, track_running_stats=True)\n",
              "      (conv3): Conv2d(128, 512, kernel_size=(1, 1), stride=(1, 1), bias=False)\n",
              "      (bn3): BatchNorm2d(512, eps=1e-05, momentum=0.1, affine=True, track_running_stats=True)\n",
              "      (relu): ReLU(inplace=True)\n",
              "      (downsample): Sequential(\n",
              "        (0): Conv2d(256, 512, kernel_size=(1, 1), stride=(2, 2), bias=False)\n",
              "        (1): BatchNorm2d(512, eps=1e-05, momentum=0.1, affine=True, track_running_stats=True)\n",
              "      )\n",
              "    )\n",
              "    (1): Bottleneck(\n",
              "      (conv1): Conv2d(512, 128, kernel_size=(1, 1), stride=(1, 1), bias=False)\n",
              "      (bn1): BatchNorm2d(128, eps=1e-05, momentum=0.1, affine=True, track_running_stats=True)\n",
              "      (conv2): Conv2d(128, 128, kernel_size=(3, 3), stride=(1, 1), padding=(1, 1), bias=False)\n",
              "      (bn2): BatchNorm2d(128, eps=1e-05, momentum=0.1, affine=True, track_running_stats=True)\n",
              "      (conv3): Conv2d(128, 512, kernel_size=(1, 1), stride=(1, 1), bias=False)\n",
              "      (bn3): BatchNorm2d(512, eps=1e-05, momentum=0.1, affine=True, track_running_stats=True)\n",
              "      (relu): ReLU(inplace=True)\n",
              "    )\n",
              "    (2): Bottleneck(\n",
              "      (conv1): Conv2d(512, 128, kernel_size=(1, 1), stride=(1, 1), bias=False)\n",
              "      (bn1): BatchNorm2d(128, eps=1e-05, momentum=0.1, affine=True, track_running_stats=True)\n",
              "      (conv2): Conv2d(128, 128, kernel_size=(3, 3), stride=(1, 1), padding=(1, 1), bias=False)\n",
              "      (bn2): BatchNorm2d(128, eps=1e-05, momentum=0.1, affine=True, track_running_stats=True)\n",
              "      (conv3): Conv2d(128, 512, kernel_size=(1, 1), stride=(1, 1), bias=False)\n",
              "      (bn3): BatchNorm2d(512, eps=1e-05, momentum=0.1, affine=True, track_running_stats=True)\n",
              "      (relu): ReLU(inplace=True)\n",
              "    )\n",
              "    (3): Bottleneck(\n",
              "      (conv1): Conv2d(512, 128, kernel_size=(1, 1), stride=(1, 1), bias=False)\n",
              "      (bn1): BatchNorm2d(128, eps=1e-05, momentum=0.1, affine=True, track_running_stats=True)\n",
              "      (conv2): Conv2d(128, 128, kernel_size=(3, 3), stride=(1, 1), padding=(1, 1), bias=False)\n",
              "      (bn2): BatchNorm2d(128, eps=1e-05, momentum=0.1, affine=True, track_running_stats=True)\n",
              "      (conv3): Conv2d(128, 512, kernel_size=(1, 1), stride=(1, 1), bias=False)\n",
              "      (bn3): BatchNorm2d(512, eps=1e-05, momentum=0.1, affine=True, track_running_stats=True)\n",
              "      (relu): ReLU(inplace=True)\n",
              "    )\n",
              "  )\n",
              "  (layer3): Sequential(\n",
              "    (0): Bottleneck(\n",
              "      (conv1): Conv2d(512, 256, kernel_size=(1, 1), stride=(1, 1), bias=False)\n",
              "      (bn1): BatchNorm2d(256, eps=1e-05, momentum=0.1, affine=True, track_running_stats=True)\n",
              "      (conv2): Conv2d(256, 256, kernel_size=(3, 3), stride=(2, 2), padding=(1, 1), bias=False)\n",
              "      (bn2): BatchNorm2d(256, eps=1e-05, momentum=0.1, affine=True, track_running_stats=True)\n",
              "      (conv3): Conv2d(256, 1024, kernel_size=(1, 1), stride=(1, 1), bias=False)\n",
              "      (bn3): BatchNorm2d(1024, eps=1e-05, momentum=0.1, affine=True, track_running_stats=True)\n",
              "      (relu): ReLU(inplace=True)\n",
              "      (downsample): Sequential(\n",
              "        (0): Conv2d(512, 1024, kernel_size=(1, 1), stride=(2, 2), bias=False)\n",
              "        (1): BatchNorm2d(1024, eps=1e-05, momentum=0.1, affine=True, track_running_stats=True)\n",
              "      )\n",
              "    )\n",
              "    (1): Bottleneck(\n",
              "      (conv1): Conv2d(1024, 256, kernel_size=(1, 1), stride=(1, 1), bias=False)\n",
              "      (bn1): BatchNorm2d(256, eps=1e-05, momentum=0.1, affine=True, track_running_stats=True)\n",
              "      (conv2): Conv2d(256, 256, kernel_size=(3, 3), stride=(1, 1), padding=(1, 1), bias=False)\n",
              "      (bn2): BatchNorm2d(256, eps=1e-05, momentum=0.1, affine=True, track_running_stats=True)\n",
              "      (conv3): Conv2d(256, 1024, kernel_size=(1, 1), stride=(1, 1), bias=False)\n",
              "      (bn3): BatchNorm2d(1024, eps=1e-05, momentum=0.1, affine=True, track_running_stats=True)\n",
              "      (relu): ReLU(inplace=True)\n",
              "    )\n",
              "    (2): Bottleneck(\n",
              "      (conv1): Conv2d(1024, 256, kernel_size=(1, 1), stride=(1, 1), bias=False)\n",
              "      (bn1): BatchNorm2d(256, eps=1e-05, momentum=0.1, affine=True, track_running_stats=True)\n",
              "      (conv2): Conv2d(256, 256, kernel_size=(3, 3), stride=(1, 1), padding=(1, 1), bias=False)\n",
              "      (bn2): BatchNorm2d(256, eps=1e-05, momentum=0.1, affine=True, track_running_stats=True)\n",
              "      (conv3): Conv2d(256, 1024, kernel_size=(1, 1), stride=(1, 1), bias=False)\n",
              "      (bn3): BatchNorm2d(1024, eps=1e-05, momentum=0.1, affine=True, track_running_stats=True)\n",
              "      (relu): ReLU(inplace=True)\n",
              "    )\n",
              "    (3): Bottleneck(\n",
              "      (conv1): Conv2d(1024, 256, kernel_size=(1, 1), stride=(1, 1), bias=False)\n",
              "      (bn1): BatchNorm2d(256, eps=1e-05, momentum=0.1, affine=True, track_running_stats=True)\n",
              "      (conv2): Conv2d(256, 256, kernel_size=(3, 3), stride=(1, 1), padding=(1, 1), bias=False)\n",
              "      (bn2): BatchNorm2d(256, eps=1e-05, momentum=0.1, affine=True, track_running_stats=True)\n",
              "      (conv3): Conv2d(256, 1024, kernel_size=(1, 1), stride=(1, 1), bias=False)\n",
              "      (bn3): BatchNorm2d(1024, eps=1e-05, momentum=0.1, affine=True, track_running_stats=True)\n",
              "      (relu): ReLU(inplace=True)\n",
              "    )\n",
              "    (4): Bottleneck(\n",
              "      (conv1): Conv2d(1024, 256, kernel_size=(1, 1), stride=(1, 1), bias=False)\n",
              "      (bn1): BatchNorm2d(256, eps=1e-05, momentum=0.1, affine=True, track_running_stats=True)\n",
              "      (conv2): Conv2d(256, 256, kernel_size=(3, 3), stride=(1, 1), padding=(1, 1), bias=False)\n",
              "      (bn2): BatchNorm2d(256, eps=1e-05, momentum=0.1, affine=True, track_running_stats=True)\n",
              "      (conv3): Conv2d(256, 1024, kernel_size=(1, 1), stride=(1, 1), bias=False)\n",
              "      (bn3): BatchNorm2d(1024, eps=1e-05, momentum=0.1, affine=True, track_running_stats=True)\n",
              "      (relu): ReLU(inplace=True)\n",
              "    )\n",
              "    (5): Bottleneck(\n",
              "      (conv1): Conv2d(1024, 256, kernel_size=(1, 1), stride=(1, 1), bias=False)\n",
              "      (bn1): BatchNorm2d(256, eps=1e-05, momentum=0.1, affine=True, track_running_stats=True)\n",
              "      (conv2): Conv2d(256, 256, kernel_size=(3, 3), stride=(1, 1), padding=(1, 1), bias=False)\n",
              "      (bn2): BatchNorm2d(256, eps=1e-05, momentum=0.1, affine=True, track_running_stats=True)\n",
              "      (conv3): Conv2d(256, 1024, kernel_size=(1, 1), stride=(1, 1), bias=False)\n",
              "      (bn3): BatchNorm2d(1024, eps=1e-05, momentum=0.1, affine=True, track_running_stats=True)\n",
              "      (relu): ReLU(inplace=True)\n",
              "    )\n",
              "  )\n",
              "  (layer4): Sequential(\n",
              "    (0): Bottleneck(\n",
              "      (conv1): Conv2d(1024, 512, kernel_size=(1, 1), stride=(1, 1), bias=False)\n",
              "      (bn1): BatchNorm2d(512, eps=1e-05, momentum=0.1, affine=True, track_running_stats=True)\n",
              "      (conv2): Conv2d(512, 512, kernel_size=(3, 3), stride=(2, 2), padding=(1, 1), bias=False)\n",
              "      (bn2): BatchNorm2d(512, eps=1e-05, momentum=0.1, affine=True, track_running_stats=True)\n",
              "      (conv3): Conv2d(512, 2048, kernel_size=(1, 1), stride=(1, 1), bias=False)\n",
              "      (bn3): BatchNorm2d(2048, eps=1e-05, momentum=0.1, affine=True, track_running_stats=True)\n",
              "      (relu): ReLU(inplace=True)\n",
              "      (downsample): Sequential(\n",
              "        (0): Conv2d(1024, 2048, kernel_size=(1, 1), stride=(2, 2), bias=False)\n",
              "        (1): BatchNorm2d(2048, eps=1e-05, momentum=0.1, affine=True, track_running_stats=True)\n",
              "      )\n",
              "    )\n",
              "    (1): Bottleneck(\n",
              "      (conv1): Conv2d(2048, 512, kernel_size=(1, 1), stride=(1, 1), bias=False)\n",
              "      (bn1): BatchNorm2d(512, eps=1e-05, momentum=0.1, affine=True, track_running_stats=True)\n",
              "      (conv2): Conv2d(512, 512, kernel_size=(3, 3), stride=(1, 1), padding=(1, 1), bias=False)\n",
              "      (bn2): BatchNorm2d(512, eps=1e-05, momentum=0.1, affine=True, track_running_stats=True)\n",
              "      (conv3): Conv2d(512, 2048, kernel_size=(1, 1), stride=(1, 1), bias=False)\n",
              "      (bn3): BatchNorm2d(2048, eps=1e-05, momentum=0.1, affine=True, track_running_stats=True)\n",
              "      (relu): ReLU(inplace=True)\n",
              "    )\n",
              "    (2): Bottleneck(\n",
              "      (conv1): Conv2d(2048, 512, kernel_size=(1, 1), stride=(1, 1), bias=False)\n",
              "      (bn1): BatchNorm2d(512, eps=1e-05, momentum=0.1, affine=True, track_running_stats=True)\n",
              "      (conv2): Conv2d(512, 512, kernel_size=(3, 3), stride=(1, 1), padding=(1, 1), bias=False)\n",
              "      (bn2): BatchNorm2d(512, eps=1e-05, momentum=0.1, affine=True, track_running_stats=True)\n",
              "      (conv3): Conv2d(512, 2048, kernel_size=(1, 1), stride=(1, 1), bias=False)\n",
              "      (bn3): BatchNorm2d(2048, eps=1e-05, momentum=0.1, affine=True, track_running_stats=True)\n",
              "      (relu): ReLU(inplace=True)\n",
              "    )\n",
              "  )\n",
              "  (avgpool): AdaptiveAvgPool2d(output_size=(1, 1))\n",
              "  (fc): Sequential(\n",
              "    (0): Linear(in_features=2048, out_features=512, bias=True)\n",
              "    (1): ReLU()\n",
              "    (2): Dropout(p=0.2, inplace=False)\n",
              "    (3): Linear(in_features=512, out_features=2, bias=True)\n",
              "    (4): LogSoftmax()\n",
              "  )\n",
              ")"
            ]
          },
          "metadata": {
            "tags": []
          },
          "execution_count": 24
        },
        {
          "output_type": "stream",
          "text": [
            "time: 9.45 s\n"
          ],
          "name": "stdout"
        }
      ]
    },
    {
      "cell_type": "markdown",
      "metadata": {
        "id": "CbGrAm-A1aho",
        "colab_type": "text"
      },
      "source": [
        "## Training - Train"
      ]
    },
    {
      "cell_type": "code",
      "metadata": {
        "id": "Fzfgab0xKbJx",
        "colab_type": "code",
        "colab": {
          "base_uri": "https://localhost:8080/",
          "height": 1000
        },
        "outputId": "74b5ace4-3b53-439c-e7f7-e10315126069"
      },
      "source": [
        "epochs = 100\n",
        "steps = 0\n",
        "running_loss = 0\n",
        "print_every = 10\n",
        "train_losses, test_losses = [], []\n",
        "for epoch in tqdm(range(epochs)):\n",
        "    for inputs, labels in trainloader:\n",
        "        steps += 1\n",
        "        inputs, labels = inputs.to(device), labels.to(device)\n",
        "        optimizer.zero_grad()\n",
        "        logps = model.forward(inputs)\n",
        "        loss = criterion(logps, labels)\n",
        "        loss.backward()\n",
        "        optimizer.step()\n",
        "        running_loss += loss.item()\n",
        "        \n",
        "        if steps % print_every == 0:\n",
        "            test_loss = 0\n",
        "            accuracy = 0\n",
        "            model.eval()\n",
        "            with torch.no_grad():\n",
        "                for inputs, labels in testloader:\n",
        "                    inputs, labels = inputs.to(device), labels.to(device)\n",
        "                    logps = model.forward(inputs)\n",
        "                    batch_loss = criterion(logps, labels)\n",
        "                    test_loss += batch_loss.item()\n",
        "                    \n",
        "                    ps = torch.exp(logps)\n",
        "                    top_p, top_class = ps.topk(1, dim=1)\n",
        "                    equals = top_class == labels.view(*top_class.shape)\n",
        "                    accuracy += torch.mean(equals.type(torch.FloatTensor)).item()\n",
        "            train_losses.append(running_loss/len(trainloader))\n",
        "            test_losses.append(test_loss/len(testloader))                    \n",
        "            print(f\"Epoch {epoch+1}/{epochs}.. \"\n",
        "                  f\"Train loss: {running_loss/print_every:.3f}.. \"\n",
        "                  f\"Test loss: {test_loss/len(testloader):.3f}.. \"\n",
        "                  f\"Test accuracy: {accuracy/len(testloader):.3f}\")\n",
        "            running_loss = 0\n",
        "            model.train()\n",
        "torch.save(model, 'jantahackathon.pth')"
      ],
      "execution_count": null,
      "outputs": [
        {
          "output_type": "stream",
          "text": [
            "\r  0%|          | 0/100 [00:00<?, ?it/s]"
          ],
          "name": "stderr"
        },
        {
          "output_type": "stream",
          "text": [
            "Epoch 1/100.. Train loss: 1.590.. Test loss: 0.331.. Test accuracy: 0.899\n",
            "Epoch 1/100.. Train loss: 0.521.. Test loss: 0.394.. Test accuracy: 0.826\n",
            "Epoch 1/100.. Train loss: 0.508.. Test loss: 0.343.. Test accuracy: 0.858\n",
            "Epoch 1/100.. Train loss: 0.381.. Test loss: 0.320.. Test accuracy: 0.867\n",
            "Epoch 1/100.. Train loss: 0.200.. Test loss: 0.218.. Test accuracy: 0.923\n",
            "Epoch 1/100.. Train loss: 0.303.. Test loss: 0.240.. Test accuracy: 0.920\n",
            "Epoch 1/100.. Train loss: 0.229.. Test loss: 0.226.. Test accuracy: 0.895\n",
            "Epoch 1/100.. Train loss: 0.268.. Test loss: 0.214.. Test accuracy: 0.902\n"
          ],
          "name": "stdout"
        },
        {
          "output_type": "stream",
          "text": [
            "\r  1%|          | 1/100 [08:12<13:31:51, 492.04s/it]"
          ],
          "name": "stderr"
        },
        {
          "output_type": "stream",
          "text": [
            "Epoch 2/100.. Train loss: 0.351.. Test loss: 0.315.. Test accuracy: 0.874\n",
            "Epoch 2/100.. Train loss: 0.264.. Test loss: 0.537.. Test accuracy: 0.790\n",
            "Epoch 2/100.. Train loss: 0.498.. Test loss: 0.255.. Test accuracy: 0.905\n",
            "Epoch 2/100.. Train loss: 0.414.. Test loss: 0.221.. Test accuracy: 0.908\n",
            "Epoch 2/100.. Train loss: 0.391.. Test loss: 0.229.. Test accuracy: 0.902\n",
            "Epoch 2/100.. Train loss: 0.267.. Test loss: 0.209.. Test accuracy: 0.902\n",
            "Epoch 2/100.. Train loss: 0.239.. Test loss: 0.197.. Test accuracy: 0.911\n",
            "Epoch 2/100.. Train loss: 0.307.. Test loss: 0.204.. Test accuracy: 0.914\n"
          ],
          "name": "stdout"
        },
        {
          "output_type": "stream",
          "text": [
            "\r  2%|▏         | 2/100 [08:29<9:30:52, 349.52s/it] "
          ],
          "name": "stderr"
        },
        {
          "output_type": "stream",
          "text": [
            "Epoch 3/100.. Train loss: 0.291.. Test loss: 0.223.. Test accuracy: 0.906\n",
            "Epoch 3/100.. Train loss: 0.240.. Test loss: 0.279.. Test accuracy: 0.903\n",
            "Epoch 3/100.. Train loss: 0.203.. Test loss: 0.191.. Test accuracy: 0.908\n",
            "Epoch 3/100.. Train loss: 0.221.. Test loss: 0.298.. Test accuracy: 0.870\n",
            "Epoch 3/100.. Train loss: 0.298.. Test loss: 0.197.. Test accuracy: 0.911\n",
            "Epoch 3/100.. Train loss: 0.212.. Test loss: 0.209.. Test accuracy: 0.909\n",
            "Epoch 3/100.. Train loss: 0.368.. Test loss: 0.232.. Test accuracy: 0.920\n",
            "Epoch 3/100.. Train loss: 0.361.. Test loss: 0.304.. Test accuracy: 0.878\n"
          ],
          "name": "stdout"
        },
        {
          "output_type": "stream",
          "text": [
            "\r  3%|▎         | 3/100 [08:46<6:44:07, 249.97s/it]"
          ],
          "name": "stderr"
        },
        {
          "output_type": "stream",
          "text": [
            "Epoch 4/100.. Train loss: 0.200.. Test loss: 0.208.. Test accuracy: 0.920\n",
            "Epoch 4/100.. Train loss: 0.171.. Test loss: 0.232.. Test accuracy: 0.920\n",
            "Epoch 4/100.. Train loss: 0.250.. Test loss: 0.457.. Test accuracy: 0.803\n",
            "Epoch 4/100.. Train loss: 0.317.. Test loss: 0.194.. Test accuracy: 0.923\n",
            "Epoch 4/100.. Train loss: 0.257.. Test loss: 0.222.. Test accuracy: 0.920\n",
            "Epoch 4/100.. Train loss: 0.276.. Test loss: 0.201.. Test accuracy: 0.920\n",
            "Epoch 4/100.. Train loss: 0.297.. Test loss: 0.298.. Test accuracy: 0.893\n",
            "Epoch 4/100.. Train loss: 0.350.. Test loss: 0.215.. Test accuracy: 0.917\n"
          ],
          "name": "stdout"
        },
        {
          "output_type": "stream",
          "text": [
            "\r  4%|▍         | 4/100 [09:05<4:48:58, 180.61s/it]"
          ],
          "name": "stderr"
        },
        {
          "output_type": "stream",
          "text": [
            "Epoch 4/100.. Train loss: 0.188.. Test loss: 0.188.. Test accuracy: 0.929\n",
            "Epoch 5/100.. Train loss: 0.212.. Test loss: 0.194.. Test accuracy: 0.918\n",
            "Epoch 5/100.. Train loss: 0.207.. Test loss: 0.190.. Test accuracy: 0.920\n",
            "Epoch 5/100.. Train loss: 0.331.. Test loss: 0.286.. Test accuracy: 0.870\n",
            "Epoch 5/100.. Train loss: 0.284.. Test loss: 0.200.. Test accuracy: 0.914\n",
            "Epoch 5/100.. Train loss: 0.248.. Test loss: 0.300.. Test accuracy: 0.902\n",
            "Epoch 5/100.. Train loss: 0.214.. Test loss: 0.245.. Test accuracy: 0.896\n",
            "Epoch 5/100.. Train loss: 0.305.. Test loss: 0.261.. Test accuracy: 0.891\n",
            "Epoch 5/100.. Train loss: 0.266.. Test loss: 0.309.. Test accuracy: 0.890\n"
          ],
          "name": "stdout"
        },
        {
          "output_type": "stream",
          "text": [
            "\r  5%|▌         | 5/100 [09:22<3:28:18, 131.56s/it]"
          ],
          "name": "stderr"
        },
        {
          "output_type": "stream",
          "text": [
            "Epoch 6/100.. Train loss: 0.280.. Test loss: 0.210.. Test accuracy: 0.917\n",
            "Epoch 6/100.. Train loss: 0.264.. Test loss: 0.192.. Test accuracy: 0.926\n",
            "Epoch 6/100.. Train loss: 0.274.. Test loss: 0.191.. Test accuracy: 0.926\n",
            "Epoch 6/100.. Train loss: 0.162.. Test loss: 0.201.. Test accuracy: 0.915\n",
            "Epoch 6/100.. Train loss: 0.181.. Test loss: 0.233.. Test accuracy: 0.897\n",
            "Epoch 6/100.. Train loss: 0.210.. Test loss: 0.211.. Test accuracy: 0.917\n",
            "Epoch 6/100.. Train loss: 0.145.. Test loss: 0.200.. Test accuracy: 0.917\n",
            "Epoch 6/100.. Train loss: 0.162.. Test loss: 0.188.. Test accuracy: 0.923\n"
          ],
          "name": "stdout"
        },
        {
          "output_type": "stream",
          "text": [
            "\r  6%|▌         | 6/100 [09:39<2:32:18, 97.22s/it] "
          ],
          "name": "stderr"
        },
        {
          "output_type": "stream",
          "text": [
            "Epoch 7/100.. Train loss: 0.223.. Test loss: 0.220.. Test accuracy: 0.905\n",
            "Epoch 7/100.. Train loss: 0.315.. Test loss: 0.244.. Test accuracy: 0.905\n",
            "Epoch 7/100.. Train loss: 0.252.. Test loss: 0.196.. Test accuracy: 0.926\n",
            "Epoch 7/100.. Train loss: 0.233.. Test loss: 0.220.. Test accuracy: 0.902\n",
            "Epoch 7/100.. Train loss: 0.205.. Test loss: 0.196.. Test accuracy: 0.920\n",
            "Epoch 7/100.. Train loss: 0.215.. Test loss: 0.217.. Test accuracy: 0.905\n",
            "Epoch 7/100.. Train loss: 0.183.. Test loss: 0.229.. Test accuracy: 0.914\n",
            "Epoch 7/100.. Train loss: 0.171.. Test loss: 0.229.. Test accuracy: 0.902\n"
          ],
          "name": "stdout"
        },
        {
          "output_type": "stream",
          "text": [
            "\r  7%|▋         | 7/100 [09:58<1:54:05, 73.60s/it]"
          ],
          "name": "stderr"
        },
        {
          "output_type": "stream",
          "text": [
            "Epoch 7/100.. Train loss: 0.160.. Test loss: 0.189.. Test accuracy: 0.929\n",
            "Epoch 8/100.. Train loss: 0.154.. Test loss: 0.195.. Test accuracy: 0.929\n",
            "Epoch 8/100.. Train loss: 0.164.. Test loss: 0.185.. Test accuracy: 0.929\n",
            "Epoch 8/100.. Train loss: 0.291.. Test loss: 0.303.. Test accuracy: 0.861\n",
            "Epoch 8/100.. Train loss: 0.201.. Test loss: 0.229.. Test accuracy: 0.905\n",
            "Epoch 8/100.. Train loss: 0.212.. Test loss: 0.192.. Test accuracy: 0.923\n",
            "Epoch 8/100.. Train loss: 0.235.. Test loss: 0.217.. Test accuracy: 0.911\n",
            "Epoch 8/100.. Train loss: 0.229.. Test loss: 0.260.. Test accuracy: 0.908\n",
            "Epoch 8/100.. Train loss: 0.252.. Test loss: 0.201.. Test accuracy: 0.932\n"
          ],
          "name": "stdout"
        },
        {
          "output_type": "stream",
          "text": [
            "\r  8%|▊         | 8/100 [10:15<1:26:54, 56.68s/it]"
          ],
          "name": "stderr"
        },
        {
          "output_type": "stream",
          "text": [
            "Epoch 9/100.. Train loss: 0.236.. Test loss: 0.197.. Test accuracy: 0.917\n",
            "Epoch 9/100.. Train loss: 0.361.. Test loss: 0.190.. Test accuracy: 0.920\n",
            "Epoch 9/100.. Train loss: 0.296.. Test loss: 0.551.. Test accuracy: 0.756\n",
            "Epoch 9/100.. Train loss: 0.420.. Test loss: 0.229.. Test accuracy: 0.915\n",
            "Epoch 9/100.. Train loss: 0.312.. Test loss: 0.392.. Test accuracy: 0.817\n",
            "Epoch 9/100.. Train loss: 0.274.. Test loss: 0.424.. Test accuracy: 0.835\n",
            "Epoch 9/100.. Train loss: 0.309.. Test loss: 0.177.. Test accuracy: 0.929\n",
            "Epoch 9/100.. Train loss: 0.288.. Test loss: 0.201.. Test accuracy: 0.921\n"
          ],
          "name": "stdout"
        },
        {
          "output_type": "stream",
          "text": [
            "\r  9%|▉         | 9/100 [10:32<1:07:52, 44.75s/it]"
          ],
          "name": "stderr"
        },
        {
          "output_type": "stream",
          "text": [
            "Epoch 10/100.. Train loss: 0.175.. Test loss: 0.206.. Test accuracy: 0.920\n",
            "Epoch 10/100.. Train loss: 0.228.. Test loss: 0.187.. Test accuracy: 0.917\n",
            "Epoch 10/100.. Train loss: 0.251.. Test loss: 0.325.. Test accuracy: 0.882\n",
            "Epoch 10/100.. Train loss: 0.179.. Test loss: 0.222.. Test accuracy: 0.902\n",
            "Epoch 10/100.. Train loss: 0.265.. Test loss: 0.205.. Test accuracy: 0.917\n",
            "Epoch 10/100.. Train loss: 0.174.. Test loss: 0.345.. Test accuracy: 0.885\n",
            "Epoch 10/100.. Train loss: 0.343.. Test loss: 0.234.. Test accuracy: 0.897\n",
            "Epoch 10/100.. Train loss: 0.180.. Test loss: 0.202.. Test accuracy: 0.918\n"
          ],
          "name": "stdout"
        },
        {
          "output_type": "stream",
          "text": [
            "\r 10%|█         | 10/100 [10:50<55:17, 36.86s/it] "
          ],
          "name": "stderr"
        },
        {
          "output_type": "stream",
          "text": [
            "Epoch 10/100.. Train loss: 0.211.. Test loss: 0.228.. Test accuracy: 0.909\n",
            "Epoch 11/100.. Train loss: 0.306.. Test loss: 0.256.. Test accuracy: 0.894\n",
            "Epoch 11/100.. Train loss: 0.187.. Test loss: 0.203.. Test accuracy: 0.917\n",
            "Epoch 11/100.. Train loss: 0.250.. Test loss: 0.225.. Test accuracy: 0.908\n",
            "Epoch 11/100.. Train loss: 0.268.. Test loss: 0.232.. Test accuracy: 0.899\n",
            "Epoch 11/100.. Train loss: 0.176.. Test loss: 0.200.. Test accuracy: 0.917\n",
            "Epoch 11/100.. Train loss: 0.207.. Test loss: 0.239.. Test accuracy: 0.914\n",
            "Epoch 11/100.. Train loss: 0.176.. Test loss: 0.268.. Test accuracy: 0.911\n"
          ],
          "name": "stdout"
        },
        {
          "output_type": "stream",
          "text": [
            "\r 11%|█         | 11/100 [11:07<45:51, 30.92s/it]"
          ],
          "name": "stderr"
        },
        {
          "output_type": "stream",
          "text": [
            "Epoch 11/100.. Train loss: 0.304.. Test loss: 0.183.. Test accuracy: 0.935\n",
            "Epoch 12/100.. Train loss: 0.251.. Test loss: 0.203.. Test accuracy: 0.919\n",
            "Epoch 12/100.. Train loss: 0.196.. Test loss: 0.193.. Test accuracy: 0.932\n",
            "Epoch 12/100.. Train loss: 0.347.. Test loss: 0.231.. Test accuracy: 0.908\n",
            "Epoch 12/100.. Train loss: 0.216.. Test loss: 0.202.. Test accuracy: 0.920\n",
            "Epoch 12/100.. Train loss: 0.103.. Test loss: 0.191.. Test accuracy: 0.926\n",
            "Epoch 12/100.. Train loss: 0.179.. Test loss: 0.206.. Test accuracy: 0.920\n",
            "Epoch 12/100.. Train loss: 0.118.. Test loss: 0.192.. Test accuracy: 0.926\n",
            "Epoch 12/100.. Train loss: 0.227.. Test loss: 0.253.. Test accuracy: 0.879\n"
          ],
          "name": "stdout"
        },
        {
          "output_type": "stream",
          "text": [
            "\r 12%|█▏        | 12/100 [11:24<39:16, 26.77s/it]"
          ],
          "name": "stderr"
        },
        {
          "output_type": "stream",
          "text": [
            "Epoch 13/100.. Train loss: 0.235.. Test loss: 0.233.. Test accuracy: 0.920\n",
            "Epoch 13/100.. Train loss: 0.164.. Test loss: 0.186.. Test accuracy: 0.938\n",
            "Epoch 13/100.. Train loss: 0.184.. Test loss: 0.223.. Test accuracy: 0.917\n",
            "Epoch 13/100.. Train loss: 0.152.. Test loss: 0.210.. Test accuracy: 0.914\n",
            "Epoch 13/100.. Train loss: 0.202.. Test loss: 0.204.. Test accuracy: 0.911\n",
            "Epoch 13/100.. Train loss: 0.208.. Test loss: 0.193.. Test accuracy: 0.926\n",
            "Epoch 13/100.. Train loss: 0.138.. Test loss: 0.252.. Test accuracy: 0.908\n",
            "Epoch 13/100.. Train loss: 0.397.. Test loss: 0.206.. Test accuracy: 0.921\n"
          ],
          "name": "stdout"
        },
        {
          "output_type": "stream",
          "text": [
            "\r 13%|█▎        | 13/100 [11:41<34:36, 23.87s/it]"
          ],
          "name": "stderr"
        },
        {
          "output_type": "stream",
          "text": [
            "Epoch 14/100.. Train loss: 0.285.. Test loss: 0.179.. Test accuracy: 0.926\n",
            "Epoch 14/100.. Train loss: 0.215.. Test loss: 0.196.. Test accuracy: 0.920\n",
            "Epoch 14/100.. Train loss: 0.193.. Test loss: 0.193.. Test accuracy: 0.926\n",
            "Epoch 14/100.. Train loss: 0.230.. Test loss: 0.190.. Test accuracy: 0.920\n",
            "Epoch 14/100.. Train loss: 0.112.. Test loss: 0.202.. Test accuracy: 0.923\n",
            "Epoch 14/100.. Train loss: 0.173.. Test loss: 0.193.. Test accuracy: 0.926\n",
            "Epoch 14/100.. Train loss: 0.215.. Test loss: 0.226.. Test accuracy: 0.923\n",
            "Epoch 14/100.. Train loss: 0.239.. Test loss: 0.244.. Test accuracy: 0.900\n"
          ],
          "name": "stdout"
        },
        {
          "output_type": "stream",
          "text": [
            "\r 14%|█▍        | 14/100 [12:00<31:53, 22.25s/it]"
          ],
          "name": "stderr"
        },
        {
          "output_type": "stream",
          "text": [
            "Epoch 14/100.. Train loss: 0.200.. Test loss: 0.201.. Test accuracy: 0.911\n",
            "Epoch 15/100.. Train loss: 0.196.. Test loss: 0.194.. Test accuracy: 0.914\n",
            "Epoch 15/100.. Train loss: 0.139.. Test loss: 0.195.. Test accuracy: 0.923\n",
            "Epoch 15/100.. Train loss: 0.164.. Test loss: 0.195.. Test accuracy: 0.923\n",
            "Epoch 15/100.. Train loss: 0.147.. Test loss: 0.243.. Test accuracy: 0.914\n",
            "Epoch 15/100.. Train loss: 0.232.. Test loss: 0.206.. Test accuracy: 0.914\n",
            "Epoch 15/100.. Train loss: 0.224.. Test loss: 0.178.. Test accuracy: 0.932\n",
            "Epoch 15/100.. Train loss: 0.284.. Test loss: 0.188.. Test accuracy: 0.929\n",
            "Epoch 15/100.. Train loss: 0.238.. Test loss: 0.182.. Test accuracy: 0.926\n"
          ],
          "name": "stdout"
        },
        {
          "output_type": "stream",
          "text": [
            "\r 15%|█▌        | 15/100 [12:17<29:20, 20.71s/it]"
          ],
          "name": "stderr"
        },
        {
          "output_type": "stream",
          "text": [
            "Epoch 16/100.. Train loss: 0.180.. Test loss: 0.199.. Test accuracy: 0.923\n",
            "Epoch 16/100.. Train loss: 0.216.. Test loss: 0.193.. Test accuracy: 0.923\n",
            "Epoch 16/100.. Train loss: 0.228.. Test loss: 0.231.. Test accuracy: 0.914\n",
            "Epoch 16/100.. Train loss: 0.197.. Test loss: 0.219.. Test accuracy: 0.911\n",
            "Epoch 16/100.. Train loss: 0.191.. Test loss: 0.176.. Test accuracy: 0.920\n",
            "Epoch 16/100.. Train loss: 0.204.. Test loss: 0.240.. Test accuracy: 0.899\n",
            "Epoch 16/100.. Train loss: 0.184.. Test loss: 0.205.. Test accuracy: 0.911\n",
            "Epoch 16/100.. Train loss: 0.145.. Test loss: 0.208.. Test accuracy: 0.917\n"
          ],
          "name": "stdout"
        },
        {
          "output_type": "stream",
          "text": [
            "\r 16%|█▌        | 16/100 [12:34<27:26, 19.60s/it]"
          ],
          "name": "stderr"
        },
        {
          "output_type": "stream",
          "text": [
            "Epoch 17/100.. Train loss: 0.234.. Test loss: 0.238.. Test accuracy: 0.899\n",
            "Epoch 17/100.. Train loss: 0.297.. Test loss: 0.305.. Test accuracy: 0.853\n",
            "Epoch 17/100.. Train loss: 0.163.. Test loss: 0.203.. Test accuracy: 0.902\n",
            "Epoch 17/100.. Train loss: 0.196.. Test loss: 0.217.. Test accuracy: 0.923\n",
            "Epoch 17/100.. Train loss: 0.199.. Test loss: 0.185.. Test accuracy: 0.920\n",
            "Epoch 17/100.. Train loss: 0.215.. Test loss: 0.203.. Test accuracy: 0.908\n",
            "Epoch 17/100.. Train loss: 0.244.. Test loss: 0.222.. Test accuracy: 0.917\n",
            "Epoch 17/100.. Train loss: 0.248.. Test loss: 0.174.. Test accuracy: 0.922\n"
          ],
          "name": "stdout"
        },
        {
          "output_type": "stream",
          "text": [
            "\r 17%|█▋        | 17/100 [12:53<26:37, 19.25s/it]"
          ],
          "name": "stderr"
        },
        {
          "output_type": "stream",
          "text": [
            "Epoch 17/100.. Train loss: 0.192.. Test loss: 0.174.. Test accuracy: 0.923\n",
            "Epoch 18/100.. Train loss: 0.170.. Test loss: 0.167.. Test accuracy: 0.926\n",
            "Epoch 18/100.. Train loss: 0.106.. Test loss: 0.185.. Test accuracy: 0.926\n",
            "Epoch 18/100.. Train loss: 0.145.. Test loss: 0.178.. Test accuracy: 0.932\n",
            "Epoch 18/100.. Train loss: 0.166.. Test loss: 0.207.. Test accuracy: 0.920\n",
            "Epoch 18/100.. Train loss: 0.259.. Test loss: 0.201.. Test accuracy: 0.932\n",
            "Epoch 18/100.. Train loss: 0.215.. Test loss: 0.193.. Test accuracy: 0.928\n",
            "Epoch 18/100.. Train loss: 0.213.. Test loss: 0.161.. Test accuracy: 0.932\n",
            "Epoch 18/100.. Train loss: 0.212.. Test loss: 0.164.. Test accuracy: 0.932\n"
          ],
          "name": "stdout"
        },
        {
          "output_type": "stream",
          "text": [
            "\r 18%|█▊        | 18/100 [13:10<25:24, 18.59s/it]"
          ],
          "name": "stderr"
        },
        {
          "output_type": "stream",
          "text": [
            "Epoch 19/100.. Train loss: 0.319.. Test loss: 0.235.. Test accuracy: 0.911\n",
            "Epoch 19/100.. Train loss: 0.181.. Test loss: 0.205.. Test accuracy: 0.920\n",
            "Epoch 19/100.. Train loss: 0.252.. Test loss: 0.261.. Test accuracy: 0.902\n",
            "Epoch 19/100.. Train loss: 0.194.. Test loss: 0.183.. Test accuracy: 0.935\n",
            "Epoch 19/100.. Train loss: 0.154.. Test loss: 0.171.. Test accuracy: 0.929\n",
            "Epoch 19/100.. Train loss: 0.263.. Test loss: 0.249.. Test accuracy: 0.879\n",
            "Epoch 19/100.. Train loss: 0.118.. Test loss: 0.232.. Test accuracy: 0.906\n",
            "Epoch 19/100.. Train loss: 0.155.. Test loss: 0.192.. Test accuracy: 0.911\n"
          ],
          "name": "stdout"
        },
        {
          "output_type": "stream",
          "text": [
            "\r 19%|█▉        | 19/100 [13:27<24:27, 18.12s/it]"
          ],
          "name": "stderr"
        },
        {
          "output_type": "stream",
          "text": [
            "Epoch 20/100.. Train loss: 0.133.. Test loss: 0.190.. Test accuracy: 0.917\n",
            "Epoch 20/100.. Train loss: 0.174.. Test loss: 0.211.. Test accuracy: 0.929\n",
            "Epoch 20/100.. Train loss: 0.154.. Test loss: 0.179.. Test accuracy: 0.935\n",
            "Epoch 20/100.. Train loss: 0.245.. Test loss: 0.211.. Test accuracy: 0.905\n",
            "Epoch 20/100.. Train loss: 0.238.. Test loss: 0.176.. Test accuracy: 0.932\n",
            "Epoch 20/100.. Train loss: 0.138.. Test loss: 0.163.. Test accuracy: 0.940\n",
            "Epoch 20/100.. Train loss: 0.160.. Test loss: 0.242.. Test accuracy: 0.923\n",
            "Epoch 20/100.. Train loss: 0.185.. Test loss: 0.181.. Test accuracy: 0.932\n"
          ],
          "name": "stdout"
        },
        {
          "output_type": "stream",
          "text": [
            "\r 20%|██        | 20/100 [13:45<24:20, 18.26s/it]"
          ],
          "name": "stderr"
        },
        {
          "output_type": "stream",
          "text": [
            "Epoch 20/100.. Train loss: 0.171.. Test loss: 0.177.. Test accuracy: 0.940\n",
            "Epoch 21/100.. Train loss: 0.160.. Test loss: 0.190.. Test accuracy: 0.920\n",
            "Epoch 21/100.. Train loss: 0.238.. Test loss: 0.210.. Test accuracy: 0.914\n",
            "Epoch 21/100.. Train loss: 0.205.. Test loss: 0.235.. Test accuracy: 0.896\n",
            "Epoch 21/100.. Train loss: 0.306.. Test loss: 0.242.. Test accuracy: 0.868\n",
            "Epoch 21/100.. Train loss: 0.199.. Test loss: 0.241.. Test accuracy: 0.919\n",
            "Epoch 21/100.. Train loss: 0.167.. Test loss: 0.239.. Test accuracy: 0.897\n",
            "Epoch 21/100.. Train loss: 0.125.. Test loss: 0.240.. Test accuracy: 0.920\n"
          ],
          "name": "stdout"
        },
        {
          "output_type": "stream",
          "text": [
            "\r 21%|██        | 21/100 [14:03<23:54, 18.16s/it]"
          ],
          "name": "stderr"
        },
        {
          "output_type": "stream",
          "text": [
            "Epoch 21/100.. Train loss: 0.161.. Test loss: 0.177.. Test accuracy: 0.935\n",
            "Epoch 22/100.. Train loss: 0.145.. Test loss: 0.180.. Test accuracy: 0.926\n",
            "Epoch 22/100.. Train loss: 0.183.. Test loss: 0.167.. Test accuracy: 0.935\n",
            "Epoch 22/100.. Train loss: 0.198.. Test loss: 0.171.. Test accuracy: 0.929\n",
            "Epoch 22/100.. Train loss: 0.198.. Test loss: 0.183.. Test accuracy: 0.920\n",
            "Epoch 22/100.. Train loss: 0.172.. Test loss: 0.180.. Test accuracy: 0.920\n",
            "Epoch 22/100.. Train loss: 0.258.. Test loss: 0.208.. Test accuracy: 0.905\n",
            "Epoch 22/100.. Train loss: 0.256.. Test loss: 0.226.. Test accuracy: 0.914\n",
            "Epoch 22/100.. Train loss: 0.242.. Test loss: 0.199.. Test accuracy: 0.930\n"
          ],
          "name": "stdout"
        },
        {
          "output_type": "stream",
          "text": [
            "\r 22%|██▏       | 22/100 [14:20<23:11, 17.84s/it]"
          ],
          "name": "stderr"
        },
        {
          "output_type": "stream",
          "text": [
            "Epoch 23/100.. Train loss: 0.184.. Test loss: 0.182.. Test accuracy: 0.926\n",
            "Epoch 23/100.. Train loss: 0.146.. Test loss: 0.232.. Test accuracy: 0.896\n",
            "Epoch 23/100.. Train loss: 0.122.. Test loss: 0.227.. Test accuracy: 0.917\n",
            "Epoch 23/100.. Train loss: 0.242.. Test loss: 0.224.. Test accuracy: 0.902\n",
            "Epoch 23/100.. Train loss: 0.191.. Test loss: 0.196.. Test accuracy: 0.917\n",
            "Epoch 23/100.. Train loss: 0.208.. Test loss: 0.187.. Test accuracy: 0.917\n",
            "Epoch 23/100.. Train loss: 0.248.. Test loss: 0.184.. Test accuracy: 0.935\n",
            "Epoch 23/100.. Train loss: 0.208.. Test loss: 0.193.. Test accuracy: 0.941\n"
          ],
          "name": "stdout"
        },
        {
          "output_type": "stream",
          "text": [
            "\r 23%|██▎       | 23/100 [14:37<22:39, 17.65s/it]"
          ],
          "name": "stderr"
        },
        {
          "output_type": "stream",
          "text": [
            "Epoch 24/100.. Train loss: 0.131.. Test loss: 0.182.. Test accuracy: 0.923\n",
            "Epoch 24/100.. Train loss: 0.136.. Test loss: 0.185.. Test accuracy: 0.940\n",
            "Epoch 24/100.. Train loss: 0.131.. Test loss: 0.205.. Test accuracy: 0.925\n",
            "Epoch 24/100.. Train loss: 0.170.. Test loss: 0.168.. Test accuracy: 0.938\n",
            "Epoch 24/100.. Train loss: 0.192.. Test loss: 0.171.. Test accuracy: 0.933\n",
            "Epoch 24/100.. Train loss: 0.180.. Test loss: 0.191.. Test accuracy: 0.920\n",
            "Epoch 24/100.. Train loss: 0.127.. Test loss: 0.199.. Test accuracy: 0.926\n",
            "Epoch 24/100.. Train loss: 0.283.. Test loss: 0.197.. Test accuracy: 0.923\n"
          ],
          "name": "stdout"
        },
        {
          "output_type": "stream",
          "text": [
            "\r 24%|██▍       | 24/100 [14:56<22:43, 17.94s/it]"
          ],
          "name": "stderr"
        },
        {
          "output_type": "stream",
          "text": [
            "Epoch 24/100.. Train loss: 0.293.. Test loss: 0.240.. Test accuracy: 0.923\n",
            "Epoch 25/100.. Train loss: 0.221.. Test loss: 0.178.. Test accuracy: 0.926\n",
            "Epoch 25/100.. Train loss: 0.198.. Test loss: 0.183.. Test accuracy: 0.929\n",
            "Epoch 25/100.. Train loss: 0.157.. Test loss: 0.188.. Test accuracy: 0.932\n",
            "Epoch 25/100.. Train loss: 0.173.. Test loss: 0.184.. Test accuracy: 0.924\n",
            "Epoch 25/100.. Train loss: 0.241.. Test loss: 0.184.. Test accuracy: 0.944\n",
            "Epoch 25/100.. Train loss: 0.228.. Test loss: 0.200.. Test accuracy: 0.917\n",
            "Epoch 25/100.. Train loss: 0.298.. Test loss: 0.182.. Test accuracy: 0.930\n",
            "Epoch 25/100.. Train loss: 0.152.. Test loss: 0.192.. Test accuracy: 0.917\n"
          ],
          "name": "stdout"
        },
        {
          "output_type": "stream",
          "text": [
            "\r 25%|██▌       | 25/100 [15:13<22:14, 17.79s/it]"
          ],
          "name": "stderr"
        },
        {
          "output_type": "stream",
          "text": [
            "Epoch 26/100.. Train loss: 0.183.. Test loss: 0.176.. Test accuracy: 0.929\n",
            "Epoch 26/100.. Train loss: 0.173.. Test loss: 0.169.. Test accuracy: 0.938\n",
            "Epoch 26/100.. Train loss: 0.179.. Test loss: 0.190.. Test accuracy: 0.926\n",
            "Epoch 26/100.. Train loss: 0.358.. Test loss: 0.289.. Test accuracy: 0.858\n",
            "Epoch 26/100.. Train loss: 0.174.. Test loss: 0.201.. Test accuracy: 0.917\n",
            "Epoch 26/100.. Train loss: 0.249.. Test loss: 0.206.. Test accuracy: 0.923\n",
            "Epoch 26/100.. Train loss: 0.336.. Test loss: 0.243.. Test accuracy: 0.909\n",
            "Epoch 26/100.. Train loss: 0.316.. Test loss: 0.259.. Test accuracy: 0.887\n"
          ],
          "name": "stdout"
        },
        {
          "output_type": "stream",
          "text": [
            "\r 26%|██▌       | 26/100 [15:31<21:51, 17.73s/it]"
          ],
          "name": "stderr"
        },
        {
          "output_type": "stream",
          "text": [
            "Epoch 27/100.. Train loss: 0.354.. Test loss: 0.261.. Test accuracy: 0.894\n",
            "Epoch 27/100.. Train loss: 0.481.. Test loss: 0.345.. Test accuracy: 0.891\n",
            "Epoch 27/100.. Train loss: 0.266.. Test loss: 0.200.. Test accuracy: 0.923\n",
            "Epoch 27/100.. Train loss: 0.131.. Test loss: 0.186.. Test accuracy: 0.920\n",
            "Epoch 27/100.. Train loss: 0.220.. Test loss: 0.165.. Test accuracy: 0.932\n",
            "Epoch 27/100.. Train loss: 0.161.. Test loss: 0.205.. Test accuracy: 0.929\n",
            "Epoch 27/100.. Train loss: 0.195.. Test loss: 0.178.. Test accuracy: 0.949\n",
            "Epoch 27/100.. Train loss: 0.159.. Test loss: 0.179.. Test accuracy: 0.932\n"
          ],
          "name": "stdout"
        },
        {
          "output_type": "stream",
          "text": [
            "\r 27%|██▋       | 27/100 [15:49<21:49, 17.94s/it]"
          ],
          "name": "stderr"
        },
        {
          "output_type": "stream",
          "text": [
            "Epoch 27/100.. Train loss: 0.175.. Test loss: 0.177.. Test accuracy: 0.932\n",
            "Epoch 28/100.. Train loss: 0.174.. Test loss: 0.233.. Test accuracy: 0.917\n",
            "Epoch 28/100.. Train loss: 0.234.. Test loss: 0.188.. Test accuracy: 0.932\n",
            "Epoch 28/100.. Train loss: 0.177.. Test loss: 0.184.. Test accuracy: 0.923\n",
            "Epoch 28/100.. Train loss: 0.159.. Test loss: 0.187.. Test accuracy: 0.911\n",
            "Epoch 28/100.. Train loss: 0.120.. Test loss: 0.187.. Test accuracy: 0.915\n",
            "Epoch 28/100.. Train loss: 0.177.. Test loss: 0.196.. Test accuracy: 0.911\n",
            "Epoch 28/100.. Train loss: 0.129.. Test loss: 0.207.. Test accuracy: 0.905\n",
            "Epoch 28/100.. Train loss: 0.193.. Test loss: 0.213.. Test accuracy: 0.911\n"
          ],
          "name": "stdout"
        },
        {
          "output_type": "stream",
          "text": [
            "\r 28%|██▊       | 28/100 [16:07<21:15, 17.71s/it]"
          ],
          "name": "stderr"
        },
        {
          "output_type": "stream",
          "text": [
            "Epoch 29/100.. Train loss: 0.245.. Test loss: 0.174.. Test accuracy: 0.932\n",
            "Epoch 29/100.. Train loss: 0.187.. Test loss: 0.184.. Test accuracy: 0.930\n",
            "Epoch 29/100.. Train loss: 0.242.. Test loss: 0.181.. Test accuracy: 0.932\n",
            "Epoch 29/100.. Train loss: 0.127.. Test loss: 0.178.. Test accuracy: 0.929\n",
            "Epoch 29/100.. Train loss: 0.189.. Test loss: 0.163.. Test accuracy: 0.932\n",
            "Epoch 29/100.. Train loss: 0.120.. Test loss: 0.240.. Test accuracy: 0.923\n",
            "Epoch 29/100.. Train loss: 0.210.. Test loss: 0.203.. Test accuracy: 0.911\n",
            "Epoch 29/100.. Train loss: 0.126.. Test loss: 0.204.. Test accuracy: 0.926\n"
          ],
          "name": "stdout"
        },
        {
          "output_type": "stream",
          "text": [
            "\r 29%|██▉       | 29/100 [16:24<20:43, 17.51s/it]"
          ],
          "name": "stderr"
        },
        {
          "output_type": "stream",
          "text": [
            "Epoch 30/100.. Train loss: 0.201.. Test loss: 0.170.. Test accuracy: 0.929\n",
            "Epoch 30/100.. Train loss: 0.243.. Test loss: 0.183.. Test accuracy: 0.938\n",
            "Epoch 30/100.. Train loss: 0.173.. Test loss: 0.182.. Test accuracy: 0.929\n",
            "Epoch 30/100.. Train loss: 0.147.. Test loss: 0.196.. Test accuracy: 0.926\n",
            "Epoch 30/100.. Train loss: 0.171.. Test loss: 0.186.. Test accuracy: 0.927\n",
            "Epoch 30/100.. Train loss: 0.105.. Test loss: 0.190.. Test accuracy: 0.915\n",
            "Epoch 30/100.. Train loss: 0.191.. Test loss: 0.185.. Test accuracy: 0.920\n",
            "Epoch 30/100.. Train loss: 0.139.. Test loss: 0.178.. Test accuracy: 0.929\n"
          ],
          "name": "stdout"
        },
        {
          "output_type": "stream",
          "text": [
            "\r 30%|███       | 30/100 [16:42<20:46, 17.80s/it]"
          ],
          "name": "stderr"
        },
        {
          "output_type": "stream",
          "text": [
            "Epoch 30/100.. Train loss: 0.206.. Test loss: 0.202.. Test accuracy: 0.920\n",
            "Epoch 31/100.. Train loss: 0.288.. Test loss: 0.199.. Test accuracy: 0.914\n",
            "Epoch 31/100.. Train loss: 0.255.. Test loss: 0.228.. Test accuracy: 0.926\n",
            "Epoch 31/100.. Train loss: 0.167.. Test loss: 0.196.. Test accuracy: 0.908\n",
            "Epoch 31/100.. Train loss: 0.258.. Test loss: 0.201.. Test accuracy: 0.932\n",
            "Epoch 31/100.. Train loss: 0.145.. Test loss: 0.180.. Test accuracy: 0.933\n",
            "Epoch 31/100.. Train loss: 0.132.. Test loss: 0.178.. Test accuracy: 0.923\n",
            "Epoch 31/100.. Train loss: 0.231.. Test loss: 0.198.. Test accuracy: 0.908\n"
          ],
          "name": "stdout"
        },
        {
          "output_type": "stream",
          "text": [
            "\r 31%|███       | 31/100 [16:59<20:12, 17.57s/it]"
          ],
          "name": "stderr"
        },
        {
          "output_type": "stream",
          "text": [
            "Epoch 31/100.. Train loss: 0.199.. Test loss: 0.218.. Test accuracy: 0.915\n",
            "Epoch 32/100.. Train loss: 0.224.. Test loss: 0.234.. Test accuracy: 0.911\n",
            "Epoch 32/100.. Train loss: 0.145.. Test loss: 0.311.. Test accuracy: 0.920\n",
            "Epoch 32/100.. Train loss: 0.322.. Test loss: 0.390.. Test accuracy: 0.854\n",
            "Epoch 32/100.. Train loss: 0.225.. Test loss: 0.255.. Test accuracy: 0.906\n",
            "Epoch 32/100.. Train loss: 0.198.. Test loss: 0.199.. Test accuracy: 0.923\n",
            "Epoch 32/100.. Train loss: 0.192.. Test loss: 0.184.. Test accuracy: 0.929\n",
            "Epoch 32/100.. Train loss: 0.139.. Test loss: 0.185.. Test accuracy: 0.935\n",
            "Epoch 32/100.. Train loss: 0.083.. Test loss: 0.205.. Test accuracy: 0.929\n"
          ],
          "name": "stdout"
        },
        {
          "output_type": "stream",
          "text": [
            "\r 32%|███▏      | 32/100 [17:16<19:47, 17.47s/it]"
          ],
          "name": "stderr"
        },
        {
          "output_type": "stream",
          "text": [
            "Epoch 33/100.. Train loss: 0.250.. Test loss: 0.194.. Test accuracy: 0.926\n",
            "Epoch 33/100.. Train loss: 0.226.. Test loss: 0.209.. Test accuracy: 0.914\n",
            "Epoch 33/100.. Train loss: 0.173.. Test loss: 0.199.. Test accuracy: 0.911\n",
            "Epoch 33/100.. Train loss: 0.186.. Test loss: 0.231.. Test accuracy: 0.923\n",
            "Epoch 33/100.. Train loss: 0.179.. Test loss: 0.225.. Test accuracy: 0.926\n",
            "Epoch 33/100.. Train loss: 0.171.. Test loss: 0.221.. Test accuracy: 0.894\n",
            "Epoch 33/100.. Train loss: 0.209.. Test loss: 0.186.. Test accuracy: 0.930\n",
            "Epoch 33/100.. Train loss: 0.166.. Test loss: 0.201.. Test accuracy: 0.918\n"
          ],
          "name": "stdout"
        },
        {
          "output_type": "stream",
          "text": [
            "\r 33%|███▎      | 33/100 [17:34<19:22, 17.36s/it]"
          ],
          "name": "stderr"
        },
        {
          "output_type": "stream",
          "text": [
            "Epoch 34/100.. Train loss: 0.175.. Test loss: 0.187.. Test accuracy: 0.939\n",
            "Epoch 34/100.. Train loss: 0.218.. Test loss: 0.189.. Test accuracy: 0.923\n",
            "Epoch 34/100.. Train loss: 0.267.. Test loss: 0.203.. Test accuracy: 0.932\n",
            "Epoch 34/100.. Train loss: 0.133.. Test loss: 0.198.. Test accuracy: 0.923\n",
            "Epoch 34/100.. Train loss: 0.130.. Test loss: 0.202.. Test accuracy: 0.926\n",
            "Epoch 34/100.. Train loss: 0.086.. Test loss: 0.196.. Test accuracy: 0.915\n",
            "Epoch 34/100.. Train loss: 0.164.. Test loss: 0.200.. Test accuracy: 0.914\n",
            "Epoch 34/100.. Train loss: 0.162.. Test loss: 0.197.. Test accuracy: 0.917\n"
          ],
          "name": "stdout"
        },
        {
          "output_type": "stream",
          "text": [
            "\r 34%|███▍      | 34/100 [17:52<19:30, 17.74s/it]"
          ],
          "name": "stderr"
        },
        {
          "output_type": "stream",
          "text": [
            "Epoch 34/100.. Train loss: 0.165.. Test loss: 0.208.. Test accuracy: 0.911\n",
            "Epoch 35/100.. Train loss: 0.184.. Test loss: 0.204.. Test accuracy: 0.920\n",
            "Epoch 35/100.. Train loss: 0.239.. Test loss: 0.185.. Test accuracy: 0.932\n",
            "Epoch 35/100.. Train loss: 0.123.. Test loss: 0.181.. Test accuracy: 0.926\n",
            "Epoch 35/100.. Train loss: 0.184.. Test loss: 0.199.. Test accuracy: 0.912\n",
            "Epoch 35/100.. Train loss: 0.243.. Test loss: 0.205.. Test accuracy: 0.914\n",
            "Epoch 35/100.. Train loss: 0.171.. Test loss: 0.184.. Test accuracy: 0.932\n",
            "Epoch 35/100.. Train loss: 0.136.. Test loss: 0.186.. Test accuracy: 0.926\n",
            "Epoch 35/100.. Train loss: 0.145.. Test loss: 0.199.. Test accuracy: 0.917\n"
          ],
          "name": "stdout"
        },
        {
          "output_type": "stream",
          "text": [
            "\r 35%|███▌      | 35/100 [18:09<19:03, 17.60s/it]"
          ],
          "name": "stderr"
        },
        {
          "output_type": "stream",
          "text": [
            "Epoch 36/100.. Train loss: 0.119.. Test loss: 0.192.. Test accuracy: 0.935\n",
            "Epoch 36/100.. Train loss: 0.078.. Test loss: 0.227.. Test accuracy: 0.926\n",
            "Epoch 36/100.. Train loss: 0.191.. Test loss: 0.216.. Test accuracy: 0.932\n",
            "Epoch 36/100.. Train loss: 0.236.. Test loss: 0.269.. Test accuracy: 0.858\n",
            "Epoch 36/100.. Train loss: 0.196.. Test loss: 0.209.. Test accuracy: 0.920\n",
            "Epoch 36/100.. Train loss: 0.207.. Test loss: 0.208.. Test accuracy: 0.914\n",
            "Epoch 36/100.. Train loss: 0.122.. Test loss: 0.210.. Test accuracy: 0.923\n",
            "Epoch 36/100.. Train loss: 0.173.. Test loss: 0.203.. Test accuracy: 0.911\n"
          ],
          "name": "stdout"
        },
        {
          "output_type": "stream",
          "text": [
            "\r 36%|███▌      | 36/100 [18:27<18:40, 17.51s/it]"
          ],
          "name": "stderr"
        },
        {
          "output_type": "stream",
          "text": [
            "Epoch 37/100.. Train loss: 0.174.. Test loss: 0.215.. Test accuracy: 0.908\n",
            "Epoch 37/100.. Train loss: 0.134.. Test loss: 0.233.. Test accuracy: 0.911\n",
            "Epoch 37/100.. Train loss: 0.144.. Test loss: 0.191.. Test accuracy: 0.929\n",
            "Epoch 37/100.. Train loss: 0.147.. Test loss: 0.195.. Test accuracy: 0.923\n",
            "Epoch 37/100.. Train loss: 0.151.. Test loss: 0.192.. Test accuracy: 0.920\n",
            "Epoch 37/100.. Train loss: 0.121.. Test loss: 0.197.. Test accuracy: 0.914\n",
            "Epoch 37/100.. Train loss: 0.165.. Test loss: 0.186.. Test accuracy: 0.923\n",
            "Epoch 37/100.. Train loss: 0.131.. Test loss: 0.198.. Test accuracy: 0.926\n"
          ],
          "name": "stdout"
        },
        {
          "output_type": "stream",
          "text": [
            "\r 37%|███▋      | 37/100 [18:45<18:40, 17.78s/it]"
          ],
          "name": "stderr"
        },
        {
          "output_type": "stream",
          "text": [
            "Epoch 37/100.. Train loss: 0.085.. Test loss: 0.199.. Test accuracy: 0.923\n",
            "Epoch 38/100.. Train loss: 0.110.. Test loss: 0.220.. Test accuracy: 0.932\n",
            "Epoch 38/100.. Train loss: 0.203.. Test loss: 0.220.. Test accuracy: 0.911\n",
            "Epoch 38/100.. Train loss: 0.170.. Test loss: 0.246.. Test accuracy: 0.920\n",
            "Epoch 38/100.. Train loss: 0.183.. Test loss: 0.259.. Test accuracy: 0.891\n",
            "Epoch 38/100.. Train loss: 0.168.. Test loss: 0.204.. Test accuracy: 0.926\n",
            "Epoch 38/100.. Train loss: 0.131.. Test loss: 0.239.. Test accuracy: 0.917\n",
            "Epoch 38/100.. Train loss: 0.095.. Test loss: 0.232.. Test accuracy: 0.923\n",
            "Epoch 38/100.. Train loss: 0.318.. Test loss: 0.266.. Test accuracy: 0.834\n"
          ],
          "name": "stdout"
        },
        {
          "output_type": "stream",
          "text": [
            "\r 38%|███▊      | 38/100 [19:02<18:10, 17.59s/it]"
          ],
          "name": "stderr"
        },
        {
          "output_type": "stream",
          "text": [
            "Epoch 39/100.. Train loss: 0.154.. Test loss: 0.207.. Test accuracy: 0.914\n",
            "Epoch 39/100.. Train loss: 0.150.. Test loss: 0.287.. Test accuracy: 0.914\n",
            "Epoch 39/100.. Train loss: 0.236.. Test loss: 0.268.. Test accuracy: 0.920\n",
            "Epoch 39/100.. Train loss: 0.186.. Test loss: 0.207.. Test accuracy: 0.929\n",
            "Epoch 39/100.. Train loss: 0.130.. Test loss: 0.205.. Test accuracy: 0.929\n",
            "Epoch 39/100.. Train loss: 0.171.. Test loss: 0.232.. Test accuracy: 0.912\n",
            "Epoch 39/100.. Train loss: 0.212.. Test loss: 0.205.. Test accuracy: 0.905\n",
            "Epoch 39/100.. Train loss: 0.150.. Test loss: 0.204.. Test accuracy: 0.941\n"
          ],
          "name": "stdout"
        },
        {
          "output_type": "stream",
          "text": [
            "\r 39%|███▉      | 39/100 [19:19<17:45, 17.46s/it]"
          ],
          "name": "stderr"
        },
        {
          "output_type": "stream",
          "text": [
            "Epoch 40/100.. Train loss: 0.086.. Test loss: 0.240.. Test accuracy: 0.929\n",
            "Epoch 40/100.. Train loss: 0.189.. Test loss: 0.212.. Test accuracy: 0.926\n",
            "Epoch 40/100.. Train loss: 0.162.. Test loss: 0.226.. Test accuracy: 0.917\n",
            "Epoch 40/100.. Train loss: 0.130.. Test loss: 0.233.. Test accuracy: 0.914\n",
            "Epoch 40/100.. Train loss: 0.200.. Test loss: 0.206.. Test accuracy: 0.920\n",
            "Epoch 40/100.. Train loss: 0.151.. Test loss: 0.209.. Test accuracy: 0.926\n",
            "Epoch 40/100.. Train loss: 0.143.. Test loss: 0.214.. Test accuracy: 0.923\n",
            "Epoch 40/100.. Train loss: 0.102.. Test loss: 0.210.. Test accuracy: 0.929\n"
          ],
          "name": "stdout"
        },
        {
          "output_type": "stream",
          "text": [
            "\r 40%|████      | 40/100 [19:38<17:51, 17.86s/it]"
          ],
          "name": "stderr"
        },
        {
          "output_type": "stream",
          "text": [
            "Epoch 40/100.. Train loss: 0.233.. Test loss: 0.211.. Test accuracy: 0.905\n",
            "Epoch 41/100.. Train loss: 0.140.. Test loss: 0.248.. Test accuracy: 0.917\n",
            "Epoch 41/100.. Train loss: 0.153.. Test loss: 0.201.. Test accuracy: 0.917\n",
            "Epoch 41/100.. Train loss: 0.150.. Test loss: 0.209.. Test accuracy: 0.929\n",
            "Epoch 41/100.. Train loss: 0.179.. Test loss: 0.197.. Test accuracy: 0.923\n",
            "Epoch 41/100.. Train loss: 0.119.. Test loss: 0.231.. Test accuracy: 0.899\n",
            "Epoch 41/100.. Train loss: 0.221.. Test loss: 0.202.. Test accuracy: 0.911\n",
            "Epoch 41/100.. Train loss: 0.231.. Test loss: 0.200.. Test accuracy: 0.917\n"
          ],
          "name": "stdout"
        },
        {
          "output_type": "stream",
          "text": [
            "\r 41%|████      | 41/100 [19:56<17:22, 17.67s/it]"
          ],
          "name": "stderr"
        },
        {
          "output_type": "stream",
          "text": [
            "Epoch 41/100.. Train loss: 0.229.. Test loss: 0.177.. Test accuracy: 0.935\n",
            "Epoch 42/100.. Train loss: 0.193.. Test loss: 0.215.. Test accuracy: 0.923\n",
            "Epoch 42/100.. Train loss: 0.205.. Test loss: 0.263.. Test accuracy: 0.904\n",
            "Epoch 42/100.. Train loss: 0.099.. Test loss: 0.231.. Test accuracy: 0.921\n",
            "Epoch 42/100.. Train loss: 0.192.. Test loss: 0.217.. Test accuracy: 0.914\n",
            "Epoch 42/100.. Train loss: 0.143.. Test loss: 0.201.. Test accuracy: 0.923\n",
            "Epoch 42/100.. Train loss: 0.234.. Test loss: 0.221.. Test accuracy: 0.900\n",
            "Epoch 42/100.. Train loss: 0.139.. Test loss: 0.196.. Test accuracy: 0.920\n",
            "Epoch 42/100.. Train loss: 0.109.. Test loss: 0.223.. Test accuracy: 0.916\n"
          ],
          "name": "stdout"
        },
        {
          "output_type": "stream",
          "text": [
            "\r 42%|████▏     | 42/100 [20:13<16:55, 17.52s/it]"
          ],
          "name": "stderr"
        },
        {
          "output_type": "stream",
          "text": [
            "Epoch 43/100.. Train loss: 0.106.. Test loss: 0.280.. Test accuracy: 0.914\n",
            "Epoch 43/100.. Train loss: 0.168.. Test loss: 0.257.. Test accuracy: 0.882\n",
            "Epoch 43/100.. Train loss: 0.147.. Test loss: 0.205.. Test accuracy: 0.926\n",
            "Epoch 43/100.. Train loss: 0.127.. Test loss: 0.191.. Test accuracy: 0.929\n",
            "Epoch 43/100.. Train loss: 0.132.. Test loss: 0.195.. Test accuracy: 0.920\n",
            "Epoch 43/100.. Train loss: 0.135.. Test loss: 0.177.. Test accuracy: 0.938\n",
            "Epoch 43/100.. Train loss: 0.226.. Test loss: 0.202.. Test accuracy: 0.927\n",
            "Epoch 43/100.. Train loss: 0.175.. Test loss: 0.218.. Test accuracy: 0.914\n"
          ],
          "name": "stdout"
        },
        {
          "output_type": "stream",
          "text": [
            "\r 43%|████▎     | 43/100 [20:30<16:42, 17.59s/it]"
          ],
          "name": "stderr"
        },
        {
          "output_type": "stream",
          "text": [
            "Epoch 44/100.. Train loss: 0.148.. Test loss: 0.233.. Test accuracy: 0.918\n",
            "Epoch 44/100.. Train loss: 0.220.. Test loss: 0.234.. Test accuracy: 0.873\n",
            "Epoch 44/100.. Train loss: 0.156.. Test loss: 0.199.. Test accuracy: 0.929\n",
            "Epoch 44/100.. Train loss: 0.141.. Test loss: 0.245.. Test accuracy: 0.916\n",
            "Epoch 44/100.. Train loss: 0.097.. Test loss: 0.247.. Test accuracy: 0.926\n",
            "Epoch 44/100.. Train loss: 0.139.. Test loss: 0.230.. Test accuracy: 0.932\n",
            "Epoch 44/100.. Train loss: 0.235.. Test loss: 0.206.. Test accuracy: 0.917\n",
            "Epoch 44/100.. Train loss: 0.121.. Test loss: 0.203.. Test accuracy: 0.920\n"
          ],
          "name": "stdout"
        },
        {
          "output_type": "stream",
          "text": [
            "\r 44%|████▍     | 44/100 [20:49<16:49, 18.02s/it]"
          ],
          "name": "stderr"
        },
        {
          "output_type": "stream",
          "text": [
            "Epoch 44/100.. Train loss: 0.214.. Test loss: 0.212.. Test accuracy: 0.920\n",
            "Epoch 45/100.. Train loss: 0.185.. Test loss: 0.254.. Test accuracy: 0.890\n",
            "Epoch 45/100.. Train loss: 0.154.. Test loss: 0.212.. Test accuracy: 0.923\n",
            "Epoch 45/100.. Train loss: 0.137.. Test loss: 0.203.. Test accuracy: 0.935\n",
            "Epoch 45/100.. Train loss: 0.149.. Test loss: 0.210.. Test accuracy: 0.932\n",
            "Epoch 45/100.. Train loss: 0.273.. Test loss: 0.254.. Test accuracy: 0.870\n",
            "Epoch 45/100.. Train loss: 0.253.. Test loss: 0.209.. Test accuracy: 0.911\n",
            "Epoch 45/100.. Train loss: 0.197.. Test loss: 0.212.. Test accuracy: 0.920\n",
            "Epoch 45/100.. Train loss: 0.115.. Test loss: 0.220.. Test accuracy: 0.920\n"
          ],
          "name": "stdout"
        },
        {
          "output_type": "stream",
          "text": [
            "\r 45%|████▌     | 45/100 [21:07<16:20, 17.83s/it]"
          ],
          "name": "stderr"
        },
        {
          "output_type": "stream",
          "text": [
            "Epoch 46/100.. Train loss: 0.187.. Test loss: 0.222.. Test accuracy: 0.914\n",
            "Epoch 46/100.. Train loss: 0.143.. Test loss: 0.194.. Test accuracy: 0.917\n",
            "Epoch 46/100.. Train loss: 0.107.. Test loss: 0.207.. Test accuracy: 0.923\n",
            "Epoch 46/100.. Train loss: 0.151.. Test loss: 0.193.. Test accuracy: 0.932\n",
            "Epoch 46/100.. Train loss: 0.082.. Test loss: 0.210.. Test accuracy: 0.929\n",
            "Epoch 46/100.. Train loss: 0.178.. Test loss: 0.216.. Test accuracy: 0.920\n",
            "Epoch 46/100.. Train loss: 0.131.. Test loss: 0.210.. Test accuracy: 0.923\n",
            "Epoch 46/100.. Train loss: 0.160.. Test loss: 0.203.. Test accuracy: 0.917\n"
          ],
          "name": "stdout"
        },
        {
          "output_type": "stream",
          "text": [
            "\r 46%|████▌     | 46/100 [21:24<15:52, 17.64s/it]"
          ],
          "name": "stderr"
        },
        {
          "output_type": "stream",
          "text": [
            "Epoch 47/100.. Train loss: 0.080.. Test loss: 0.201.. Test accuracy: 0.929\n",
            "Epoch 47/100.. Train loss: 0.137.. Test loss: 0.218.. Test accuracy: 0.938\n",
            "Epoch 47/100.. Train loss: 0.141.. Test loss: 0.214.. Test accuracy: 0.929\n",
            "Epoch 47/100.. Train loss: 0.085.. Test loss: 0.210.. Test accuracy: 0.917\n",
            "Epoch 47/100.. Train loss: 0.154.. Test loss: 0.192.. Test accuracy: 0.911\n",
            "Epoch 47/100.. Train loss: 0.122.. Test loss: 0.187.. Test accuracy: 0.932\n",
            "Epoch 47/100.. Train loss: 0.136.. Test loss: 0.220.. Test accuracy: 0.929\n",
            "Epoch 47/100.. Train loss: 0.140.. Test loss: 0.180.. Test accuracy: 0.935\n"
          ],
          "name": "stdout"
        },
        {
          "output_type": "stream",
          "text": [
            "\r 47%|████▋     | 47/100 [21:43<15:51, 17.95s/it]"
          ],
          "name": "stderr"
        },
        {
          "output_type": "stream",
          "text": [
            "Epoch 47/100.. Train loss: 0.141.. Test loss: 0.195.. Test accuracy: 0.921\n",
            "Epoch 48/100.. Train loss: 0.104.. Test loss: 0.249.. Test accuracy: 0.914\n",
            "Epoch 48/100.. Train loss: 0.085.. Test loss: 0.226.. Test accuracy: 0.917\n",
            "Epoch 48/100.. Train loss: 0.122.. Test loss: 0.216.. Test accuracy: 0.936\n",
            "Epoch 48/100.. Train loss: 0.180.. Test loss: 0.186.. Test accuracy: 0.932\n",
            "Epoch 48/100.. Train loss: 0.164.. Test loss: 0.186.. Test accuracy: 0.929\n",
            "Epoch 48/100.. Train loss: 0.095.. Test loss: 0.189.. Test accuracy: 0.940\n",
            "Epoch 48/100.. Train loss: 0.103.. Test loss: 0.222.. Test accuracy: 0.926\n",
            "Epoch 48/100.. Train loss: 0.163.. Test loss: 0.198.. Test accuracy: 0.935\n"
          ],
          "name": "stdout"
        },
        {
          "output_type": "stream",
          "text": [
            "\r 48%|████▊     | 48/100 [22:00<15:24, 17.78s/it]"
          ],
          "name": "stderr"
        },
        {
          "output_type": "stream",
          "text": [
            "Epoch 49/100.. Train loss: 0.122.. Test loss: 0.206.. Test accuracy: 0.940\n",
            "Epoch 49/100.. Train loss: 0.117.. Test loss: 0.208.. Test accuracy: 0.940\n",
            "Epoch 49/100.. Train loss: 0.224.. Test loss: 0.237.. Test accuracy: 0.914\n",
            "Epoch 49/100.. Train loss: 0.136.. Test loss: 0.203.. Test accuracy: 0.923\n",
            "Epoch 49/100.. Train loss: 0.179.. Test loss: 0.204.. Test accuracy: 0.929\n",
            "Epoch 49/100.. Train loss: 0.150.. Test loss: 0.194.. Test accuracy: 0.932\n",
            "Epoch 49/100.. Train loss: 0.103.. Test loss: 0.219.. Test accuracy: 0.929\n",
            "Epoch 49/100.. Train loss: 0.152.. Test loss: 0.231.. Test accuracy: 0.908\n"
          ],
          "name": "stdout"
        },
        {
          "output_type": "stream",
          "text": [
            "\r 49%|████▉     | 49/100 [22:17<15:01, 17.67s/it]"
          ],
          "name": "stderr"
        },
        {
          "output_type": "stream",
          "text": [
            "Epoch 50/100.. Train loss: 0.204.. Test loss: 0.207.. Test accuracy: 0.935\n",
            "Epoch 50/100.. Train loss: 0.217.. Test loss: 0.259.. Test accuracy: 0.876\n",
            "Epoch 50/100.. Train loss: 0.224.. Test loss: 0.188.. Test accuracy: 0.920\n",
            "Epoch 50/100.. Train loss: 0.147.. Test loss: 0.211.. Test accuracy: 0.929\n",
            "Epoch 50/100.. Train loss: 0.128.. Test loss: 0.210.. Test accuracy: 0.932\n",
            "Epoch 50/100.. Train loss: 0.203.. Test loss: 0.263.. Test accuracy: 0.875\n",
            "Epoch 50/100.. Train loss: 0.072.. Test loss: 0.205.. Test accuracy: 0.929\n",
            "Epoch 50/100.. Train loss: 0.135.. Test loss: 0.225.. Test accuracy: 0.926\n"
          ],
          "name": "stdout"
        },
        {
          "output_type": "stream",
          "text": [
            "\r 50%|█████     | 50/100 [22:36<15:00, 18.01s/it]"
          ],
          "name": "stderr"
        },
        {
          "output_type": "stream",
          "text": [
            "Epoch 50/100.. Train loss: 0.194.. Test loss: 0.211.. Test accuracy: 0.923\n",
            "Epoch 51/100.. Train loss: 0.143.. Test loss: 0.231.. Test accuracy: 0.917\n",
            "Epoch 51/100.. Train loss: 0.179.. Test loss: 0.250.. Test accuracy: 0.913\n",
            "Epoch 51/100.. Train loss: 0.086.. Test loss: 0.285.. Test accuracy: 0.920\n",
            "Epoch 51/100.. Train loss: 0.189.. Test loss: 0.210.. Test accuracy: 0.929\n",
            "Epoch 51/100.. Train loss: 0.162.. Test loss: 0.186.. Test accuracy: 0.923\n",
            "Epoch 51/100.. Train loss: 0.146.. Test loss: 0.191.. Test accuracy: 0.935\n",
            "Epoch 51/100.. Train loss: 0.148.. Test loss: 0.238.. Test accuracy: 0.919\n"
          ],
          "name": "stdout"
        },
        {
          "output_type": "stream",
          "text": [
            "\r 51%|█████     | 51/100 [22:54<14:33, 17.82s/it]"
          ],
          "name": "stderr"
        },
        {
          "output_type": "stream",
          "text": [
            "Epoch 51/100.. Train loss: 0.079.. Test loss: 0.200.. Test accuracy: 0.943\n",
            "Epoch 52/100.. Train loss: 0.154.. Test loss: 0.211.. Test accuracy: 0.920\n",
            "Epoch 52/100.. Train loss: 0.120.. Test loss: 0.207.. Test accuracy: 0.935\n",
            "Epoch 52/100.. Train loss: 0.077.. Test loss: 0.231.. Test accuracy: 0.923\n",
            "Epoch 52/100.. Train loss: 0.119.. Test loss: 0.254.. Test accuracy: 0.926\n",
            "Epoch 52/100.. Train loss: 0.223.. Test loss: 0.290.. Test accuracy: 0.873\n",
            "Epoch 52/100.. Train loss: 0.290.. Test loss: 0.203.. Test accuracy: 0.911\n",
            "Epoch 52/100.. Train loss: 0.116.. Test loss: 0.226.. Test accuracy: 0.914\n",
            "Epoch 52/100.. Train loss: 0.189.. Test loss: 0.242.. Test accuracy: 0.908\n"
          ],
          "name": "stdout"
        },
        {
          "output_type": "stream",
          "text": [
            "\r 52%|█████▏    | 52/100 [23:11<14:09, 17.69s/it]"
          ],
          "name": "stderr"
        },
        {
          "output_type": "stream",
          "text": [
            "Epoch 53/100.. Train loss: 0.098.. Test loss: 0.230.. Test accuracy: 0.914\n",
            "Epoch 53/100.. Train loss: 0.121.. Test loss: 0.220.. Test accuracy: 0.920\n",
            "Epoch 53/100.. Train loss: 0.131.. Test loss: 0.204.. Test accuracy: 0.935\n",
            "Epoch 53/100.. Train loss: 0.208.. Test loss: 0.197.. Test accuracy: 0.932\n",
            "Epoch 53/100.. Train loss: 0.134.. Test loss: 0.229.. Test accuracy: 0.905\n",
            "Epoch 53/100.. Train loss: 0.138.. Test loss: 0.213.. Test accuracy: 0.926\n",
            "Epoch 53/100.. Train loss: 0.087.. Test loss: 0.241.. Test accuracy: 0.917\n",
            "Epoch 53/100.. Train loss: 0.225.. Test loss: 0.214.. Test accuracy: 0.929\n"
          ],
          "name": "stdout"
        },
        {
          "output_type": "stream",
          "text": [
            "\r 53%|█████▎    | 53/100 [23:28<13:45, 17.56s/it]"
          ],
          "name": "stderr"
        },
        {
          "output_type": "stream",
          "text": [
            "Epoch 54/100.. Train loss: 0.155.. Test loss: 0.212.. Test accuracy: 0.940\n",
            "Epoch 54/100.. Train loss: 0.116.. Test loss: 0.204.. Test accuracy: 0.929\n",
            "Epoch 54/100.. Train loss: 0.076.. Test loss: 0.246.. Test accuracy: 0.920\n",
            "Epoch 54/100.. Train loss: 0.085.. Test loss: 0.260.. Test accuracy: 0.920\n",
            "Epoch 54/100.. Train loss: 0.309.. Test loss: 0.212.. Test accuracy: 0.932\n",
            "Epoch 54/100.. Train loss: 0.294.. Test loss: 0.198.. Test accuracy: 0.914\n",
            "Epoch 54/100.. Train loss: 0.241.. Test loss: 0.238.. Test accuracy: 0.935\n",
            "Epoch 54/100.. Train loss: 0.221.. Test loss: 0.213.. Test accuracy: 0.917\n"
          ],
          "name": "stdout"
        },
        {
          "output_type": "stream",
          "text": [
            "\r 54%|█████▍    | 54/100 [23:47<13:45, 17.94s/it]"
          ],
          "name": "stderr"
        },
        {
          "output_type": "stream",
          "text": [
            "Epoch 54/100.. Train loss: 0.231.. Test loss: 0.208.. Test accuracy: 0.926\n",
            "Epoch 55/100.. Train loss: 0.347.. Test loss: 0.242.. Test accuracy: 0.918\n",
            "Epoch 55/100.. Train loss: 0.196.. Test loss: 0.213.. Test accuracy: 0.920\n",
            "Epoch 55/100.. Train loss: 0.165.. Test loss: 0.234.. Test accuracy: 0.914\n",
            "Epoch 55/100.. Train loss: 0.159.. Test loss: 0.217.. Test accuracy: 0.920\n",
            "Epoch 55/100.. Train loss: 0.148.. Test loss: 0.219.. Test accuracy: 0.920\n",
            "Epoch 55/100.. Train loss: 0.123.. Test loss: 0.223.. Test accuracy: 0.917\n",
            "Epoch 55/100.. Train loss: 0.124.. Test loss: 0.204.. Test accuracy: 0.932\n",
            "Epoch 55/100.. Train loss: 0.188.. Test loss: 0.200.. Test accuracy: 0.929\n"
          ],
          "name": "stdout"
        },
        {
          "output_type": "stream",
          "text": [
            "\r 55%|█████▌    | 55/100 [24:04<13:17, 17.73s/it]"
          ],
          "name": "stderr"
        },
        {
          "output_type": "stream",
          "text": [
            "Epoch 56/100.. Train loss: 0.161.. Test loss: 0.219.. Test accuracy: 0.917\n",
            "Epoch 56/100.. Train loss: 0.230.. Test loss: 0.286.. Test accuracy: 0.891\n",
            "Epoch 56/100.. Train loss: 0.424.. Test loss: 0.244.. Test accuracy: 0.923\n",
            "Epoch 56/100.. Train loss: 0.289.. Test loss: 0.301.. Test accuracy: 0.917\n",
            "Epoch 56/100.. Train loss: 0.234.. Test loss: 0.232.. Test accuracy: 0.926\n",
            "Epoch 56/100.. Train loss: 0.136.. Test loss: 0.228.. Test accuracy: 0.933\n",
            "Epoch 56/100.. Train loss: 0.213.. Test loss: 0.331.. Test accuracy: 0.911\n",
            "Epoch 56/100.. Train loss: 0.180.. Test loss: 0.232.. Test accuracy: 0.909\n"
          ],
          "name": "stdout"
        },
        {
          "output_type": "stream",
          "text": [
            "\r 56%|█████▌    | 56/100 [24:22<12:54, 17.60s/it]"
          ],
          "name": "stderr"
        },
        {
          "output_type": "stream",
          "text": [
            "Epoch 57/100.. Train loss: 0.213.. Test loss: 0.190.. Test accuracy: 0.926\n",
            "Epoch 57/100.. Train loss: 0.231.. Test loss: 0.303.. Test accuracy: 0.890\n",
            "Epoch 57/100.. Train loss: 0.267.. Test loss: 0.219.. Test accuracy: 0.915\n",
            "Epoch 57/100.. Train loss: 0.215.. Test loss: 0.192.. Test accuracy: 0.929\n",
            "Epoch 57/100.. Train loss: 0.210.. Test loss: 0.199.. Test accuracy: 0.909\n",
            "Epoch 57/100.. Train loss: 0.175.. Test loss: 0.200.. Test accuracy: 0.920\n",
            "Epoch 57/100.. Train loss: 0.219.. Test loss: 0.216.. Test accuracy: 0.923\n",
            "Epoch 57/100.. Train loss: 0.210.. Test loss: 0.230.. Test accuracy: 0.902\n"
          ],
          "name": "stdout"
        },
        {
          "output_type": "stream",
          "text": [
            "\r 57%|█████▋    | 57/100 [24:40<12:50, 17.92s/it]"
          ],
          "name": "stderr"
        },
        {
          "output_type": "stream",
          "text": [
            "Epoch 57/100.. Train loss: 0.180.. Test loss: 0.197.. Test accuracy: 0.935\n",
            "Epoch 58/100.. Train loss: 0.179.. Test loss: 0.238.. Test accuracy: 0.917\n",
            "Epoch 58/100.. Train loss: 0.100.. Test loss: 0.211.. Test accuracy: 0.932\n",
            "Epoch 58/100.. Train loss: 0.079.. Test loss: 0.262.. Test accuracy: 0.918\n",
            "Epoch 58/100.. Train loss: 0.111.. Test loss: 0.219.. Test accuracy: 0.920\n",
            "Epoch 58/100.. Train loss: 0.125.. Test loss: 0.202.. Test accuracy: 0.935\n",
            "Epoch 58/100.. Train loss: 0.145.. Test loss: 0.253.. Test accuracy: 0.885\n",
            "Epoch 58/100.. Train loss: 0.252.. Test loss: 0.196.. Test accuracy: 0.935\n",
            "Epoch 58/100.. Train loss: 0.162.. Test loss: 0.267.. Test accuracy: 0.917\n"
          ],
          "name": "stdout"
        },
        {
          "output_type": "stream",
          "text": [
            "\r 58%|█████▊    | 58/100 [24:58<12:26, 17.77s/it]"
          ],
          "name": "stderr"
        },
        {
          "output_type": "stream",
          "text": [
            "Epoch 59/100.. Train loss: 0.192.. Test loss: 0.210.. Test accuracy: 0.921\n",
            "Epoch 59/100.. Train loss: 0.198.. Test loss: 0.216.. Test accuracy: 0.917\n",
            "Epoch 59/100.. Train loss: 0.219.. Test loss: 0.233.. Test accuracy: 0.888\n",
            "Epoch 59/100.. Train loss: 0.186.. Test loss: 0.235.. Test accuracy: 0.923\n",
            "Epoch 59/100.. Train loss: 0.219.. Test loss: 0.217.. Test accuracy: 0.926\n",
            "Epoch 59/100.. Train loss: 0.104.. Test loss: 0.203.. Test accuracy: 0.929\n",
            "Epoch 59/100.. Train loss: 0.094.. Test loss: 0.275.. Test accuracy: 0.905\n",
            "Epoch 59/100.. Train loss: 0.149.. Test loss: 0.219.. Test accuracy: 0.932\n"
          ],
          "name": "stdout"
        },
        {
          "output_type": "stream",
          "text": [
            "\r 59%|█████▉    | 59/100 [25:15<12:04, 17.66s/it]"
          ],
          "name": "stderr"
        },
        {
          "output_type": "stream",
          "text": [
            "Epoch 60/100.. Train loss: 0.139.. Test loss: 0.197.. Test accuracy: 0.926\n",
            "Epoch 60/100.. Train loss: 0.138.. Test loss: 0.215.. Test accuracy: 0.919\n",
            "Epoch 60/100.. Train loss: 0.212.. Test loss: 0.202.. Test accuracy: 0.929\n",
            "Epoch 60/100.. Train loss: 0.155.. Test loss: 0.200.. Test accuracy: 0.929\n",
            "Epoch 60/100.. Train loss: 0.118.. Test loss: 0.202.. Test accuracy: 0.926\n",
            "Epoch 60/100.. Train loss: 0.124.. Test loss: 0.207.. Test accuracy: 0.929\n",
            "Epoch 60/100.. Train loss: 0.174.. Test loss: 0.202.. Test accuracy: 0.923\n",
            "Epoch 60/100.. Train loss: 0.117.. Test loss: 0.216.. Test accuracy: 0.929\n"
          ],
          "name": "stdout"
        },
        {
          "output_type": "stream",
          "text": [
            "\r 60%|██████    | 60/100 [25:34<12:01, 18.04s/it]"
          ],
          "name": "stderr"
        },
        {
          "output_type": "stream",
          "text": [
            "Epoch 60/100.. Train loss: 0.154.. Test loss: 0.218.. Test accuracy: 0.914\n",
            "Epoch 61/100.. Train loss: 0.105.. Test loss: 0.223.. Test accuracy: 0.918\n",
            "Epoch 61/100.. Train loss: 0.194.. Test loss: 0.199.. Test accuracy: 0.929\n",
            "Epoch 61/100.. Train loss: 0.104.. Test loss: 0.226.. Test accuracy: 0.932\n",
            "Epoch 61/100.. Train loss: 0.129.. Test loss: 0.219.. Test accuracy: 0.923\n",
            "Epoch 61/100.. Train loss: 0.072.. Test loss: 0.240.. Test accuracy: 0.926\n",
            "Epoch 61/100.. Train loss: 0.131.. Test loss: 0.284.. Test accuracy: 0.929\n",
            "Epoch 61/100.. Train loss: 0.180.. Test loss: 0.303.. Test accuracy: 0.911\n"
          ],
          "name": "stdout"
        },
        {
          "output_type": "stream",
          "text": [
            "\r 61%|██████    | 61/100 [25:52<11:43, 18.05s/it]"
          ],
          "name": "stderr"
        },
        {
          "output_type": "stream",
          "text": [
            "Epoch 61/100.. Train loss: 0.135.. Test loss: 0.263.. Test accuracy: 0.926\n",
            "Epoch 62/100.. Train loss: 0.110.. Test loss: 0.206.. Test accuracy: 0.938\n",
            "Epoch 62/100.. Train loss: 0.107.. Test loss: 0.211.. Test accuracy: 0.929\n",
            "Epoch 62/100.. Train loss: 0.124.. Test loss: 0.217.. Test accuracy: 0.926\n",
            "Epoch 62/100.. Train loss: 0.115.. Test loss: 0.190.. Test accuracy: 0.920\n",
            "Epoch 62/100.. Train loss: 0.111.. Test loss: 0.222.. Test accuracy: 0.926\n",
            "Epoch 62/100.. Train loss: 0.131.. Test loss: 0.238.. Test accuracy: 0.926\n",
            "Epoch 62/100.. Train loss: 0.215.. Test loss: 0.259.. Test accuracy: 0.879\n",
            "Epoch 62/100.. Train loss: 0.094.. Test loss: 0.215.. Test accuracy: 0.926\n"
          ],
          "name": "stdout"
        },
        {
          "output_type": "stream",
          "text": [
            "\r 62%|██████▏   | 62/100 [26:10<11:18, 17.84s/it]"
          ],
          "name": "stderr"
        },
        {
          "output_type": "stream",
          "text": [
            "Epoch 63/100.. Train loss: 0.091.. Test loss: 0.256.. Test accuracy: 0.920\n",
            "Epoch 63/100.. Train loss: 0.223.. Test loss: 0.223.. Test accuracy: 0.923\n",
            "Epoch 63/100.. Train loss: 0.160.. Test loss: 0.222.. Test accuracy: 0.912\n",
            "Epoch 63/100.. Train loss: 0.133.. Test loss: 0.202.. Test accuracy: 0.911\n",
            "Epoch 63/100.. Train loss: 0.134.. Test loss: 0.224.. Test accuracy: 0.932\n",
            "Epoch 63/100.. Train loss: 0.147.. Test loss: 0.295.. Test accuracy: 0.923\n",
            "Epoch 63/100.. Train loss: 0.123.. Test loss: 0.209.. Test accuracy: 0.929\n",
            "Epoch 63/100.. Train loss: 0.214.. Test loss: 0.200.. Test accuracy: 0.920\n"
          ],
          "name": "stdout"
        },
        {
          "output_type": "stream",
          "text": [
            "\r 63%|██████▎   | 63/100 [26:27<10:55, 17.71s/it]"
          ],
          "name": "stderr"
        },
        {
          "output_type": "stream",
          "text": [
            "Epoch 64/100.. Train loss: 0.110.. Test loss: 0.217.. Test accuracy: 0.911\n",
            "Epoch 64/100.. Train loss: 0.182.. Test loss: 0.201.. Test accuracy: 0.923\n",
            "Epoch 64/100.. Train loss: 0.100.. Test loss: 0.215.. Test accuracy: 0.923\n",
            "Epoch 64/100.. Train loss: 0.135.. Test loss: 0.238.. Test accuracy: 0.921\n",
            "Epoch 64/100.. Train loss: 0.086.. Test loss: 0.231.. Test accuracy: 0.923\n",
            "Epoch 64/100.. Train loss: 0.106.. Test loss: 0.241.. Test accuracy: 0.920\n",
            "Epoch 64/100.. Train loss: 0.332.. Test loss: 0.197.. Test accuracy: 0.929\n",
            "Epoch 64/100.. Train loss: 0.140.. Test loss: 0.198.. Test accuracy: 0.923\n"
          ],
          "name": "stdout"
        },
        {
          "output_type": "stream",
          "text": [
            "\r 64%|██████▍   | 64/100 [26:46<10:48, 18.02s/it]"
          ],
          "name": "stderr"
        },
        {
          "output_type": "stream",
          "text": [
            "Epoch 64/100.. Train loss: 0.129.. Test loss: 0.231.. Test accuracy: 0.923\n",
            "Epoch 65/100.. Train loss: 0.137.. Test loss: 0.295.. Test accuracy: 0.905\n",
            "Epoch 65/100.. Train loss: 0.190.. Test loss: 0.243.. Test accuracy: 0.918\n",
            "Epoch 65/100.. Train loss: 0.150.. Test loss: 0.295.. Test accuracy: 0.853\n",
            "Epoch 65/100.. Train loss: 0.204.. Test loss: 0.262.. Test accuracy: 0.914\n",
            "Epoch 65/100.. Train loss: 0.090.. Test loss: 0.210.. Test accuracy: 0.926\n",
            "Epoch 65/100.. Train loss: 0.095.. Test loss: 0.212.. Test accuracy: 0.923\n",
            "Epoch 65/100.. Train loss: 0.177.. Test loss: 0.234.. Test accuracy: 0.920\n",
            "Epoch 65/100.. Train loss: 0.140.. Test loss: 0.201.. Test accuracy: 0.923\n"
          ],
          "name": "stdout"
        },
        {
          "output_type": "stream",
          "text": [
            "\r 65%|██████▌   | 65/100 [27:03<10:22, 17.77s/it]"
          ],
          "name": "stderr"
        },
        {
          "output_type": "stream",
          "text": [
            "Epoch 66/100.. Train loss: 0.139.. Test loss: 0.215.. Test accuracy: 0.935\n",
            "Epoch 66/100.. Train loss: 0.132.. Test loss: 0.247.. Test accuracy: 0.920\n",
            "Epoch 66/100.. Train loss: 0.127.. Test loss: 0.263.. Test accuracy: 0.915\n",
            "Epoch 66/100.. Train loss: 0.082.. Test loss: 0.239.. Test accuracy: 0.926\n",
            "Epoch 66/100.. Train loss: 0.122.. Test loss: 0.278.. Test accuracy: 0.914\n",
            "Epoch 66/100.. Train loss: 0.216.. Test loss: 0.219.. Test accuracy: 0.914\n",
            "Epoch 66/100.. Train loss: 0.173.. Test loss: 0.198.. Test accuracy: 0.929\n",
            "Epoch 66/100.. Train loss: 0.135.. Test loss: 0.201.. Test accuracy: 0.935\n"
          ],
          "name": "stdout"
        },
        {
          "output_type": "stream",
          "text": [
            "\r 66%|██████▌   | 66/100 [27:20<09:59, 17.64s/it]"
          ],
          "name": "stderr"
        },
        {
          "output_type": "stream",
          "text": [
            "Epoch 67/100.. Train loss: 0.136.. Test loss: 0.234.. Test accuracy: 0.909\n",
            "Epoch 67/100.. Train loss: 0.126.. Test loss: 0.244.. Test accuracy: 0.911\n",
            "Epoch 67/100.. Train loss: 0.123.. Test loss: 0.266.. Test accuracy: 0.909\n",
            "Epoch 67/100.. Train loss: 0.252.. Test loss: 0.250.. Test accuracy: 0.885\n",
            "Epoch 67/100.. Train loss: 0.204.. Test loss: 0.227.. Test accuracy: 0.917\n",
            "Epoch 67/100.. Train loss: 0.279.. Test loss: 0.187.. Test accuracy: 0.938\n",
            "Epoch 67/100.. Train loss: 0.128.. Test loss: 0.194.. Test accuracy: 0.929\n",
            "Epoch 67/100.. Train loss: 0.233.. Test loss: 0.228.. Test accuracy: 0.923\n"
          ],
          "name": "stdout"
        },
        {
          "output_type": "stream",
          "text": [
            "\r 67%|██████▋   | 67/100 [27:39<09:51, 17.93s/it]"
          ],
          "name": "stderr"
        },
        {
          "output_type": "stream",
          "text": [
            "Epoch 67/100.. Train loss: 0.189.. Test loss: 0.210.. Test accuracy: 0.929\n",
            "Epoch 68/100.. Train loss: 0.210.. Test loss: 0.190.. Test accuracy: 0.929\n",
            "Epoch 68/100.. Train loss: 0.146.. Test loss: 0.197.. Test accuracy: 0.920\n",
            "Epoch 68/100.. Train loss: 0.159.. Test loss: 0.198.. Test accuracy: 0.929\n",
            "Epoch 68/100.. Train loss: 0.124.. Test loss: 0.221.. Test accuracy: 0.910\n",
            "Epoch 68/100.. Train loss: 0.146.. Test loss: 0.229.. Test accuracy: 0.911\n",
            "Epoch 68/100.. Train loss: 0.127.. Test loss: 0.209.. Test accuracy: 0.932\n",
            "Epoch 68/100.. Train loss: 0.151.. Test loss: 0.250.. Test accuracy: 0.923\n",
            "Epoch 68/100.. Train loss: 0.125.. Test loss: 0.224.. Test accuracy: 0.923\n"
          ],
          "name": "stdout"
        },
        {
          "output_type": "stream",
          "text": [
            "\r 68%|██████▊   | 68/100 [27:56<09:28, 17.76s/it]"
          ],
          "name": "stderr"
        },
        {
          "output_type": "stream",
          "text": [
            "Epoch 69/100.. Train loss: 0.279.. Test loss: 0.203.. Test accuracy: 0.920\n",
            "Epoch 69/100.. Train loss: 0.213.. Test loss: 0.226.. Test accuracy: 0.902\n",
            "Epoch 69/100.. Train loss: 0.161.. Test loss: 0.210.. Test accuracy: 0.929\n",
            "Epoch 69/100.. Train loss: 0.131.. Test loss: 0.227.. Test accuracy: 0.932\n",
            "Epoch 69/100.. Train loss: 0.170.. Test loss: 0.245.. Test accuracy: 0.888\n",
            "Epoch 69/100.. Train loss: 0.187.. Test loss: 0.211.. Test accuracy: 0.920\n",
            "Epoch 69/100.. Train loss: 0.167.. Test loss: 0.248.. Test accuracy: 0.921\n",
            "Epoch 69/100.. Train loss: 0.080.. Test loss: 0.227.. Test accuracy: 0.923\n"
          ],
          "name": "stdout"
        },
        {
          "output_type": "stream",
          "text": [
            "\r 69%|██████▉   | 69/100 [28:13<09:04, 17.57s/it]"
          ],
          "name": "stderr"
        },
        {
          "output_type": "stream",
          "text": [
            "Epoch 70/100.. Train loss: 0.104.. Test loss: 0.218.. Test accuracy: 0.929\n",
            "Epoch 70/100.. Train loss: 0.130.. Test loss: 0.204.. Test accuracy: 0.929\n",
            "Epoch 70/100.. Train loss: 0.170.. Test loss: 0.194.. Test accuracy: 0.911\n",
            "Epoch 70/100.. Train loss: 0.160.. Test loss: 0.207.. Test accuracy: 0.912\n",
            "Epoch 70/100.. Train loss: 0.236.. Test loss: 0.203.. Test accuracy: 0.920\n",
            "Epoch 70/100.. Train loss: 0.157.. Test loss: 0.260.. Test accuracy: 0.912\n",
            "Epoch 70/100.. Train loss: 0.098.. Test loss: 0.251.. Test accuracy: 0.935\n",
            "Epoch 70/100.. Train loss: 0.113.. Test loss: 0.252.. Test accuracy: 0.929\n"
          ],
          "name": "stdout"
        },
        {
          "output_type": "stream",
          "text": [
            "\r 70%|███████   | 70/100 [28:32<08:55, 17.86s/it]"
          ],
          "name": "stderr"
        },
        {
          "output_type": "stream",
          "text": [
            "Epoch 70/100.. Train loss: 0.041.. Test loss: 0.256.. Test accuracy: 0.935\n",
            "Epoch 71/100.. Train loss: 0.095.. Test loss: 0.316.. Test accuracy: 0.917\n",
            "Epoch 71/100.. Train loss: 0.107.. Test loss: 0.226.. Test accuracy: 0.921\n",
            "Epoch 71/100.. Train loss: 0.109.. Test loss: 0.232.. Test accuracy: 0.923\n",
            "Epoch 71/100.. Train loss: 0.145.. Test loss: 0.228.. Test accuracy: 0.920\n",
            "Epoch 71/100.. Train loss: 0.125.. Test loss: 0.228.. Test accuracy: 0.920\n",
            "Epoch 71/100.. Train loss: 0.113.. Test loss: 0.272.. Test accuracy: 0.914\n",
            "Epoch 71/100.. Train loss: 0.258.. Test loss: 0.245.. Test accuracy: 0.905\n"
          ],
          "name": "stdout"
        },
        {
          "output_type": "stream",
          "text": [
            "\r 71%|███████   | 71/100 [28:49<08:31, 17.63s/it]"
          ],
          "name": "stderr"
        },
        {
          "output_type": "stream",
          "text": [
            "Epoch 71/100.. Train loss: 0.122.. Test loss: 0.288.. Test accuracy: 0.912\n",
            "Epoch 72/100.. Train loss: 0.115.. Test loss: 0.230.. Test accuracy: 0.926\n",
            "Epoch 72/100.. Train loss: 0.094.. Test loss: 0.233.. Test accuracy: 0.903\n",
            "Epoch 72/100.. Train loss: 0.151.. Test loss: 0.221.. Test accuracy: 0.914\n",
            "Epoch 72/100.. Train loss: 0.144.. Test loss: 0.209.. Test accuracy: 0.932\n",
            "Epoch 72/100.. Train loss: 0.157.. Test loss: 0.214.. Test accuracy: 0.921\n",
            "Epoch 72/100.. Train loss: 0.110.. Test loss: 0.241.. Test accuracy: 0.914\n",
            "Epoch 72/100.. Train loss: 0.155.. Test loss: 0.261.. Test accuracy: 0.910\n",
            "Epoch 72/100.. Train loss: 0.089.. Test loss: 0.254.. Test accuracy: 0.912\n"
          ],
          "name": "stdout"
        },
        {
          "output_type": "stream",
          "text": [
            "\r 72%|███████▏  | 72/100 [29:06<08:11, 17.55s/it]"
          ],
          "name": "stderr"
        },
        {
          "output_type": "stream",
          "text": [
            "Epoch 73/100.. Train loss: 0.146.. Test loss: 0.217.. Test accuracy: 0.917\n",
            "Epoch 73/100.. Train loss: 0.163.. Test loss: 0.236.. Test accuracy: 0.894\n",
            "Epoch 73/100.. Train loss: 0.146.. Test loss: 0.204.. Test accuracy: 0.915\n",
            "Epoch 73/100.. Train loss: 0.154.. Test loss: 0.250.. Test accuracy: 0.920\n",
            "Epoch 73/100.. Train loss: 0.112.. Test loss: 0.218.. Test accuracy: 0.920\n",
            "Epoch 73/100.. Train loss: 0.109.. Test loss: 0.238.. Test accuracy: 0.926\n",
            "Epoch 73/100.. Train loss: 0.121.. Test loss: 0.257.. Test accuracy: 0.920\n",
            "Epoch 73/100.. Train loss: 0.140.. Test loss: 0.237.. Test accuracy: 0.917\n"
          ],
          "name": "stdout"
        },
        {
          "output_type": "stream",
          "text": [
            "\r 73%|███████▎  | 73/100 [29:23<07:49, 17.41s/it]"
          ],
          "name": "stderr"
        },
        {
          "output_type": "stream",
          "text": [
            "Epoch 74/100.. Train loss: 0.089.. Test loss: 0.243.. Test accuracy: 0.923\n",
            "Epoch 74/100.. Train loss: 0.088.. Test loss: 0.252.. Test accuracy: 0.926\n",
            "Epoch 74/100.. Train loss: 0.179.. Test loss: 0.289.. Test accuracy: 0.879\n",
            "Epoch 74/100.. Train loss: 0.109.. Test loss: 0.224.. Test accuracy: 0.932\n",
            "Epoch 74/100.. Train loss: 0.083.. Test loss: 0.237.. Test accuracy: 0.932\n",
            "Epoch 74/100.. Train loss: 0.204.. Test loss: 0.239.. Test accuracy: 0.920\n",
            "Epoch 74/100.. Train loss: 0.172.. Test loss: 0.290.. Test accuracy: 0.908\n",
            "Epoch 74/100.. Train loss: 0.132.. Test loss: 0.234.. Test accuracy: 0.926\n"
          ],
          "name": "stdout"
        },
        {
          "output_type": "stream",
          "text": [
            "\r 74%|███████▍  | 74/100 [29:42<07:40, 17.73s/it]"
          ],
          "name": "stderr"
        },
        {
          "output_type": "stream",
          "text": [
            "Epoch 74/100.. Train loss: 0.134.. Test loss: 0.224.. Test accuracy: 0.923\n",
            "Epoch 75/100.. Train loss: 0.115.. Test loss: 0.211.. Test accuracy: 0.929\n",
            "Epoch 75/100.. Train loss: 0.134.. Test loss: 0.261.. Test accuracy: 0.922\n",
            "Epoch 75/100.. Train loss: 0.129.. Test loss: 0.235.. Test accuracy: 0.920\n",
            "Epoch 75/100.. Train loss: 0.112.. Test loss: 0.228.. Test accuracy: 0.921\n",
            "Epoch 75/100.. Train loss: 0.089.. Test loss: 0.225.. Test accuracy: 0.920\n",
            "Epoch 75/100.. Train loss: 0.109.. Test loss: 0.229.. Test accuracy: 0.935\n",
            "Epoch 75/100.. Train loss: 0.105.. Test loss: 0.225.. Test accuracy: 0.921\n",
            "Epoch 75/100.. Train loss: 0.092.. Test loss: 0.234.. Test accuracy: 0.926\n"
          ],
          "name": "stdout"
        },
        {
          "output_type": "stream",
          "text": [
            "\r 75%|███████▌  | 75/100 [29:59<07:17, 17.50s/it]"
          ],
          "name": "stderr"
        },
        {
          "output_type": "stream",
          "text": [
            "Epoch 76/100.. Train loss: 0.125.. Test loss: 0.243.. Test accuracy: 0.926\n",
            "Epoch 76/100.. Train loss: 0.146.. Test loss: 0.344.. Test accuracy: 0.911\n",
            "Epoch 76/100.. Train loss: 0.134.. Test loss: 0.249.. Test accuracy: 0.923\n",
            "Epoch 76/100.. Train loss: 0.153.. Test loss: 0.317.. Test accuracy: 0.885\n",
            "Epoch 76/100.. Train loss: 0.336.. Test loss: 0.237.. Test accuracy: 0.893\n",
            "Epoch 76/100.. Train loss: 0.225.. Test loss: 0.225.. Test accuracy: 0.896\n",
            "Epoch 76/100.. Train loss: 0.115.. Test loss: 0.218.. Test accuracy: 0.929\n",
            "Epoch 76/100.. Train loss: 0.145.. Test loss: 0.280.. Test accuracy: 0.920\n"
          ],
          "name": "stdout"
        },
        {
          "output_type": "stream",
          "text": [
            "\r 76%|███████▌  | 76/100 [30:16<06:58, 17.42s/it]"
          ],
          "name": "stderr"
        },
        {
          "output_type": "stream",
          "text": [
            "Epoch 77/100.. Train loss: 0.112.. Test loss: 0.206.. Test accuracy: 0.935\n",
            "Epoch 77/100.. Train loss: 0.171.. Test loss: 0.214.. Test accuracy: 0.935\n",
            "Epoch 77/100.. Train loss: 0.114.. Test loss: 0.218.. Test accuracy: 0.940\n",
            "Epoch 77/100.. Train loss: 0.183.. Test loss: 0.248.. Test accuracy: 0.929\n",
            "Epoch 77/100.. Train loss: 0.117.. Test loss: 0.322.. Test accuracy: 0.870\n",
            "Epoch 77/100.. Train loss: 0.142.. Test loss: 0.272.. Test accuracy: 0.920\n",
            "Epoch 77/100.. Train loss: 0.097.. Test loss: 0.245.. Test accuracy: 0.917\n",
            "Epoch 77/100.. Train loss: 0.116.. Test loss: 0.220.. Test accuracy: 0.935\n"
          ],
          "name": "stdout"
        },
        {
          "output_type": "stream",
          "text": [
            "\r 77%|███████▋  | 77/100 [30:35<06:49, 17.79s/it]"
          ],
          "name": "stderr"
        },
        {
          "output_type": "stream",
          "text": [
            "Epoch 77/100.. Train loss: 0.082.. Test loss: 0.232.. Test accuracy: 0.933\n",
            "Epoch 78/100.. Train loss: 0.105.. Test loss: 0.243.. Test accuracy: 0.929\n",
            "Epoch 78/100.. Train loss: 0.082.. Test loss: 0.266.. Test accuracy: 0.927\n",
            "Epoch 78/100.. Train loss: 0.205.. Test loss: 0.309.. Test accuracy: 0.870\n",
            "Epoch 78/100.. Train loss: 0.241.. Test loss: 0.248.. Test accuracy: 0.898\n",
            "Epoch 78/100.. Train loss: 0.188.. Test loss: 0.261.. Test accuracy: 0.908\n",
            "Epoch 78/100.. Train loss: 0.130.. Test loss: 0.221.. Test accuracy: 0.929\n",
            "Epoch 78/100.. Train loss: 0.143.. Test loss: 0.225.. Test accuracy: 0.926\n",
            "Epoch 78/100.. Train loss: 0.118.. Test loss: 0.260.. Test accuracy: 0.930\n"
          ],
          "name": "stdout"
        },
        {
          "output_type": "stream",
          "text": [
            "\r 78%|███████▊  | 78/100 [30:53<06:34, 17.93s/it]"
          ],
          "name": "stderr"
        },
        {
          "output_type": "stream",
          "text": [
            "Epoch 79/100.. Train loss: 0.179.. Test loss: 0.235.. Test accuracy: 0.914\n",
            "Epoch 79/100.. Train loss: 0.151.. Test loss: 0.195.. Test accuracy: 0.926\n",
            "Epoch 79/100.. Train loss: 0.080.. Test loss: 0.246.. Test accuracy: 0.935\n",
            "Epoch 79/100.. Train loss: 0.141.. Test loss: 0.199.. Test accuracy: 0.932\n",
            "Epoch 79/100.. Train loss: 0.115.. Test loss: 0.203.. Test accuracy: 0.935\n",
            "Epoch 79/100.. Train loss: 0.131.. Test loss: 0.229.. Test accuracy: 0.935\n",
            "Epoch 79/100.. Train loss: 0.095.. Test loss: 0.261.. Test accuracy: 0.935\n",
            "Epoch 79/100.. Train loss: 0.205.. Test loss: 0.229.. Test accuracy: 0.932\n"
          ],
          "name": "stdout"
        },
        {
          "output_type": "stream",
          "text": [
            "\r 79%|███████▉  | 79/100 [31:11<06:14, 17.84s/it]"
          ],
          "name": "stderr"
        },
        {
          "output_type": "stream",
          "text": [
            "Epoch 80/100.. Train loss: 0.132.. Test loss: 0.234.. Test accuracy: 0.917\n",
            "Epoch 80/100.. Train loss: 0.134.. Test loss: 0.222.. Test accuracy: 0.924\n",
            "Epoch 80/100.. Train loss: 0.143.. Test loss: 0.254.. Test accuracy: 0.914\n",
            "Epoch 80/100.. Train loss: 0.226.. Test loss: 0.207.. Test accuracy: 0.920\n",
            "Epoch 80/100.. Train loss: 0.125.. Test loss: 0.223.. Test accuracy: 0.932\n",
            "Epoch 80/100.. Train loss: 0.156.. Test loss: 0.279.. Test accuracy: 0.920\n",
            "Epoch 80/100.. Train loss: 0.324.. Test loss: 0.256.. Test accuracy: 0.855\n",
            "Epoch 80/100.. Train loss: 0.313.. Test loss: 0.205.. Test accuracy: 0.911\n"
          ],
          "name": "stdout"
        },
        {
          "output_type": "stream",
          "text": [
            "\r 80%|████████  | 80/100 [31:30<06:07, 18.38s/it]"
          ],
          "name": "stderr"
        },
        {
          "output_type": "stream",
          "text": [
            "Epoch 80/100.. Train loss: 0.263.. Test loss: 0.237.. Test accuracy: 0.920\n",
            "Epoch 81/100.. Train loss: 0.140.. Test loss: 0.192.. Test accuracy: 0.929\n",
            "Epoch 81/100.. Train loss: 0.147.. Test loss: 0.205.. Test accuracy: 0.932\n",
            "Epoch 81/100.. Train loss: 0.159.. Test loss: 0.207.. Test accuracy: 0.929\n",
            "Epoch 81/100.. Train loss: 0.110.. Test loss: 0.204.. Test accuracy: 0.932\n",
            "Epoch 81/100.. Train loss: 0.092.. Test loss: 0.226.. Test accuracy: 0.909\n",
            "Epoch 81/100.. Train loss: 0.112.. Test loss: 0.239.. Test accuracy: 0.929\n",
            "Epoch 81/100.. Train loss: 0.100.. Test loss: 0.254.. Test accuracy: 0.932\n"
          ],
          "name": "stdout"
        },
        {
          "output_type": "stream",
          "text": [
            "\r 81%|████████  | 81/100 [31:48<05:43, 18.08s/it]"
          ],
          "name": "stderr"
        },
        {
          "output_type": "stream",
          "text": [
            "Epoch 81/100.. Train loss: 0.070.. Test loss: 0.259.. Test accuracy: 0.929\n",
            "Epoch 82/100.. Train loss: 0.060.. Test loss: 0.274.. Test accuracy: 0.935\n",
            "Epoch 82/100.. Train loss: 0.088.. Test loss: 0.268.. Test accuracy: 0.926\n",
            "Epoch 82/100.. Train loss: 0.083.. Test loss: 0.282.. Test accuracy: 0.932\n",
            "Epoch 82/100.. Train loss: 0.120.. Test loss: 0.223.. Test accuracy: 0.923\n",
            "Epoch 82/100.. Train loss: 0.124.. Test loss: 0.213.. Test accuracy: 0.938\n",
            "Epoch 82/100.. Train loss: 0.058.. Test loss: 0.324.. Test accuracy: 0.932\n",
            "Epoch 82/100.. Train loss: 0.238.. Test loss: 0.234.. Test accuracy: 0.908\n",
            "Epoch 82/100.. Train loss: 0.143.. Test loss: 0.241.. Test accuracy: 0.923\n"
          ],
          "name": "stdout"
        },
        {
          "output_type": "stream",
          "text": [
            "\r 82%|████████▏ | 82/100 [32:05<05:20, 17.81s/it]"
          ],
          "name": "stderr"
        },
        {
          "output_type": "stream",
          "text": [
            "Epoch 83/100.. Train loss: 0.123.. Test loss: 0.338.. Test accuracy: 0.896\n",
            "Epoch 83/100.. Train loss: 0.453.. Test loss: 0.331.. Test accuracy: 0.851\n",
            "Epoch 83/100.. Train loss: 0.149.. Test loss: 0.205.. Test accuracy: 0.932\n",
            "Epoch 83/100.. Train loss: 0.114.. Test loss: 0.227.. Test accuracy: 0.932\n",
            "Epoch 83/100.. Train loss: 0.156.. Test loss: 0.213.. Test accuracy: 0.932\n",
            "Epoch 83/100.. Train loss: 0.172.. Test loss: 0.185.. Test accuracy: 0.911\n",
            "Epoch 83/100.. Train loss: 0.187.. Test loss: 0.188.. Test accuracy: 0.921\n",
            "Epoch 83/100.. Train loss: 0.228.. Test loss: 0.183.. Test accuracy: 0.929\n"
          ],
          "name": "stdout"
        },
        {
          "output_type": "stream",
          "text": [
            "\r 83%|████████▎ | 83/100 [32:22<04:58, 17.57s/it]"
          ],
          "name": "stderr"
        },
        {
          "output_type": "stream",
          "text": [
            "Epoch 84/100.. Train loss: 0.134.. Test loss: 0.177.. Test accuracy: 0.923\n",
            "Epoch 84/100.. Train loss: 0.116.. Test loss: 0.192.. Test accuracy: 0.932\n",
            "Epoch 84/100.. Train loss: 0.210.. Test loss: 0.182.. Test accuracy: 0.935\n",
            "Epoch 84/100.. Train loss: 0.240.. Test loss: 0.176.. Test accuracy: 0.912\n",
            "Epoch 84/100.. Train loss: 0.158.. Test loss: 0.229.. Test accuracy: 0.904\n",
            "Epoch 84/100.. Train loss: 0.162.. Test loss: 0.188.. Test accuracy: 0.923\n",
            "Epoch 84/100.. Train loss: 0.153.. Test loss: 0.190.. Test accuracy: 0.929\n",
            "Epoch 84/100.. Train loss: 0.287.. Test loss: 0.224.. Test accuracy: 0.885\n"
          ],
          "name": "stdout"
        },
        {
          "output_type": "stream",
          "text": [
            "\r 84%|████████▍ | 84/100 [32:40<04:45, 17.83s/it]"
          ],
          "name": "stderr"
        },
        {
          "output_type": "stream",
          "text": [
            "Epoch 84/100.. Train loss: 0.135.. Test loss: 0.181.. Test accuracy: 0.926\n",
            "Epoch 85/100.. Train loss: 0.262.. Test loss: 0.337.. Test accuracy: 0.896\n",
            "Epoch 85/100.. Train loss: 0.285.. Test loss: 0.222.. Test accuracy: 0.921\n",
            "Epoch 85/100.. Train loss: 0.180.. Test loss: 0.186.. Test accuracy: 0.929\n",
            "Epoch 85/100.. Train loss: 0.157.. Test loss: 0.214.. Test accuracy: 0.932\n",
            "Epoch 85/100.. Train loss: 0.096.. Test loss: 0.277.. Test accuracy: 0.933\n",
            "Epoch 85/100.. Train loss: 0.342.. Test loss: 0.273.. Test accuracy: 0.868\n",
            "Epoch 85/100.. Train loss: 0.221.. Test loss: 0.242.. Test accuracy: 0.905\n",
            "Epoch 85/100.. Train loss: 0.196.. Test loss: 0.210.. Test accuracy: 0.896\n"
          ],
          "name": "stdout"
        },
        {
          "output_type": "stream",
          "text": [
            "\r 85%|████████▌ | 85/100 [32:57<04:23, 17.59s/it]"
          ],
          "name": "stderr"
        },
        {
          "output_type": "stream",
          "text": [
            "Epoch 86/100.. Train loss: 0.186.. Test loss: 0.223.. Test accuracy: 0.893\n",
            "Epoch 86/100.. Train loss: 0.282.. Test loss: 0.239.. Test accuracy: 0.899\n",
            "Epoch 86/100.. Train loss: 0.250.. Test loss: 0.226.. Test accuracy: 0.899\n",
            "Epoch 86/100.. Train loss: 0.196.. Test loss: 0.203.. Test accuracy: 0.894\n",
            "Epoch 86/100.. Train loss: 0.145.. Test loss: 0.195.. Test accuracy: 0.914\n",
            "Epoch 86/100.. Train loss: 0.217.. Test loss: 0.232.. Test accuracy: 0.917\n",
            "Epoch 86/100.. Train loss: 0.166.. Test loss: 0.208.. Test accuracy: 0.905\n",
            "Epoch 86/100.. Train loss: 0.192.. Test loss: 0.210.. Test accuracy: 0.932\n"
          ],
          "name": "stdout"
        },
        {
          "output_type": "stream",
          "text": [
            "\r 86%|████████▌ | 86/100 [33:15<04:04, 17.49s/it]"
          ],
          "name": "stderr"
        },
        {
          "output_type": "stream",
          "text": [
            "Epoch 87/100.. Train loss: 0.206.. Test loss: 0.206.. Test accuracy: 0.908\n",
            "Epoch 87/100.. Train loss: 0.171.. Test loss: 0.220.. Test accuracy: 0.896\n",
            "Epoch 87/100.. Train loss: 0.232.. Test loss: 0.267.. Test accuracy: 0.902\n",
            "Epoch 87/100.. Train loss: 0.114.. Test loss: 0.228.. Test accuracy: 0.923\n",
            "Epoch 87/100.. Train loss: 0.132.. Test loss: 0.230.. Test accuracy: 0.926\n",
            "Epoch 87/100.. Train loss: 0.195.. Test loss: 0.196.. Test accuracy: 0.908\n",
            "Epoch 87/100.. Train loss: 0.144.. Test loss: 0.193.. Test accuracy: 0.923\n",
            "Epoch 87/100.. Train loss: 0.235.. Test loss: 0.186.. Test accuracy: 0.911\n"
          ],
          "name": "stdout"
        },
        {
          "output_type": "stream",
          "text": [
            "\r 87%|████████▋ | 87/100 [33:33<03:51, 17.79s/it]"
          ],
          "name": "stderr"
        },
        {
          "output_type": "stream",
          "text": [
            "Epoch 87/100.. Train loss: 0.144.. Test loss: 0.189.. Test accuracy: 0.911\n",
            "Epoch 88/100.. Train loss: 0.180.. Test loss: 0.243.. Test accuracy: 0.923\n",
            "Epoch 88/100.. Train loss: 0.140.. Test loss: 0.204.. Test accuracy: 0.932\n",
            "Epoch 88/100.. Train loss: 0.107.. Test loss: 0.197.. Test accuracy: 0.913\n",
            "Epoch 88/100.. Train loss: 0.222.. Test loss: 0.219.. Test accuracy: 0.897\n",
            "Epoch 88/100.. Train loss: 0.128.. Test loss: 0.177.. Test accuracy: 0.938\n",
            "Epoch 88/100.. Train loss: 0.097.. Test loss: 0.213.. Test accuracy: 0.938\n",
            "Epoch 88/100.. Train loss: 0.081.. Test loss: 0.312.. Test accuracy: 0.910\n",
            "Epoch 88/100.. Train loss: 0.131.. Test loss: 0.249.. Test accuracy: 0.926\n"
          ],
          "name": "stdout"
        },
        {
          "output_type": "stream",
          "text": [
            "\r 88%|████████▊ | 88/100 [33:50<03:30, 17.55s/it]"
          ],
          "name": "stderr"
        },
        {
          "output_type": "stream",
          "text": [
            "Epoch 89/100.. Train loss: 0.151.. Test loss: 0.213.. Test accuracy: 0.926\n",
            "Epoch 89/100.. Train loss: 0.185.. Test loss: 0.203.. Test accuracy: 0.917\n",
            "Epoch 89/100.. Train loss: 0.118.. Test loss: 0.212.. Test accuracy: 0.896\n",
            "Epoch 89/100.. Train loss: 0.133.. Test loss: 0.200.. Test accuracy: 0.920\n",
            "Epoch 89/100.. Train loss: 0.258.. Test loss: 0.201.. Test accuracy: 0.924\n",
            "Epoch 89/100.. Train loss: 0.198.. Test loss: 0.352.. Test accuracy: 0.858\n",
            "Epoch 89/100.. Train loss: 0.207.. Test loss: 0.178.. Test accuracy: 0.935\n",
            "Epoch 89/100.. Train loss: 0.175.. Test loss: 0.201.. Test accuracy: 0.933\n"
          ],
          "name": "stdout"
        },
        {
          "output_type": "stream",
          "text": [
            "\r 89%|████████▉ | 89/100 [34:07<03:11, 17.38s/it]"
          ],
          "name": "stderr"
        },
        {
          "output_type": "stream",
          "text": [
            "Epoch 90/100.. Train loss: 0.220.. Test loss: 0.177.. Test accuracy: 0.914\n",
            "Epoch 90/100.. Train loss: 0.095.. Test loss: 0.184.. Test accuracy: 0.917\n",
            "Epoch 90/100.. Train loss: 0.096.. Test loss: 0.244.. Test accuracy: 0.929\n",
            "Epoch 90/100.. Train loss: 0.261.. Test loss: 0.238.. Test accuracy: 0.911\n",
            "Epoch 90/100.. Train loss: 0.180.. Test loss: 0.176.. Test accuracy: 0.938\n",
            "Epoch 90/100.. Train loss: 0.111.. Test loss: 0.210.. Test accuracy: 0.914\n",
            "Epoch 90/100.. Train loss: 0.124.. Test loss: 0.216.. Test accuracy: 0.917\n",
            "Epoch 90/100.. Train loss: 0.220.. Test loss: 0.235.. Test accuracy: 0.920\n"
          ],
          "name": "stdout"
        },
        {
          "output_type": "stream",
          "text": [
            "\r 90%|█████████ | 90/100 [34:26<02:57, 17.74s/it]"
          ],
          "name": "stderr"
        },
        {
          "output_type": "stream",
          "text": [
            "Epoch 90/100.. Train loss: 0.302.. Test loss: 0.190.. Test accuracy: 0.932\n",
            "Epoch 91/100.. Train loss: 0.238.. Test loss: 0.334.. Test accuracy: 0.885\n",
            "Epoch 91/100.. Train loss: 0.156.. Test loss: 0.190.. Test accuracy: 0.911\n",
            "Epoch 91/100.. Train loss: 0.159.. Test loss: 0.181.. Test accuracy: 0.923\n",
            "Epoch 91/100.. Train loss: 0.169.. Test loss: 0.223.. Test accuracy: 0.926\n",
            "Epoch 91/100.. Train loss: 0.381.. Test loss: 0.215.. Test accuracy: 0.908\n",
            "Epoch 91/100.. Train loss: 0.198.. Test loss: 0.200.. Test accuracy: 0.911\n",
            "Epoch 91/100.. Train loss: 0.161.. Test loss: 0.199.. Test accuracy: 0.926\n"
          ],
          "name": "stdout"
        },
        {
          "output_type": "stream",
          "text": [
            "\r 91%|█████████ | 91/100 [34:43<02:37, 17.54s/it]"
          ],
          "name": "stderr"
        },
        {
          "output_type": "stream",
          "text": [
            "Epoch 91/100.. Train loss: 0.168.. Test loss: 0.193.. Test accuracy: 0.929\n",
            "Epoch 92/100.. Train loss: 0.112.. Test loss: 0.227.. Test accuracy: 0.926\n",
            "Epoch 92/100.. Train loss: 0.251.. Test loss: 0.243.. Test accuracy: 0.867\n",
            "Epoch 92/100.. Train loss: 0.233.. Test loss: 0.198.. Test accuracy: 0.908\n",
            "Epoch 92/100.. Train loss: 0.196.. Test loss: 0.210.. Test accuracy: 0.915\n",
            "Epoch 92/100.. Train loss: 0.201.. Test loss: 0.194.. Test accuracy: 0.935\n",
            "Epoch 92/100.. Train loss: 0.127.. Test loss: 0.213.. Test accuracy: 0.917\n",
            "Epoch 92/100.. Train loss: 0.162.. Test loss: 0.174.. Test accuracy: 0.943\n",
            "Epoch 92/100.. Train loss: 0.120.. Test loss: 0.234.. Test accuracy: 0.891\n"
          ],
          "name": "stdout"
        },
        {
          "output_type": "stream",
          "text": [
            "\r 92%|█████████▏| 92/100 [35:00<02:19, 17.41s/it]"
          ],
          "name": "stderr"
        },
        {
          "output_type": "stream",
          "text": [
            "Epoch 93/100.. Train loss: 0.188.. Test loss: 0.199.. Test accuracy: 0.923\n",
            "Epoch 93/100.. Train loss: 0.211.. Test loss: 0.317.. Test accuracy: 0.896\n",
            "Epoch 93/100.. Train loss: 0.255.. Test loss: 0.257.. Test accuracy: 0.899\n",
            "Epoch 93/100.. Train loss: 0.124.. Test loss: 0.188.. Test accuracy: 0.932\n",
            "Epoch 93/100.. Train loss: 0.119.. Test loss: 0.232.. Test accuracy: 0.929\n",
            "Epoch 93/100.. Train loss: 0.123.. Test loss: 0.241.. Test accuracy: 0.917\n",
            "Epoch 93/100.. Train loss: 0.114.. Test loss: 0.206.. Test accuracy: 0.915\n",
            "Epoch 93/100.. Train loss: 0.081.. Test loss: 0.211.. Test accuracy: 0.929\n"
          ],
          "name": "stdout"
        },
        {
          "output_type": "stream",
          "text": [
            "\r 93%|█████████▎| 93/100 [35:17<02:01, 17.32s/it]"
          ],
          "name": "stderr"
        },
        {
          "output_type": "stream",
          "text": [
            "Epoch 94/100.. Train loss: 0.087.. Test loss: 0.204.. Test accuracy: 0.929\n",
            "Epoch 94/100.. Train loss: 0.065.. Test loss: 0.213.. Test accuracy: 0.932\n",
            "Epoch 94/100.. Train loss: 0.110.. Test loss: 0.216.. Test accuracy: 0.929\n",
            "Epoch 94/100.. Train loss: 0.090.. Test loss: 0.264.. Test accuracy: 0.926\n",
            "Epoch 94/100.. Train loss: 0.177.. Test loss: 0.243.. Test accuracy: 0.929\n",
            "Epoch 94/100.. Train loss: 0.123.. Test loss: 0.202.. Test accuracy: 0.920\n",
            "Epoch 94/100.. Train loss: 0.133.. Test loss: 0.195.. Test accuracy: 0.930\n",
            "Epoch 94/100.. Train loss: 0.107.. Test loss: 0.196.. Test accuracy: 0.929\n"
          ],
          "name": "stdout"
        },
        {
          "output_type": "stream",
          "text": [
            "\r 94%|█████████▍| 94/100 [35:35<01:46, 17.71s/it]"
          ],
          "name": "stderr"
        },
        {
          "output_type": "stream",
          "text": [
            "Epoch 94/100.. Train loss: 0.068.. Test loss: 0.211.. Test accuracy: 0.923\n",
            "Epoch 95/100.. Train loss: 0.095.. Test loss: 0.249.. Test accuracy: 0.923\n",
            "Epoch 95/100.. Train loss: 0.088.. Test loss: 0.237.. Test accuracy: 0.938\n",
            "Epoch 95/100.. Train loss: 0.153.. Test loss: 0.213.. Test accuracy: 0.932\n",
            "Epoch 95/100.. Train loss: 0.108.. Test loss: 0.206.. Test accuracy: 0.935\n",
            "Epoch 95/100.. Train loss: 0.178.. Test loss: 0.218.. Test accuracy: 0.925\n",
            "Epoch 95/100.. Train loss: 0.141.. Test loss: 0.188.. Test accuracy: 0.929\n",
            "Epoch 95/100.. Train loss: 0.091.. Test loss: 0.270.. Test accuracy: 0.911\n",
            "Epoch 95/100.. Train loss: 0.104.. Test loss: 0.216.. Test accuracy: 0.935\n"
          ],
          "name": "stdout"
        },
        {
          "output_type": "stream",
          "text": [
            "\r 95%|█████████▌| 95/100 [35:53<01:28, 17.70s/it]"
          ],
          "name": "stderr"
        },
        {
          "output_type": "stream",
          "text": [
            "Epoch 96/100.. Train loss: 0.177.. Test loss: 0.346.. Test accuracy: 0.899\n",
            "Epoch 96/100.. Train loss: 0.246.. Test loss: 0.197.. Test accuracy: 0.902\n",
            "Epoch 96/100.. Train loss: 0.171.. Test loss: 0.210.. Test accuracy: 0.923\n",
            "Epoch 96/100.. Train loss: 0.135.. Test loss: 0.224.. Test accuracy: 0.926\n",
            "Epoch 96/100.. Train loss: 0.112.. Test loss: 0.207.. Test accuracy: 0.927\n",
            "Epoch 96/100.. Train loss: 0.149.. Test loss: 0.221.. Test accuracy: 0.929\n",
            "Epoch 96/100.. Train loss: 0.170.. Test loss: 0.217.. Test accuracy: 0.908\n",
            "Epoch 96/100.. Train loss: 0.129.. Test loss: 0.218.. Test accuracy: 0.902\n"
          ],
          "name": "stdout"
        },
        {
          "output_type": "stream",
          "text": [
            "\r 96%|█████████▌| 96/100 [36:11<01:11, 17.79s/it]"
          ],
          "name": "stderr"
        },
        {
          "output_type": "stream",
          "text": [
            "Epoch 97/100.. Train loss: 0.145.. Test loss: 0.198.. Test accuracy: 0.923\n",
            "Epoch 97/100.. Train loss: 0.090.. Test loss: 0.245.. Test accuracy: 0.915\n",
            "Epoch 97/100.. Train loss: 0.075.. Test loss: 0.257.. Test accuracy: 0.923\n",
            "Epoch 97/100.. Train loss: 0.298.. Test loss: 0.198.. Test accuracy: 0.908\n",
            "Epoch 97/100.. Train loss: 0.171.. Test loss: 0.233.. Test accuracy: 0.920\n",
            "Epoch 97/100.. Train loss: 0.272.. Test loss: 0.208.. Test accuracy: 0.938\n",
            "Epoch 97/100.. Train loss: 0.158.. Test loss: 0.195.. Test accuracy: 0.908\n",
            "Epoch 97/100.. Train loss: 0.100.. Test loss: 0.282.. Test accuracy: 0.920\n"
          ],
          "name": "stdout"
        },
        {
          "output_type": "stream",
          "text": [
            "\r 97%|█████████▋| 97/100 [36:30<00:54, 18.02s/it]"
          ],
          "name": "stderr"
        },
        {
          "output_type": "stream",
          "text": [
            "Epoch 97/100.. Train loss: 0.083.. Test loss: 0.297.. Test accuracy: 0.913\n",
            "Epoch 98/100.. Train loss: 0.142.. Test loss: 0.221.. Test accuracy: 0.926\n",
            "Epoch 98/100.. Train loss: 0.082.. Test loss: 0.192.. Test accuracy: 0.943\n",
            "Epoch 98/100.. Train loss: 0.078.. Test loss: 0.222.. Test accuracy: 0.923\n",
            "Epoch 98/100.. Train loss: 0.072.. Test loss: 0.233.. Test accuracy: 0.929\n",
            "Epoch 98/100.. Train loss: 0.073.. Test loss: 0.241.. Test accuracy: 0.923\n",
            "Epoch 98/100.. Train loss: 0.092.. Test loss: 0.223.. Test accuracy: 0.923\n",
            "Epoch 98/100.. Train loss: 0.130.. Test loss: 0.228.. Test accuracy: 0.909\n",
            "Epoch 98/100.. Train loss: 0.126.. Test loss: 0.240.. Test accuracy: 0.929\n"
          ],
          "name": "stdout"
        },
        {
          "output_type": "stream",
          "text": [
            "\r 98%|█████████▊| 98/100 [36:47<00:35, 17.72s/it]"
          ],
          "name": "stderr"
        },
        {
          "output_type": "stream",
          "text": [
            "Epoch 99/100.. Train loss: 0.138.. Test loss: 0.238.. Test accuracy: 0.917\n",
            "Epoch 99/100.. Train loss: 0.062.. Test loss: 0.236.. Test accuracy: 0.923\n",
            "Epoch 99/100.. Train loss: 0.081.. Test loss: 0.233.. Test accuracy: 0.935\n",
            "Epoch 99/100.. Train loss: 0.101.. Test loss: 0.253.. Test accuracy: 0.923\n",
            "Epoch 99/100.. Train loss: 0.102.. Test loss: 0.225.. Test accuracy: 0.932\n",
            "Epoch 99/100.. Train loss: 0.081.. Test loss: 0.245.. Test accuracy: 0.935\n",
            "Epoch 99/100.. Train loss: 0.131.. Test loss: 0.256.. Test accuracy: 0.932\n",
            "Epoch 99/100.. Train loss: 0.095.. Test loss: 0.243.. Test accuracy: 0.914\n"
          ],
          "name": "stdout"
        },
        {
          "output_type": "stream",
          "text": [
            "\r 99%|█████████▉| 99/100 [37:04<00:17, 17.52s/it]"
          ],
          "name": "stderr"
        },
        {
          "output_type": "stream",
          "text": [
            "Epoch 100/100.. Train loss: 0.130.. Test loss: 0.276.. Test accuracy: 0.911\n",
            "Epoch 100/100.. Train loss: 0.052.. Test loss: 0.268.. Test accuracy: 0.926\n",
            "Epoch 100/100.. Train loss: 0.126.. Test loss: 0.336.. Test accuracy: 0.920\n",
            "Epoch 100/100.. Train loss: 0.138.. Test loss: 0.250.. Test accuracy: 0.929\n",
            "Epoch 100/100.. Train loss: 0.175.. Test loss: 0.192.. Test accuracy: 0.938\n",
            "Epoch 100/100.. Train loss: 0.125.. Test loss: 0.204.. Test accuracy: 0.932\n",
            "Epoch 100/100.. Train loss: 0.127.. Test loss: 0.194.. Test accuracy: 0.929\n",
            "Epoch 100/100.. Train loss: 0.167.. Test loss: 0.222.. Test accuracy: 0.932\n"
          ],
          "name": "stdout"
        },
        {
          "output_type": "stream",
          "text": [
            "100%|██████████| 100/100 [37:22<00:00, 22.43s/it]"
          ],
          "name": "stderr"
        },
        {
          "output_type": "stream",
          "text": [
            "Epoch 100/100.. Train loss: 0.078.. Test loss: 0.206.. Test accuracy: 0.914\n"
          ],
          "name": "stdout"
        },
        {
          "output_type": "stream",
          "text": [
            "\n"
          ],
          "name": "stderr"
        },
        {
          "output_type": "stream",
          "text": [
            "time: 37min 25s\n"
          ],
          "name": "stdout"
        }
      ]
    },
    {
      "cell_type": "code",
      "metadata": {
        "id": "uh67KLaBKbFg",
        "colab_type": "code",
        "colab": {
          "base_uri": "https://localhost:8080/",
          "height": 282
        },
        "outputId": "47b5e09a-485e-469c-cea7-bf282e99adaf"
      },
      "source": [
        "plt.plot(train_losses, label='Training loss')\n",
        "plt.plot(test_losses, label='Validation loss')\n",
        "plt.legend(frameon=False)\n",
        "plt.show()"
      ],
      "execution_count": null,
      "outputs": [
        {
          "output_type": "display_data",
          "data": {
            "image/png": "[encoded data removed]",
            "text/plain": [
              "<Figure size 432x288 with 1 Axes>"
            ]
          },
          "metadata": {
            "tags": [],
            "needs_background": "light"
          }
        },
        {
          "output_type": "stream",
          "text": [
            "time: 143 ms\n"
          ],
          "name": "stdout"
        }
      ]
    },
    {
      "cell_type": "markdown",
      "metadata": {
        "id": "G5-3oh581hH7",
        "colab_type": "text"
      },
      "source": [
        "### Evaluation - Test"
      ]
    },
    {
      "cell_type": "code",
      "metadata": {
        "id": "D_T5W8e7Ka99",
        "colab_type": "code",
        "colab": {
          "base_uri": "https://localhost:8080/",
          "height": 34
        },
        "outputId": "d3cc0119-abc9-437e-b711-41aa9533c703"
      },
      "source": [
        "data_dir = TOTAL_IMAGES_PATH\n",
        "\n",
        "test_transforms = transforms.Compose([transforms.ToTensor(),\n",
        "                                      #transforms.Normalize([0.485, 0.456, 0.406],\n",
        "                                      #                     [0.229, 0.224, 0.225])\n",
        "                                     ])"
      ],
      "execution_count": null,
      "outputs": [
        {
          "output_type": "stream",
          "text": [
            "time: 1.11 ms\n"
          ],
          "name": "stdout"
        }
      ]
    },
    {
      "cell_type": "code",
      "metadata": {
        "id": "ja1sKi0aQllP",
        "colab_type": "code",
        "colab": {
          "base_uri": "https://localhost:8080/",
          "height": 1000
        },
        "outputId": "f533753f-faf5-4c73-941c-033417aeee2a"
      },
      "source": [
        "device = torch.device(\"cuda\" if torch.cuda.is_available() else \"cpu\")\n",
        "model=torch.load('jantahackathon.pth')\n",
        "model.eval()"
      ],
      "execution_count": null,
      "outputs": [
        {
          "output_type": "execute_result",
          "data": {
            "text/plain": [
              "ResNet(\n",
              "  (conv1): Conv2d(3, 64, kernel_size=(7, 7), stride=(2, 2), padding=(3, 3), bias=False)\n",
              "  (bn1): BatchNorm2d(64, eps=1e-05, momentum=0.1, affine=True, track_running_stats=True)\n",
              "  (relu): ReLU(inplace=True)\n",
              "  (maxpool): MaxPool2d(kernel_size=3, stride=2, padding=1, dilation=1, ceil_mode=False)\n",
              "  (layer1): Sequential(\n",
              "    (0): Bottleneck(\n",
              "      (conv1): Conv2d(64, 64, kernel_size=(1, 1), stride=(1, 1), bias=False)\n",
              "      (bn1): BatchNorm2d(64, eps=1e-05, momentum=0.1, affine=True, track_running_stats=True)\n",
              "      (conv2): Conv2d(64, 64, kernel_size=(3, 3), stride=(1, 1), padding=(1, 1), bias=False)\n",
              "      (bn2): BatchNorm2d(64, eps=1e-05, momentum=0.1, affine=True, track_running_stats=True)\n",
              "      (conv3): Conv2d(64, 256, kernel_size=(1, 1), stride=(1, 1), bias=False)\n",
              "      (bn3): BatchNorm2d(256, eps=1e-05, momentum=0.1, affine=True, track_running_stats=True)\n",
              "      (relu): ReLU(inplace=True)\n",
              "      (downsample): Sequential(\n",
              "        (0): Conv2d(64, 256, kernel_size=(1, 1), stride=(1, 1), bias=False)\n",
              "        (1): BatchNorm2d(256, eps=1e-05, momentum=0.1, affine=True, track_running_stats=True)\n",
              "      )\n",
              "    )\n",
              "    (1): Bottleneck(\n",
              "      (conv1): Conv2d(256, 64, kernel_size=(1, 1), stride=(1, 1), bias=False)\n",
              "      (bn1): BatchNorm2d(64, eps=1e-05, momentum=0.1, affine=True, track_running_stats=True)\n",
              "      (conv2): Conv2d(64, 64, kernel_size=(3, 3), stride=(1, 1), padding=(1, 1), bias=False)\n",
              "      (bn2): BatchNorm2d(64, eps=1e-05, momentum=0.1, affine=True, track_running_stats=True)\n",
              "      (conv3): Conv2d(64, 256, kernel_size=(1, 1), stride=(1, 1), bias=False)\n",
              "      (bn3): BatchNorm2d(256, eps=1e-05, momentum=0.1, affine=True, track_running_stats=True)\n",
              "      (relu): ReLU(inplace=True)\n",
              "    )\n",
              "    (2): Bottleneck(\n",
              "      (conv1): Conv2d(256, 64, kernel_size=(1, 1), stride=(1, 1), bias=False)\n",
              "      (bn1): BatchNorm2d(64, eps=1e-05, momentum=0.1, affine=True, track_running_stats=True)\n",
              "      (conv2): Conv2d(64, 64, kernel_size=(3, 3), stride=(1, 1), padding=(1, 1), bias=False)\n",
              "      (bn2): BatchNorm2d(64, eps=1e-05, momentum=0.1, affine=True, track_running_stats=True)\n",
              "      (conv3): Conv2d(64, 256, kernel_size=(1, 1), stride=(1, 1), bias=False)\n",
              "      (bn3): BatchNorm2d(256, eps=1e-05, momentum=0.1, affine=True, track_running_stats=True)\n",
              "      (relu): ReLU(inplace=True)\n",
              "    )\n",
              "  )\n",
              "  (layer2): Sequential(\n",
              "    (0): Bottleneck(\n",
              "      (conv1): Conv2d(256, 128, kernel_size=(1, 1), stride=(1, 1), bias=False)\n",
              "      (bn1): BatchNorm2d(128, eps=1e-05, momentum=0.1, affine=True, track_running_stats=True)\n",
              "      (conv2): Conv2d(128, 128, kernel_size=(3, 3), stride=(2, 2), padding=(1, 1), bias=False)\n",
              "      (bn2): BatchNorm2d(128, eps=1e-05, momentum=0.1, affine=True, track_running_stats=True)\n",
              "      (conv3): Conv2d(128, 512, kernel_size=(1, 1), stride=(1, 1), bias=False)\n",
              "      (bn3): BatchNorm2d(512, eps=1e-05, momentum=0.1, affine=True, track_running_stats=True)\n",
              "      (relu): ReLU(inplace=True)\n",
              "      (downsample): Sequential(\n",
              "        (0): Conv2d(256, 512, kernel_size=(1, 1), stride=(2, 2), bias=False)\n",
              "        (1): BatchNorm2d(512, eps=1e-05, momentum=0.1, affine=True, track_running_stats=True)\n",
              "      )\n",
              "    )\n",
              "    (1): Bottleneck(\n",
              "      (conv1): Conv2d(512, 128, kernel_size=(1, 1), stride=(1, 1), bias=False)\n",
              "      (bn1): BatchNorm2d(128, eps=1e-05, momentum=0.1, affine=True, track_running_stats=True)\n",
              "      (conv2): Conv2d(128, 128, kernel_size=(3, 3), stride=(1, 1), padding=(1, 1), bias=False)\n",
              "      (bn2): BatchNorm2d(128, eps=1e-05, momentum=0.1, affine=True, track_running_stats=True)\n",
              "      (conv3): Conv2d(128, 512, kernel_size=(1, 1), stride=(1, 1), bias=False)\n",
              "      (bn3): BatchNorm2d(512, eps=1e-05, momentum=0.1, affine=True, track_running_stats=True)\n",
              "      (relu): ReLU(inplace=True)\n",
              "    )\n",
              "    (2): Bottleneck(\n",
              "      (conv1): Conv2d(512, 128, kernel_size=(1, 1), stride=(1, 1), bias=False)\n",
              "      (bn1): BatchNorm2d(128, eps=1e-05, momentum=0.1, affine=True, track_running_stats=True)\n",
              "      (conv2): Conv2d(128, 128, kernel_size=(3, 3), stride=(1, 1), padding=(1, 1), bias=False)\n",
              "      (bn2): BatchNorm2d(128, eps=1e-05, momentum=0.1, affine=True, track_running_stats=True)\n",
              "      (conv3): Conv2d(128, 512, kernel_size=(1, 1), stride=(1, 1), bias=False)\n",
              "      (bn3): BatchNorm2d(512, eps=1e-05, momentum=0.1, affine=True, track_running_stats=True)\n",
              "      (relu): ReLU(inplace=True)\n",
              "    )\n",
              "    (3): Bottleneck(\n",
              "      (conv1): Conv2d(512, 128, kernel_size=(1, 1), stride=(1, 1), bias=False)\n",
              "      (bn1): BatchNorm2d(128, eps=1e-05, momentum=0.1, affine=True, track_running_stats=True)\n",
              "      (conv2): Conv2d(128, 128, kernel_size=(3, 3), stride=(1, 1), padding=(1, 1), bias=False)\n",
              "      (bn2): BatchNorm2d(128, eps=1e-05, momentum=0.1, affine=True, track_running_stats=True)\n",
              "      (conv3): Conv2d(128, 512, kernel_size=(1, 1), stride=(1, 1), bias=False)\n",
              "      (bn3): BatchNorm2d(512, eps=1e-05, momentum=0.1, affine=True, track_running_stats=True)\n",
              "      (relu): ReLU(inplace=True)\n",
              "    )\n",
              "  )\n",
              "  (layer3): Sequential(\n",
              "    (0): Bottleneck(\n",
              "      (conv1): Conv2d(512, 256, kernel_size=(1, 1), stride=(1, 1), bias=False)\n",
              "      (bn1): BatchNorm2d(256, eps=1e-05, momentum=0.1, affine=True, track_running_stats=True)\n",
              "      (conv2): Conv2d(256, 256, kernel_size=(3, 3), stride=(2, 2), padding=(1, 1), bias=False)\n",
              "      (bn2): BatchNorm2d(256, eps=1e-05, momentum=0.1, affine=True, track_running_stats=True)\n",
              "      (conv3): Conv2d(256, 1024, kernel_size=(1, 1), stride=(1, 1), bias=False)\n",
              "      (bn3): BatchNorm2d(1024, eps=1e-05, momentum=0.1, affine=True, track_running_stats=True)\n",
              "      (relu): ReLU(inplace=True)\n",
              "      (downsample): Sequential(\n",
              "        (0): Conv2d(512, 1024, kernel_size=(1, 1), stride=(2, 2), bias=False)\n",
              "        (1): BatchNorm2d(1024, eps=1e-05, momentum=0.1, affine=True, track_running_stats=True)\n",
              "      )\n",
              "    )\n",
              "    (1): Bottleneck(\n",
              "      (conv1): Conv2d(1024, 256, kernel_size=(1, 1), stride=(1, 1), bias=False)\n",
              "      (bn1): BatchNorm2d(256, eps=1e-05, momentum=0.1, affine=True, track_running_stats=True)\n",
              "      (conv2): Conv2d(256, 256, kernel_size=(3, 3), stride=(1, 1), padding=(1, 1), bias=False)\n",
              "      (bn2): BatchNorm2d(256, eps=1e-05, momentum=0.1, affine=True, track_running_stats=True)\n",
              "      (conv3): Conv2d(256, 1024, kernel_size=(1, 1), stride=(1, 1), bias=False)\n",
              "      (bn3): BatchNorm2d(1024, eps=1e-05, momentum=0.1, affine=True, track_running_stats=True)\n",
              "      (relu): ReLU(inplace=True)\n",
              "    )\n",
              "    (2): Bottleneck(\n",
              "      (conv1): Conv2d(1024, 256, kernel_size=(1, 1), stride=(1, 1), bias=False)\n",
              "      (bn1): BatchNorm2d(256, eps=1e-05, momentum=0.1, affine=True, track_running_stats=True)\n",
              "      (conv2): Conv2d(256, 256, kernel_size=(3, 3), stride=(1, 1), padding=(1, 1), bias=False)\n",
              "      (bn2): BatchNorm2d(256, eps=1e-05, momentum=0.1, affine=True, track_running_stats=True)\n",
              "      (conv3): Conv2d(256, 1024, kernel_size=(1, 1), stride=(1, 1), bias=False)\n",
              "      (bn3): BatchNorm2d(1024, eps=1e-05, momentum=0.1, affine=True, track_running_stats=True)\n",
              "      (relu): ReLU(inplace=True)\n",
              "    )\n",
              "    (3): Bottleneck(\n",
              "      (conv1): Conv2d(1024, 256, kernel_size=(1, 1), stride=(1, 1), bias=False)\n",
              "      (bn1): BatchNorm2d(256, eps=1e-05, momentum=0.1, affine=True, track_running_stats=True)\n",
              "      (conv2): Conv2d(256, 256, kernel_size=(3, 3), stride=(1, 1), padding=(1, 1), bias=False)\n",
              "      (bn2): BatchNorm2d(256, eps=1e-05, momentum=0.1, affine=True, track_running_stats=True)\n",
              "      (conv3): Conv2d(256, 1024, kernel_size=(1, 1), stride=(1, 1), bias=False)\n",
              "      (bn3): BatchNorm2d(1024, eps=1e-05, momentum=0.1, affine=True, track_running_stats=True)\n",
              "      (relu): ReLU(inplace=True)\n",
              "    )\n",
              "    (4): Bottleneck(\n",
              "      (conv1): Conv2d(1024, 256, kernel_size=(1, 1), stride=(1, 1), bias=False)\n",
              "      (bn1): BatchNorm2d(256, eps=1e-05, momentum=0.1, affine=True, track_running_stats=True)\n",
              "      (conv2): Conv2d(256, 256, kernel_size=(3, 3), stride=(1, 1), padding=(1, 1), bias=False)\n",
              "      (bn2): BatchNorm2d(256, eps=1e-05, momentum=0.1, affine=True, track_running_stats=True)\n",
              "      (conv3): Conv2d(256, 1024, kernel_size=(1, 1), stride=(1, 1), bias=False)\n",
              "      (bn3): BatchNorm2d(1024, eps=1e-05, momentum=0.1, affine=True, track_running_stats=True)\n",
              "      (relu): ReLU(inplace=True)\n",
              "    )\n",
              "    (5): Bottleneck(\n",
              "      (conv1): Conv2d(1024, 256, kernel_size=(1, 1), stride=(1, 1), bias=False)\n",
              "      (bn1): BatchNorm2d(256, eps=1e-05, momentum=0.1, affine=True, track_running_stats=True)\n",
              "      (conv2): Conv2d(256, 256, kernel_size=(3, 3), stride=(1, 1), padding=(1, 1), bias=False)\n",
              "      (bn2): BatchNorm2d(256, eps=1e-05, momentum=0.1, affine=True, track_running_stats=True)\n",
              "      (conv3): Conv2d(256, 1024, kernel_size=(1, 1), stride=(1, 1), bias=False)\n",
              "      (bn3): BatchNorm2d(1024, eps=1e-05, momentum=0.1, affine=True, track_running_stats=True)\n",
              "      (relu): ReLU(inplace=True)\n",
              "    )\n",
              "  )\n",
              "  (layer4): Sequential(\n",
              "    (0): Bottleneck(\n",
              "      (conv1): Conv2d(1024, 512, kernel_size=(1, 1), stride=(1, 1), bias=False)\n",
              "      (bn1): BatchNorm2d(512, eps=1e-05, momentum=0.1, affine=True, track_running_stats=True)\n",
              "      (conv2): Conv2d(512, 512, kernel_size=(3, 3), stride=(2, 2), padding=(1, 1), bias=False)\n",
              "      (bn2): BatchNorm2d(512, eps=1e-05, momentum=0.1, affine=True, track_running_stats=True)\n",
              "      (conv3): Conv2d(512, 2048, kernel_size=(1, 1), stride=(1, 1), bias=False)\n",
              "      (bn3): BatchNorm2d(2048, eps=1e-05, momentum=0.1, affine=True, track_running_stats=True)\n",
              "      (relu): ReLU(inplace=True)\n",
              "      (downsample): Sequential(\n",
              "        (0): Conv2d(1024, 2048, kernel_size=(1, 1), stride=(2, 2), bias=False)\n",
              "        (1): BatchNorm2d(2048, eps=1e-05, momentum=0.1, affine=True, track_running_stats=True)\n",
              "      )\n",
              "    )\n",
              "    (1): Bottleneck(\n",
              "      (conv1): Conv2d(2048, 512, kernel_size=(1, 1), stride=(1, 1), bias=False)\n",
              "      (bn1): BatchNorm2d(512, eps=1e-05, momentum=0.1, affine=True, track_running_stats=True)\n",
              "      (conv2): Conv2d(512, 512, kernel_size=(3, 3), stride=(1, 1), padding=(1, 1), bias=False)\n",
              "      (bn2): BatchNorm2d(512, eps=1e-05, momentum=0.1, affine=True, track_running_stats=True)\n",
              "      (conv3): Conv2d(512, 2048, kernel_size=(1, 1), stride=(1, 1), bias=False)\n",
              "      (bn3): BatchNorm2d(2048, eps=1e-05, momentum=0.1, affine=True, track_running_stats=True)\n",
              "      (relu): ReLU(inplace=True)\n",
              "    )\n",
              "    (2): Bottleneck(\n",
              "      (conv1): Conv2d(2048, 512, kernel_size=(1, 1), stride=(1, 1), bias=False)\n",
              "      (bn1): BatchNorm2d(512, eps=1e-05, momentum=0.1, affine=True, track_running_stats=True)\n",
              "      (conv2): Conv2d(512, 512, kernel_size=(3, 3), stride=(1, 1), padding=(1, 1), bias=False)\n",
              "      (bn2): BatchNorm2d(512, eps=1e-05, momentum=0.1, affine=True, track_running_stats=True)\n",
              "      (conv3): Conv2d(512, 2048, kernel_size=(1, 1), stride=(1, 1), bias=False)\n",
              "      (bn3): BatchNorm2d(2048, eps=1e-05, momentum=0.1, affine=True, track_running_stats=True)\n",
              "      (relu): ReLU(inplace=True)\n",
              "    )\n",
              "  )\n",
              "  (avgpool): AdaptiveAvgPool2d(output_size=(1, 1))\n",
              "  (fc): Sequential(\n",
              "    (0): Linear(in_features=2048, out_features=512, bias=True)\n",
              "    (1): ReLU()\n",
              "    (2): Dropout(p=0.2, inplace=False)\n",
              "    (3): Linear(in_features=512, out_features=2, bias=True)\n",
              "    (4): LogSoftmax()\n",
              "  )\n",
              ")"
            ]
          },
          "metadata": {
            "tags": []
          },
          "execution_count": 28
        },
        {
          "output_type": "stream",
          "text": [
            "time: 179 ms\n"
          ],
          "name": "stdout"
        }
      ]
    },
    {
      "cell_type": "code",
      "metadata": {
        "id": "wyzYqIqAQlia",
        "colab_type": "code",
        "colab": {
          "base_uri": "https://localhost:8080/",
          "height": 34
        },
        "outputId": "02ffde1e-1484-4a94-ab45-40b9dc8a46da"
      },
      "source": [
        "def predict_image(image):\n",
        "    image_tensor = test_transforms(image).float()\n",
        "    image_tensor = image_tensor.unsqueeze_(0)\n",
        "    input = Variable(image_tensor)\n",
        "    input = input.to(device)\n",
        "    output = model(input)\n",
        "    index = output.data.cpu().numpy().argmax()\n",
        "    return index"
      ],
      "execution_count": null,
      "outputs": [
        {
          "output_type": "stream",
          "text": [
            "time: 2.15 ms\n"
          ],
          "name": "stdout"
        }
      ]
    },
    {
      "cell_type": "code",
      "metadata": {
        "id": "0L8WteZSQlfl",
        "colab_type": "code",
        "colab": {
          "base_uri": "https://localhost:8080/",
          "height": 34
        },
        "outputId": "5a80eef5-3a28-4405-bf91-ff6a64c109b7"
      },
      "source": [
        "def get_random_images(num):\n",
        "    data = datasets.ImageFolder(data_dir, transform=test_transforms)\n",
        "    classes = data.classes\n",
        "    indices = list(range(len(data)))\n",
        "    np.random.shuffle(indices)\n",
        "    idx = indices[:num]\n",
        "    from torch.utils.data.sampler import SubsetRandomSampler\n",
        "    sampler = SubsetRandomSampler(idx)\n",
        "    loader = torch.utils.data.DataLoader(data, \n",
        "                   sampler=sampler, batch_size=num)\n",
        "    dataiter = iter(loader)\n",
        "    images, labels = dataiter.next()\n",
        "    return images, labels"
      ],
      "execution_count": null,
      "outputs": [
        {
          "output_type": "stream",
          "text": [
            "time: 8.69 ms\n"
          ],
          "name": "stdout"
        }
      ]
    },
    {
      "cell_type": "code",
      "metadata": {
        "id": "pk9zKTapQlcp",
        "colab_type": "code",
        "colab": {
          "base_uri": "https://localhost:8080/",
          "height": 160
        },
        "outputId": "988bcd84-78d2-4576-c4af-eaf3bfadad0f"
      },
      "source": [
        "to_pil = transforms.ToPILImage()\n",
        "images, labels = get_random_images(5)\n",
        "fig=plt.figure(figsize=(10,10))\n",
        "for ii in range(len(images)):\n",
        "    image = to_pil(images[ii])\n",
        "    index = predict_image(image)\n",
        "    sub = fig.add_subplot(1, len(images), ii+1)\n",
        "    res = int(labels[ii]) == index\n",
        "    sub.set_title(str(testloader.dataset.classes[index]) + \":\" + str(res))\n",
        "    plt.axis('off')\n",
        "    plt.imshow(image)\n",
        "plt.show()"
      ],
      "execution_count": null,
      "outputs": [
        {
          "output_type": "display_data",
          "data": {
            "image/png": "[encoded data removed]",
            "text/plain": [
              "<Figure size 720x720 with 5 Axes>"
            ]
          },
          "metadata": {
            "tags": [],
            "needs_background": "light"
          }
        },
        {
          "output_type": "stream",
          "text": [
            "time: 361 ms\n"
          ],
          "name": "stdout"
        }
      ]
    },
    {
      "cell_type": "code",
      "metadata": {
        "id": "lu2i08YyQyEb",
        "colab_type": "code",
        "colab": {}
      },
      "source": [
        ""
      ],
      "execution_count": null,
      "outputs": []
    },
    {
      "cell_type": "code",
      "metadata": {
        "id": "ACL_5krDQyBc",
        "colab_type": "code",
        "colab": {}
      },
      "source": [
        ""
      ],
      "execution_count": null,
      "outputs": []
    },
    {
      "cell_type": "code",
      "metadata": {
        "id": "aGref3efQx_X",
        "colab_type": "code",
        "colab": {}
      },
      "source": [
        ""
      ],
      "execution_count": null,
      "outputs": []
    },
    {
      "cell_type": "code",
      "metadata": {
        "id": "ZkvH-1HAQx78",
        "colab_type": "code",
        "colab": {}
      },
      "source": [
        ""
      ],
      "execution_count": null,
      "outputs": []
    },
    {
      "cell_type": "code",
      "metadata": {
        "id": "xsv1PmjkQx5f",
        "colab_type": "code",
        "colab": {}
      },
      "source": [
        ""
      ],
      "execution_count": null,
      "outputs": []
    },
    {
      "cell_type": "code",
      "metadata": {
        "id": "b0yYBM3qQx2Y",
        "colab_type": "code",
        "colab": {}
      },
      "source": [
        ""
      ],
      "execution_count": null,
      "outputs": []
    },
    {
      "cell_type": "code",
      "metadata": {
        "id": "KfJLPEcL60Ig",
        "colab_type": "code",
        "colab": {
          "base_uri": "https://localhost:8080/",
          "height": 34
        },
        "outputId": "0fb557b3-4d44-456b-8bf8-8bd3ce1ed9dc"
      },
      "source": [
        "class Net(Module):   \n",
        "    def __init__(self):\n",
        "        super(Net, self).__init__()\n",
        "\n",
        "        self.cnn_layers = Sequential(\n",
        "            # Defining a 2D convolution layer\n",
        "            Conv2d(1, 8, kernel_size=3, stride=1, padding=1), # 224 -> 222\n",
        "            BatchNorm2d(8),\n",
        "            ReLU(inplace=True),\n",
        "            MaxPool2d(kernel_size=2, stride=2),                 # 222 -> 111\n",
        "\n",
        "            # Defining another 2D convolution layer\n",
        "            Conv2d(8, 16, kernel_size=3, stride=1, padding=1), # 111 -> 109\n",
        "            BatchNorm2d(16),\n",
        "            ReLU(inplace=True),\n",
        "            MaxPool2d(kernel_size=2, stride=2),                  # 109 -> 54\n",
        "\n",
        "            # Defining another 2D convolution layer\n",
        "            Conv2d(16, 32, kernel_size=3, stride=1, padding=1), # 54 -> 52\n",
        "            BatchNorm2d(32),\n",
        "            ReLU(inplace=True),\n",
        "            MaxPool2d(kernel_size=2, stride=2),                  # 52 -> 27\n",
        "\n",
        "            # Defining another 2D convolution layer\n",
        "            Conv2d(32, 32, kernel_size=3, stride=1, padding=1), # 27 -> 25\n",
        "            BatchNorm2d(128),\n",
        "            ReLU(inplace=True),\n",
        "            MaxPool2d(kernel_size=2, stride=2),                  # 25 -> 12\n",
        "\n",
        "            # Defining another 2D convolution layer\n",
        "            Conv2d(32, 32, kernel_size=3, stride=1, padding=1), # 12 -> 10\n",
        "            BatchNorm2d(32),\n",
        "            ReLU(inplace=True),\n",
        "            MaxPool2d(kernel_size=2, stride=2),                  # 10 -> 5\n",
        "        )\n",
        "\n",
        "        self.linear_layers = Sequential(\n",
        "            Linear(4 * 5 * 5, 10)\n",
        "        )\n",
        "\n",
        "    # Defining the forward pass    \n",
        "    def forward(self, x):\n",
        "        x = self.cnn_layers(x)\n",
        "        x = x.view(x.size(0), -1)\n",
        "        x = self.linear_layers(x)\n",
        "        return x"
      ],
      "execution_count": null,
      "outputs": [
        {
          "output_type": "stream",
          "text": [
            "time: 23.3 ms\n"
          ],
          "name": "stdout"
        }
      ]
    }
  ]
}