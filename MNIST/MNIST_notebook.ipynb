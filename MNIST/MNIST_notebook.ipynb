{
 "cells": [
  {
   "cell_type": "code",
   "execution_count": 1,
   "metadata": {},
   "outputs": [],
   "source": [
    "from __future__ import print_function\n",
    "import torch\n",
    "import torch.nn as nn\n",
    "import torch.nn.functional as F\n",
    "import torch.optim as optim\n",
    "from torchvision import datasets, transforms\n",
    "from IPython.core.debugger import set_trace\n",
    "import matplotlib.pyplot as plt"
   ]
  },
  {
   "cell_type": "code",
   "execution_count": 2,
   "metadata": {},
   "outputs": [],
   "source": [
    "class Net(nn.Module):\n",
    "    def __init__(self):\n",
    "        super(Net, self).__init__()\n",
    "        dout = nn.Dropout(0.1)\n",
    "        self.conv1 = nn.Sequential(\n",
    "          nn.Conv2d(1, 16, 3),\n",
    "          nn.ReLU(),\n",
    "          nn.BatchNorm2d(16),\n",
    "          dout\n",
    "        ) #26\n",
    "        self.conv2 = nn.Sequential(\n",
    "          nn.Conv2d(16, 32, 3),\n",
    "          nn.ReLU(),\n",
    "          nn.BatchNorm2d(32),\n",
    "          dout\n",
    "        ) #24\n",
    "        \n",
    "        self.conv3 = nn.Conv2d(32,10,1) #24\n",
    "\n",
    "        self.pool1 = nn.MaxPool2d(2,2) #12\n",
    "\n",
    "        self.conv4 = nn.Sequential(\n",
    "          nn.Conv2d(10, 10, 3),\n",
    "          nn.ReLU(),\n",
    "          nn.BatchNorm2d(10),\n",
    "          dout\n",
    "        ) #10\n",
    "        \n",
    "        self.conv5 = nn.Sequential(\n",
    "          nn.Conv2d(10, 16, 3),\n",
    "          nn.ReLU(),\n",
    "          nn.BatchNorm2d(16),\n",
    "          dout\n",
    "        ) #8\n",
    "        \n",
    "        self.conv6 = nn.Sequential(\n",
    "          nn.Conv2d(16, 16, 3),\n",
    "          nn.ReLU(),\n",
    "          nn.BatchNorm2d(16),\n",
    "          dout\n",
    "        ) #6\n",
    "        \n",
    "        self.conv7 = nn.Sequential(\n",
    "          nn.Conv2d(16, 16, 3),\n",
    "          nn.ReLU(),\n",
    "          #nn.BatchNorm2d(16),\n",
    "          dout\n",
    "        ) #4\n",
    "        \n",
    "        self.conv8 = nn.Sequential(\n",
    "          nn.Conv2d(16, 10, 4),\n",
    "          #nn.ReLU(),\n",
    "          #nn.BatchNorm2d(10),\n",
    "          dout          \n",
    "        ) #1\n",
    "        \n",
    "\n",
    "\n",
    "    def forward(self, x):\n",
    "        x = self.conv1(x)  # i = 28  o = 26  RF= 3\n",
    "        x = self.conv2(x)  # i = 26  o = 24  RF= 5\n",
    "        x = self.conv3(x)  # i = 24  o = 24  RF= 5\n",
    "        x = self.pool1(x)  # i = 24  o = 12  RF= 10\n",
    "        x = self.conv4(x)  # i = 12  o = 10  RF= 12\n",
    "        x = self.conv5(x)  # i = 10  o = 8   RF= 14\n",
    "        #x = self.pool1(x)\n",
    "        x = self.conv6(x)  # i = 8  o = 6  RF= 16\n",
    "        x = self.conv7(x)  # i = 6  o = 4  RF= 18\n",
    "        x = self.conv8(x)  # i = 4  o = 1  RF= 20\n",
    "        #set_trace()\n",
    "        x = x.view(-1, 10)\n",
    "        #return F.log_softmax(x)\n",
    "        #nn.Flatten(x)\n",
    "        return F.softmax(x)\n"
   ]
  },
  {
   "cell_type": "code",
   "execution_count": 3,
   "metadata": {},
   "outputs": [
    {
     "name": "stderr",
     "output_type": "stream",
     "text": [
      "C:\\Users\\skanukollu\\AppData\\Local\\Continuum\\anaconda3\\lib\\site-packages\\ipykernel_launcher.py:74: UserWarning: Implicit dimension choice for softmax has been deprecated. Change the call to include dim=X as an argument.\n"
     ]
    },
    {
     "name": "stdout",
     "output_type": "stream",
     "text": [
      "----------------------------------------------------------------\n",
      "        Layer (type)               Output Shape         Param #\n",
      "================================================================\n",
      "            Conv2d-1           [-1, 16, 26, 26]             160\n",
      "              ReLU-2           [-1, 16, 26, 26]               0\n",
      "       BatchNorm2d-3           [-1, 16, 26, 26]              32\n",
      "           Dropout-4           [-1, 16, 26, 26]               0\n",
      "           Dropout-5           [-1, 16, 26, 26]               0\n",
      "           Dropout-6           [-1, 16, 26, 26]               0\n",
      "           Dropout-7           [-1, 16, 26, 26]               0\n",
      "           Dropout-8           [-1, 16, 26, 26]               0\n",
      "           Dropout-9           [-1, 16, 26, 26]               0\n",
      "          Dropout-10           [-1, 16, 26, 26]               0\n",
      "           Conv2d-11           [-1, 32, 24, 24]           4,640\n",
      "             ReLU-12           [-1, 32, 24, 24]               0\n",
      "      BatchNorm2d-13           [-1, 32, 24, 24]              64\n",
      "          Dropout-14           [-1, 32, 24, 24]               0\n",
      "          Dropout-15           [-1, 32, 24, 24]               0\n",
      "          Dropout-16           [-1, 32, 24, 24]               0\n",
      "          Dropout-17           [-1, 32, 24, 24]               0\n",
      "          Dropout-18           [-1, 32, 24, 24]               0\n",
      "          Dropout-19           [-1, 32, 24, 24]               0\n",
      "          Dropout-20           [-1, 32, 24, 24]               0\n",
      "           Conv2d-21           [-1, 10, 24, 24]             330\n",
      "        MaxPool2d-22           [-1, 10, 12, 12]               0\n",
      "           Conv2d-23           [-1, 10, 10, 10]             910\n",
      "             ReLU-24           [-1, 10, 10, 10]               0\n",
      "      BatchNorm2d-25           [-1, 10, 10, 10]              20\n",
      "          Dropout-26           [-1, 10, 10, 10]               0\n",
      "          Dropout-27           [-1, 10, 10, 10]               0\n",
      "          Dropout-28           [-1, 10, 10, 10]               0\n",
      "          Dropout-29           [-1, 10, 10, 10]               0\n",
      "          Dropout-30           [-1, 10, 10, 10]               0\n",
      "          Dropout-31           [-1, 10, 10, 10]               0\n",
      "          Dropout-32           [-1, 10, 10, 10]               0\n",
      "           Conv2d-33             [-1, 16, 8, 8]           1,456\n",
      "             ReLU-34             [-1, 16, 8, 8]               0\n",
      "      BatchNorm2d-35             [-1, 16, 8, 8]              32\n",
      "          Dropout-36             [-1, 16, 8, 8]               0\n",
      "          Dropout-37             [-1, 16, 8, 8]               0\n",
      "          Dropout-38             [-1, 16, 8, 8]               0\n",
      "          Dropout-39             [-1, 16, 8, 8]               0\n",
      "          Dropout-40             [-1, 16, 8, 8]               0\n",
      "          Dropout-41             [-1, 16, 8, 8]               0\n",
      "          Dropout-42             [-1, 16, 8, 8]               0\n",
      "           Conv2d-43             [-1, 16, 6, 6]           2,320\n",
      "             ReLU-44             [-1, 16, 6, 6]               0\n",
      "      BatchNorm2d-45             [-1, 16, 6, 6]              32\n",
      "          Dropout-46             [-1, 16, 6, 6]               0\n",
      "          Dropout-47             [-1, 16, 6, 6]               0\n",
      "          Dropout-48             [-1, 16, 6, 6]               0\n",
      "          Dropout-49             [-1, 16, 6, 6]               0\n",
      "          Dropout-50             [-1, 16, 6, 6]               0\n",
      "          Dropout-51             [-1, 16, 6, 6]               0\n",
      "          Dropout-52             [-1, 16, 6, 6]               0\n",
      "           Conv2d-53             [-1, 16, 4, 4]           2,320\n",
      "             ReLU-54             [-1, 16, 4, 4]               0\n",
      "          Dropout-55             [-1, 16, 4, 4]               0\n",
      "          Dropout-56             [-1, 16, 4, 4]               0\n",
      "          Dropout-57             [-1, 16, 4, 4]               0\n",
      "          Dropout-58             [-1, 16, 4, 4]               0\n",
      "          Dropout-59             [-1, 16, 4, 4]               0\n",
      "          Dropout-60             [-1, 16, 4, 4]               0\n",
      "          Dropout-61             [-1, 16, 4, 4]               0\n",
      "           Conv2d-62             [-1, 10, 1, 1]           2,570\n",
      "          Dropout-63             [-1, 10, 1, 1]               0\n",
      "          Dropout-64             [-1, 10, 1, 1]               0\n",
      "          Dropout-65             [-1, 10, 1, 1]               0\n",
      "          Dropout-66             [-1, 10, 1, 1]               0\n",
      "          Dropout-67             [-1, 10, 1, 1]               0\n",
      "          Dropout-68             [-1, 10, 1, 1]               0\n",
      "          Dropout-69             [-1, 10, 1, 1]               0\n",
      "================================================================\n",
      "Total params: 14,886\n",
      "Trainable params: 14,886\n",
      "Non-trainable params: 0\n",
      "----------------------------------------------------------------\n",
      "Input size (MB): 0.00\n",
      "Forward/backward pass size (MB): 2.50\n",
      "Params size (MB): 0.06\n",
      "Estimated Total Size (MB): 2.56\n",
      "----------------------------------------------------------------\n"
     ]
    }
   ],
   "source": [
    "from torchsummary import summary\n",
    "use_cuda = torch.cuda.is_available()\n",
    "device = torch.device(\"cuda\" if use_cuda else \"cpu\")\n",
    "model = Net().to(device)\n",
    "summary(model, input_size=(1, 28, 28))"
   ]
  },
  {
   "cell_type": "code",
   "execution_count": 4,
   "metadata": {},
   "outputs": [],
   "source": [
    "\n",
    "torch.manual_seed(1)\n",
    "batch_size = 128\n",
    "\n",
    "\n",
    "kwargs = {'num_workers': 1, 'pin_memory': True} if use_cuda else {}\n",
    "train_loader = torch.utils.data.DataLoader(\n",
    "    datasets.MNIST('.', train=True, download=True,\n",
    "                    transform=transforms.Compose([\n",
    "                        transforms.ToTensor(),\n",
    "                        transforms.Normalize((0.1307,), (0.3081,))\n",
    "                    ])),\n",
    "    batch_size=batch_size, shuffle=True, **kwargs)\n",
    "test_loader = torch.utils.data.DataLoader(\n",
    "    datasets.MNIST('.', train=False, transform=transforms.Compose([\n",
    "                        transforms.ToTensor(),\n",
    "                        transforms.Normalize((0.1307,), (0.3081,))\n",
    "                    ])),\n",
    "    batch_size=batch_size, shuffle=True, **kwargs)"
   ]
  },
  {
   "cell_type": "code",
   "execution_count": 5,
   "metadata": {},
   "outputs": [
    {
     "name": "stdout",
     "output_type": "stream",
     "text": [
      "torch.Size([128, 1, 28, 28])\n",
      "torch.Size([128])\n"
     ]
    },
    {
     "data": {
      "image/png": "[encoded data removed]",
      "text/plain": [
       "<Figure size 432x288 with 1 Axes>"
      ]
     },
     "metadata": {
      "needs_background": "light"
     },
     "output_type": "display_data"
    },
    {
     "data": {
      "image/png": "[encoded data removed]",
      "text/plain": [
       "<Figure size 432x288 with 60 Axes>"
      ]
     },
     "metadata": {
      "needs_background": "light"
     },
     "output_type": "display_data"
    }
   ],
   "source": [
    "dataiter = iter(train_loader)\n",
    "images, labels = dataiter.next()\n",
    "\n",
    "print(images.shape)\n",
    "print(labels.shape)\n",
    "\n",
    "plt.imshow(images[0].numpy().squeeze(), cmap='gray_r')\n",
    "\n",
    "figure = plt.figure()\n",
    "num_of_images = 60\n",
    "for index in range(1, num_of_images + 1):\n",
    "    plt.subplot(6, 10, index)\n",
    "    plt.axis('off')\n",
    "    plt.imshow(images[index].numpy().squeeze(), cmap='gray_r')\n",
    "\n",
    "\n"
   ]
  },
  {
   "cell_type": "code",
   "execution_count": 6,
   "metadata": {},
   "outputs": [],
   "source": [
    "criterion = nn.NLLLoss()\n",
    "images, labels = next(iter(train_loader))\n",
    "images = images.view(images.shape[0], -1)\n",
    "\n",
    "#logps = model(images) #log probabilities\n",
    "#loss = criterion(logps, labels) #calculate the NLL loss"
   ]
  },
  {
   "cell_type": "code",
   "execution_count": null,
   "metadata": {},
   "outputs": [],
   "source": [
    "from tqdm import tqdm\n",
    "log_interval = 10\n",
    "def train(model, device, train_loader, optimizer, epoch):\n",
    "    model.train()\n",
    "    pbar = tqdm(train_loader)\n",
    "    for batch_idx, (data, target) in enumerate(pbar):\n",
    "        data, target = data.to(device), target.to(device)\n",
    "        #set_trace()\n",
    "        \n",
    "        optimizer.zero_grad()\n",
    "        output = model(data)\n",
    "        \n",
    "        loss = F.nll_loss(output, target)\n",
    "        #loss = F.cross_entropy(output, target)\n",
    "        loss.backward()\n",
    "        optimizer.step()\n",
    "        pbar.set_description(desc= f'loss={loss.item()} batch_id={batch_idx}')\n",
    "    \n",
    "def test(model, device, test_loader):\n",
    "    model.eval()\n",
    "    test_loss = 0\n",
    "    correct = 0\n",
    "    with torch.no_grad():\n",
    "        for data, target in test_loader:\n",
    "            data, target = data.to(device), target.to(device)\n",
    "            output = model(data)\n",
    "            test_loss += F.nll_loss(output, target, reduction='sum').item()  # sum up batch loss\n",
    "            #test_loss += F.cross_entropy(output, target, reduction='sum').item()  # sum up batch loss\n",
    "            pred = output.argmax(dim=1, keepdim=True)  # get the index of the max log-probability\n",
    "            correct += pred.eq(target.view_as(pred)).sum().item()\n",
    "\n",
    "    test_loss /= len(test_loader.dataset)\n",
    "\n",
    "    print('\\nTest set: Average loss: {:.4f}, Accuracy: {}/{} ({:.0f}%)'.format(\n",
    "        test_loss, correct, len(test_loader.dataset),\n",
    "        100. * correct / len(test_loader.dataset)))"
   ]
  },
  {
   "cell_type": "code",
   "execution_count": null,
   "metadata": {},
   "outputs": [],
   "source": [
    "model = Net().to(device)\n",
    "optimizer = optim.SGD(model.parameters(), lr=0.003, momentum=0.9)\n",
    "\n",
    "for epoch in range(1, 6):\n",
    "    #set_trace()\n",
    "    print('\\n##### Epoch Number : %d ######'%epoch)\n",
    "    train(model, device, train_loader, optimizer, epoch)\n",
    "    test(model, device, test_loader)"
   ]
  },
  {
   "cell_type": "code",
   "execution_count": null,
   "metadata": {},
   "outputs": [],
   "source": [
    "torch.save(model.state_dict(),'mnist_v2.pt')"
   ]
  },
  {
   "cell_type": "code",
   "execution_count": 7,
   "metadata": {},
   "outputs": [
    {
     "data": {
      "text/plain": [
       "odict_keys(['conv1.0.weight', 'conv1.0.bias', 'conv1.2.weight', 'conv1.2.bias', 'conv1.2.running_mean', 'conv1.2.running_var', 'conv1.2.num_batches_tracked', 'conv2.0.weight', 'conv2.0.bias', 'conv2.2.weight', 'conv2.2.bias', 'conv2.2.running_mean', 'conv2.2.running_var', 'conv2.2.num_batches_tracked', 'conv3.weight', 'conv3.bias', 'conv4.0.weight', 'conv4.0.bias', 'conv4.2.weight', 'conv4.2.bias', 'conv4.2.running_mean', 'conv4.2.running_var', 'conv4.2.num_batches_tracked', 'conv5.0.weight', 'conv5.0.bias', 'conv5.2.weight', 'conv5.2.bias', 'conv5.2.running_mean', 'conv5.2.running_var', 'conv5.2.num_batches_tracked', 'conv6.0.weight', 'conv6.0.bias', 'conv6.2.weight', 'conv6.2.bias', 'conv6.2.running_mean', 'conv6.2.running_var', 'conv6.2.num_batches_tracked', 'conv7.0.weight', 'conv7.0.bias', 'conv8.0.weight', 'conv8.0.bias'])"
      ]
     },
     "execution_count": 7,
     "metadata": {},
     "output_type": "execute_result"
    }
   ],
   "source": [
    "chkpnt = torch.load('mnist_v2.pt')\n",
    "chkpnt.keys()"
   ]
  },
  {
   "cell_type": "code",
   "execution_count": 8,
   "metadata": {},
   "outputs": [
    {
     "data": {
      "text/plain": [
       "Net(\n",
       "  (conv1): Sequential(\n",
       "    (0): Conv2d(1, 16, kernel_size=(3, 3), stride=(1, 1))\n",
       "    (1): ReLU()\n",
       "    (2): BatchNorm2d(16, eps=1e-05, momentum=0.1, affine=True, track_running_stats=True)\n",
       "    (3): Dropout(p=0.1, inplace=False)\n",
       "  )\n",
       "  (conv2): Sequential(\n",
       "    (0): Conv2d(16, 32, kernel_size=(3, 3), stride=(1, 1))\n",
       "    (1): ReLU()\n",
       "    (2): BatchNorm2d(32, eps=1e-05, momentum=0.1, affine=True, track_running_stats=True)\n",
       "    (3): Dropout(p=0.1, inplace=False)\n",
       "  )\n",
       "  (conv3): Conv2d(32, 10, kernel_size=(1, 1), stride=(1, 1))\n",
       "  (pool1): MaxPool2d(kernel_size=2, stride=2, padding=0, dilation=1, ceil_mode=False)\n",
       "  (conv4): Sequential(\n",
       "    (0): Conv2d(10, 10, kernel_size=(3, 3), stride=(1, 1))\n",
       "    (1): ReLU()\n",
       "    (2): BatchNorm2d(10, eps=1e-05, momentum=0.1, affine=True, track_running_stats=True)\n",
       "    (3): Dropout(p=0.1, inplace=False)\n",
       "  )\n",
       "  (conv5): Sequential(\n",
       "    (0): Conv2d(10, 16, kernel_size=(3, 3), stride=(1, 1))\n",
       "    (1): ReLU()\n",
       "    (2): BatchNorm2d(16, eps=1e-05, momentum=0.1, affine=True, track_running_stats=True)\n",
       "    (3): Dropout(p=0.1, inplace=False)\n",
       "  )\n",
       "  (conv6): Sequential(\n",
       "    (0): Conv2d(16, 16, kernel_size=(3, 3), stride=(1, 1))\n",
       "    (1): ReLU()\n",
       "    (2): BatchNorm2d(16, eps=1e-05, momentum=0.1, affine=True, track_running_stats=True)\n",
       "    (3): Dropout(p=0.1, inplace=False)\n",
       "  )\n",
       "  (conv7): Sequential(\n",
       "    (0): Conv2d(16, 16, kernel_size=(3, 3), stride=(1, 1))\n",
       "    (1): ReLU()\n",
       "    (2): Dropout(p=0.1, inplace=False)\n",
       "  )\n",
       "  (conv8): Sequential(\n",
       "    (0): Conv2d(16, 10, kernel_size=(4, 4), stride=(1, 1))\n",
       "    (1): Dropout(p=0.1, inplace=False)\n",
       "  )\n",
       ")"
      ]
     },
     "execution_count": 8,
     "metadata": {},
     "output_type": "execute_result"
    }
   ],
   "source": [
    "dep_model = Net().to(device)\n",
    "dep_model.load_state_dict(chkpnt)\n",
    "dep_model.eval()"
   ]
  },
  {
   "cell_type": "code",
   "execution_count": 21,
   "metadata": {},
   "outputs": [
    {
     "data": {
      "image/png": "[encoded data removed]",
      "text/plain": [
       "<Figure size 1080x360 with 3 Axes>"
      ]
     },
     "metadata": {
      "needs_background": "light"
     },
     "output_type": "display_data"
    }
   ],
   "source": [
    "from PIL import Image\n",
    "r_img = Image.open('resized.jpeg')\n",
    "A_img = Image.open('ActualImg.jpeg')\n",
    "v_img = Image.open('vect.jpeg')\n",
    "\n",
    "\n",
    "fig,ax = plt.subplots(1,3,figsize=(15,5))\n",
    "ax[0].imshow(A_img)\n",
    "ax[0].set_title(\"Actual IMG\");\n",
    "\n",
    "ax[1].imshow(r_img)\n",
    "ax[1].set_title(\"Resized IMG\");\n",
    "\n",
    "ax[2].imshow(r_img)\n",
    "ax[2].set_title(\"Vector IMG\");"
   ]
  },
  {
   "cell_type": "code",
   "execution_count": 11,
   "metadata": {},
   "outputs": [
    {
     "name": "stdout",
     "output_type": "stream",
     "text": [
      "### Tensor Img shape is : torch.Size([1, 28, 28])\n"
     ]
    }
   ],
   "source": [
    "from torchvision import transforms\n",
    "img_t = transforms.ToTensor()(r_img)\n",
    "device = 'cuda' if torch.cuda.is_available() else 'cpu'\n",
    "img_t = img_t.to(device)\n",
    "print(f'### Tensor Img shape is : {img_t.shape}')"
   ]
  },
  {
   "cell_type": "code",
   "execution_count": 20,
   "metadata": {},
   "outputs": [
    {
     "name": "stderr",
     "output_type": "stream",
     "text": [
      "C:\\Users\\skanukollu\\AppData\\Local\\Continuum\\anaconda3\\lib\\site-packages\\ipykernel_launcher.py:74: UserWarning: Implicit dimension choice for softmax has been deprecated. Change the call to include dim=X as an argument.\n"
     ]
    },
    {
     "data": {
      "text/plain": [
       "tensor(8)"
      ]
     },
     "execution_count": 20,
     "metadata": {},
     "output_type": "execute_result"
    }
   ],
   "source": [
    "dep_model(img_t.unsqueeze(0)).argmax()"
   ]
  },
  {
   "cell_type": "code",
   "execution_count": 19,
   "metadata": {},
   "outputs": [
    {
     "data": {
      "text/plain": [
       "<matplotlib.image.AxesImage at 0x21ceaaa99c8>"
      ]
     },
     "execution_count": 19,
     "metadata": {},
     "output_type": "execute_result"
    },
    {
     "data": {
      "image/png": "[encoded data removed]",
      "text/plain": [
       "<Figure size 432x288 with 1 Axes>"
      ]
     },
     "metadata": {
      "needs_background": "light"
     },
     "output_type": "display_data"
    }
   ],
   "source": [
    "img_pil = transforms.ToPILImage()\n",
    "plt.imshow(img_pil(images[0].unsqueeze(0)))"
   ]
  },
  {
   "cell_type": "code",
   "execution_count": null,
   "metadata": {},
   "outputs": [],
   "source": [
    "img_t.unsqueeze(0).numpy().shape"
   ]
  },
  {
   "cell_type": "code",
   "execution_count": 14,
   "metadata": {},
   "outputs": [
    {
     "data": {
      "text/plain": [
       "784"
      ]
     },
     "execution_count": 14,
     "metadata": {},
     "output_type": "execute_result"
    }
   ],
   "source": [
    "28*28"
   ]
  },
  {
   "cell_type": "code",
   "execution_count": null,
   "metadata": {},
   "outputs": [],
   "source": []
  }
 ],
 "metadata": {
  "kernelspec": {
   "display_name": "Python 3",
   "language": "python",
   "name": "python3"
  },
  "language_info": {
   "codemirror_mode": {
    "name": "ipython",
    "version": 3
   },
   "file_extension": ".py",
   "mimetype": "text/x-python",
   "name": "python",
   "nbconvert_exporter": "python",
   "pygments_lexer": "ipython3",
   "version": "3.7.4"
  }
 },
 "nbformat": 4,
 "nbformat_minor": 2
}
